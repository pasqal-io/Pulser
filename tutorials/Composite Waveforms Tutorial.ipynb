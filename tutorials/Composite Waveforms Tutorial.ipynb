{
 "cells": [
  {
   "cell_type": "code",
   "execution_count": null,
   "metadata": {},
   "outputs": [],
   "source": [
    "import numpy as np\n",
    "from pulser.waveforms import BlackmanWaveform, RampWaveform, CompositeWaveform, ConstantWaveform"
   ]
  },
  {
   "cell_type": "markdown",
   "metadata": {},
   "source": [
    "The `CompositeWaveform` allows for creation of more complex waveforms by concatenation of multiple waveforms."
   ]
  },
  {
   "cell_type": "code",
   "execution_count": null,
   "metadata": {},
   "outputs": [],
   "source": [
    "#Defining simple waveforms\n",
    "pi_pulse = BlackmanWaveform(1000, np.pi)   # Blackman pi-pulse of 1us\n",
    "up = RampWaveform(500, 0, 5)\n",
    "down = RampWaveform(500, 5, 0)\n",
    "\n",
    "print('Pi-pulse:')\n",
    "pi_pulse.draw()\n",
    "print('Ramp up:')\n",
    "up.draw()\n",
    "print('Ramp down:')\n",
    "down.draw()"
   ]
  },
  {
   "cell_type": "code",
   "execution_count": null,
   "metadata": {},
   "outputs": [],
   "source": [
    "#Creating the CompositeWaveform\n",
    "comp_wf = CompositeWaveform(pi_pulse, up, down)\n",
    "comp_wf.draw()"
   ]
  },
  {
   "cell_type": "code",
   "execution_count": null,
   "metadata": {},
   "outputs": [],
   "source": [
    "#Appending another pi-pulse after the triangle\n",
    "comp_wf.append(pi_pulse)\n",
    "comp_wf.draw()"
   ]
  },
  {
   "cell_type": "code",
   "execution_count": null,
   "metadata": {
    "scrolled": true
   },
   "outputs": [],
   "source": [
    "# Inserting a plateau between the ramps (this one is more advanced, as it requires counting the pulses)\n",
    "comp_wf.waveforms"
   ]
  },
  {
   "cell_type": "code",
   "execution_count": null,
   "metadata": {},
   "outputs": [],
   "source": [
    "comp_wf.insert(ConstantWaveform(200, 5), where=2) # Inserts before the pulse in index 2 (the ramp down)\n",
    "comp_wf.draw()"
   ]
  },
  {
   "cell_type": "code",
   "execution_count": null,
   "metadata": {},
   "outputs": [],
   "source": [
    "# All usual metrics are still availabe\n",
    "print(\"Composite pulse duration: \", comp_wf.duration)\n",
    "print(\"Composite pulse area: \", comp_wf.integral)"
   ]
  }
 ],
 "metadata": {
  "kernelspec": {
   "display_name": "pulser-dev",
   "language": "python",
   "name": "pulser-dev"
  },
  "language_info": {
   "codemirror_mode": {
    "name": "ipython",
    "version": 3
   },
   "file_extension": ".py",
   "mimetype": "text/x-python",
   "name": "python",
   "nbconvert_exporter": "python",
   "pygments_lexer": "ipython3",
   "version": "3.8.5"
  }
 },
 "nbformat": 4,
 "nbformat_minor": 4
}
