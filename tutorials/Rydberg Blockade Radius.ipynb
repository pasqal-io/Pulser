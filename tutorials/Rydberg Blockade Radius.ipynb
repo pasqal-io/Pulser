{
 "cells": [
  {
   "cell_type": "markdown",
   "metadata": {},
   "source": [
    "# Rydberg Blockade Radius"
   ]
  },
  {
   "cell_type": "markdown",
   "metadata": {},
   "source": [
    "In this notebook we probe the values of the interatomic distance for which we obtain a strong Rydberg Blockade effect."
   ]
  },
  {
   "cell_type": "code",
   "execution_count": null,
   "metadata": {},
   "outputs": [],
   "source": [
    "import numpy as np\n",
    "import matplotlib.pyplot as plt\n",
    "import qutip"
   ]
  },
  {
   "cell_type": "code",
   "execution_count": null,
   "metadata": {},
   "outputs": [],
   "source": [
    "from pulser import Pulse, Sequence, Register\n",
    "from pulser.devices import Chadoq2\n",
    "from pulser.simulation import Simulation\n",
    "from pulser.waveforms import BlackmanWaveform,ConstantWaveform"
   ]
  },
  {
   "cell_type": "code",
   "execution_count": null,
   "metadata": {},
   "outputs": [],
   "source": [
    "duration = 1000 # Natural: ~1 µsec\n",
    "pi_pulse = Pulse(BlackmanWaveform(duration,np.pi),ConstantWaveform(duration,0),0)\n",
    "pi_pulse.draw()"
   ]
  },
  {
   "cell_type": "code",
   "execution_count": null,
   "metadata": {},
   "outputs": [],
   "source": [
    "Omega_max = np.max(pi_pulse.amplitude.samples)\n",
    "R_blockade = (5.008e6/Omega_max)**(1/6)\n",
    "print(R_blockade)"
   ]
  },
  {
   "cell_type": "code",
   "execution_count": null,
   "metadata": {},
   "outputs": [],
   "source": [
    "res = []\n",
    "divisions = 5\n",
    "distances = np.linspace(6.5,11.5,divisions)"
   ]
  },
  {
   "cell_type": "code",
   "execution_count": null,
   "metadata": {},
   "outputs": [],
   "source": [
    "for i,R in enumerate(distances):\n",
    "    print(f'{divisions-i} remaining...')\n",
    "    # Atom Register and Device\n",
    "    reg = Register.rectangle(1,2,spacing=R, prefix='atom')\n",
    "    #reg.draw()\n",
    "\n",
    "    # Pulse Sequence\n",
    "    seq = Sequence(reg, Chadoq2)\n",
    "    seq.declare_channel('ryd','rydberg_local','atom0')\n",
    "    seq.declare_channel('ryd2','rydberg_local2','atom1')\n",
    "    seq.add(pi_pulse,'ryd')\n",
    "    seq.align('ryd','ryd2')\n",
    "    seq.add(pi_pulse,'ryd2')\n",
    "    #seq.draw()\n",
    "\n",
    "    sim = Simulation(seq)\n",
    "    print(sim._U/Omega_max)\n",
    "    plt.show()\n",
    "    #print(sim._hamiltonian.to_list())\n",
    "    occup = qutip.tensor([qutip.qeye(2),qutip.basis(2,0)*qutip.basis(2,0).dag()])\n",
    "    sim.run(obs_list=[occup])\n",
    "    res.append(sim.output.expect[0])"
   ]
  },
  {
   "cell_type": "code",
   "execution_count": null,
   "metadata": {},
   "outputs": [],
   "source": [
    "for i,R in enumerate(distances):\n",
    "    plt.plot(res[i], label=f'R={R}')\n",
    "    plt.legend()"
   ]
  }
 ],
 "metadata": {
  "kernelspec": {
   "display_name": "Python 3",
   "language": "python",
   "name": "python3"
  },
  "language_info": {
   "codemirror_mode": {
    "name": "ipython",
    "version": 3
   },
   "file_extension": ".py",
   "mimetype": "text/x-python",
   "name": "python",
   "nbconvert_exporter": "python",
   "pygments_lexer": "ipython3",
   "version": "3.9.0"
  }
 },
 "nbformat": 4,
 "nbformat_minor": 4
}
