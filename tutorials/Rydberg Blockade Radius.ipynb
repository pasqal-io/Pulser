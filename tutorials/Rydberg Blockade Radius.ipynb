{
 "cells": [
  {
   "cell_type": "markdown",
   "metadata": {},
   "source": [
    "# Rydberg Blockade Radius"
   ]
  },
  {
   "cell_type": "markdown",
   "metadata": {},
   "source": [
    "In this notebook we probe the values of the interatomic distance for which we obtain a strong Rydberg Blockade effect."
   ]
  },
  {
   "cell_type": "code",
   "execution_count": null,
   "metadata": {},
   "outputs": [],
   "source": [
    "import numpy as np\n",
    "import matplotlib.pyplot as plt\n",
    "import qutip"
   ]
  },
  {
   "cell_type": "code",
   "execution_count": null,
   "metadata": {},
   "outputs": [],
   "source": [
    "from pulser import Pulse, Sequence, Register\n",
    "from pulser.devices import Chadoq2\n",
    "from pulser.simulation import Simulation\n",
    "from pulser.waveforms import BlackmanWaveform,ConstantWaveform"
   ]
  },
  {
   "cell_type": "code",
   "execution_count": null,
   "metadata": {},
   "outputs": [],
   "source": [
    "duration = 200\n",
    "pi_pulse = Pulse(BlackmanWaveform(duration,np.pi/(1000)),ConstantWaveform(duration,0),0)\n",
    "pi_pulse.draw()"
   ]
  },
  {
   "cell_type": "code",
   "execution_count": null,
   "metadata": {},
   "outputs": [],
   "source": [
    "res = []\n",
    "N = 6\n",
    "distances = np.linspace(6,12,N)"
   ]
  },
  {
   "cell_type": "code",
   "execution_count": null,
   "metadata": {},
   "outputs": [],
   "source": [
    "for i,R in enumerate(distances):\n",
    "    print(f'{N-i} remaining...')\n",
    "    # Atom Register and Device\n",
    "    reg = Register.rectangle(1,2,spacing=R, prefix='atom')\n",
    "    device = Chadoq2(reg) \n",
    "    #reg.draw()\n",
    "\n",
    "    # Pulse Sequence\n",
    "    seq = Sequence(device)\n",
    "    seq.declare_channel('ryd','rydberg_local','atom0')\n",
    "    seq.declare_channel('ryd2','rydberg_local2','atom1')\n",
    "    seq.add(pi_pulse,'ryd')\n",
    "    seq.align('ryd','ryd2')\n",
    "    seq.add(pi_pulse,'ryd2')\n",
    "    #seq.draw()\n",
    "\n",
    "    sim = Simulation(seq)\n",
    "    obs = qutip.tensor([qutip.qeye(2),qutip.basis(2,0)*qutip.basis(2,0).dag()])\n",
    "    sim.run(obs_list=[obs])\n",
    "    res.append(sim.output.expect[0])"
   ]
  },
  {
   "cell_type": "code",
   "execution_count": null,
   "metadata": {},
   "outputs": [],
   "source": [
    "for i,R in enumerate(distances):\n",
    "    plt.plot(res[i], label=f'Interatomic Distance R={R}')\n",
    "    plt.legend()"
   ]
  },
  {
   "cell_type": "markdown",
   "metadata": {},
   "source": [
    "We conclude that an interatomic distance between $6$ and $8$ $\\mu m$ can give a reasonable Rydberg Blockade radius."
   ]
  }
 ],
 "metadata": {
  "kernelspec": {
   "display_name": "Python 3",
   "language": "python",
   "name": "python3"
  },
  "language_info": {
   "codemirror_mode": {
    "name": "ipython",
    "version": 3
   },
   "file_extension": ".py",
   "mimetype": "text/x-python",
   "name": "python",
   "nbconvert_exporter": "python",
   "pygments_lexer": "ipython3",
   "version": "3.9.0"
  }
 },
 "nbformat": 4,
 "nbformat_minor": 4
}
