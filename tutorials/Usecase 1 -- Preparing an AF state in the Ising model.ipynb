{
 "cells": [
  {
   "cell_type": "markdown",
   "metadata": {},
   "source": [
    "# Preparing an AF state in the Ising model\n",
    "\n",
    "This purpose of this notebook is to illustrate how to build a sequence for preparing an AF state in the Ising model. This notebook is supposed to evolve with code updates. "
   ]
  },
  {
   "cell_type": "code",
   "execution_count": null,
   "metadata": {},
   "outputs": [],
   "source": [
    "import numpy as np\n",
    "\n",
    "from pulser import Pulse, Sequence, Register\n",
    "from pulser.waveforms import ConstantWaveform, RampWaveform\n",
    "from pulser.devices import Chadoq2"
   ]
  },
  {
   "cell_type": "markdown",
   "metadata": {},
   "source": [
    "## Initializing my register"
   ]
  },
  {
   "cell_type": "code",
   "execution_count": null,
   "metadata": {},
   "outputs": [],
   "source": [
    "line_qubits = Register.rectangle(1, 6, spacing=5, prefix='q')\n",
    "line_qubits.draw()"
   ]
  },
  {
   "cell_type": "markdown",
   "metadata": {},
   "source": [
    "## Defining my waveforms \n",
    "\n",
    "We are realizing the following program![AF_Ising_program.png](files/AF_Ising_program.png)"
   ]
  },
  {
   "cell_type": "code",
   "execution_count": null,
   "metadata": {},
   "outputs": [],
   "source": [
    "# Parameters in MHz and ns\n",
    "delta_0 = -8 \n",
    "delta_f = 4  \n",
    "Omega_max = 1.2 \n",
    "t_rise = 250\n",
    "t_fall = 250\n",
    "t_sweep = (delta_f-delta_0)/(2*np.pi*10) * 1000\n",
    "pulses= [] "
   ]
  },
  {
   "cell_type": "code",
   "execution_count": null,
   "metadata": {},
   "outputs": [],
   "source": [
    "rabi_waveform = RampWaveform(t_rise, 0., Omega_max)\n",
    "pulses.append(Pulse.ConstantDetuning(rabi_waveform, delta_0, 0.))\n",
    "print(Pulse.ConstantDetuning(rabi_waveform, delta_0, 0.))"
   ]
  },
  {
   "cell_type": "code",
   "execution_count": null,
   "metadata": {},
   "outputs": [],
   "source": [
    "detuning_waveform = RampWaveform(t_sweep, delta_0, delta_f)\n",
    "pulses.append(Pulse.ConstantAmplitude(Omega_max, detuning_waveform, 0.))"
   ]
  },
  {
   "cell_type": "code",
   "execution_count": null,
   "metadata": {},
   "outputs": [],
   "source": [
    "rabi_waveform = RampWaveform(t_fall, Omega_max, 0.)\n",
    "pulses.append(Pulse.ConstantDetuning(rabi_waveform, delta_f, 0.))"
   ]
  },
  {
   "cell_type": "markdown",
   "metadata": {},
   "source": [
    "## Creating my sequence"
   ]
  },
  {
   "cell_type": "code",
   "execution_count": null,
   "metadata": {},
   "outputs": [],
   "source": [
    "af_sequence = Sequence(line_qubits, Chadoq2)"
   ]
  },
  {
   "cell_type": "code",
   "execution_count": null,
   "metadata": {},
   "outputs": [],
   "source": [
    "af_sequence.available_channels"
   ]
  },
  {
   "cell_type": "code",
   "execution_count": null,
   "metadata": {},
   "outputs": [],
   "source": [
    "## Are we sure about the values here ?"
   ]
  },
  {
   "cell_type": "code",
   "execution_count": null,
   "metadata": {},
   "outputs": [],
   "source": [
    "af_sequence.declare_channel('Ising_channel', 'rydberg_global')"
   ]
  },
  {
   "cell_type": "code",
   "execution_count": null,
   "metadata": {},
   "outputs": [],
   "source": [
    "for pulse in pulses:\n",
    "    print(pulse)\n",
    "    af_sequence.add(pulse, 'Ising_channel')"
   ]
  },
  {
   "cell_type": "code",
   "execution_count": null,
   "metadata": {},
   "outputs": [],
   "source": [
    "print(af_sequence)\n",
    "af_sequence.draw()"
   ]
  }
 ],
 "metadata": {
  "kernelspec": {
   "display_name": "pulser-dev",
   "language": "python",
   "name": "pulser-dev"
  },
  "language_info": {
   "codemirror_mode": {
    "name": "ipython",
    "version": 3
   },
   "file_extension": ".py",
   "mimetype": "text/x-python",
   "name": "python",
   "nbconvert_exporter": "python",
   "pygments_lexer": "ipython3",
   "version": "3.8.5"
  }
 },
 "nbformat": 4,
 "nbformat_minor": 4
}
