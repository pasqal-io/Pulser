{
 "cells": [
  {
   "cell_type": "markdown",
   "metadata": {},
   "source": [
    "# SPAM errors"
   ]
  },
  {
   "cell_type": "markdown",
   "metadata": {},
   "source": [
    "## Introduction\n",
    "State Preparation And Measurement (SPAM) errors were introduced in the introductory tutorial [Simulating sequences with errors and noises](noisy_sim.nblink). They will be further detailed in this notebook. We recommend you to check the introductory tutorial before going through this one.\n",
    "\n",
    "SPAM errors can be:\n",
    "\n",
    "- A state preparation error (with probability η for each atom), where an atom is not correctly pumped to the ground state at the beginning, making it effectively unavailable throughout the sequence.\n",
    "- Measurement errors which are linked to the incorrect identification of the final state of the atoms: during the imaging process, excited rydberg atoms in $\\ket{r}$ might decay to the state $\\ket{g}$, allowing them to be trapped in the tweezers. This produces false negatives with rate $\\epsilon'$. \n",
    "- On the contrary, some atoms in the ground state $\\ket{g}$ might be kicked out for various reasons (e.g. collisions with residual gas in the chamber) and tweezers recapture might fail, inferring them incorrectly as atoms in the excited state $\\ket{r}$ - those are the false positives that happen with rate $\\epsilon$.\n"
   ]
  },
  {
   "cell_type": "code",
   "execution_count": null,
   "metadata": {},
   "outputs": [],
   "source": [
    "import numpy as np\n",
    "import matplotlib.pyplot as plt\n",
    "import qutip\n",
    "\n",
    "from pulser import Register, Pulse, Sequence\n",
    "from pulser_simulation import SimConfig, QutipEmulator\n",
    "from pulser.devices import Chadoq2"
   ]
  },
  {
   "cell_type": "markdown",
   "metadata": {},
   "source": [
    "## Single atom noisy simulations"
   ]
  },
  {
   "cell_type": "markdown",
   "metadata": {},
   "source": [
    "### Sequence preparation"
   ]
  },
  {
   "cell_type": "markdown",
   "metadata": {},
   "source": [
    "We prepare a single atom."
   ]
  },
  {
   "cell_type": "code",
   "execution_count": null,
   "metadata": {},
   "outputs": [],
   "source": [
    "reg = Register.from_coordinates([(0, 0)], prefix=\"q\")"
   ]
  },
  {
   "cell_type": "markdown",
   "metadata": {},
   "source": [
    "We act on this atom with a Constant Pulse, such that it oscillates between the ground state and excited Rydberg state (Rabi oscillations):"
   ]
  },
  {
   "cell_type": "code",
   "execution_count": null,
   "metadata": {
    "scrolled": true
   },
   "outputs": [],
   "source": [
    "seq = Sequence(reg, Chadoq2)\n",
    "seq.declare_channel(\"channel 0\", \"rydberg_global\")\n",
    "duration = 2500\n",
    "pulse = Pulse.ConstantPulse(duration, 2 * np.pi, 0.0, 0.0)\n",
    "seq.add(pulse, \"channel 0\")\n",
    "seq.draw()"
   ]
  },
  {
   "cell_type": "markdown",
   "metadata": {},
   "source": [
    "We now create the simulation object and an observable which describes the excited state population."
   ]
  },
  {
   "cell_type": "code",
   "execution_count": null,
   "metadata": {},
   "outputs": [],
   "source": [
    "sim = QutipEmulator.from_sequence(seq, sampling_rate=0.05)\n",
    "obs = qutip.basis(2, 0).proj()"
   ]
  },
  {
   "cell_type": "markdown",
   "metadata": {},
   "source": [
    "## SPAM effects"
   ]
  },
  {
   "cell_type": "markdown",
   "metadata": {},
   "source": [
    "In this part we compare noiseless and noisy simulations for the default SPAM parameters (taken from [De Léséleuc, et al., 2018](https://arxiv.org/abs/1802.10424))"
   ]
  },
  {
   "cell_type": "code",
   "execution_count": null,
   "metadata": {
    "scrolled": true
   },
   "outputs": [],
   "source": [
    "# SPAM configuration\n",
    "config_spam = SimConfig(noise=(\"SPAM\"), runs=30, samples_per_run=5)\n",
    "\n",
    "# Integration of the SPAM noise configuration to the simulation\n",
    "sim.set_config(config_spam)\n",
    "sim.show_config()\n",
    "\n",
    "# Simulation storing 40% of the results:\n",
    "sim.set_evaluation_times(0.4)\n",
    "res_spam = sim.run()"
   ]
  },
  {
   "cell_type": "code",
   "execution_count": null,
   "metadata": {},
   "outputs": [],
   "source": [
    "res_spam.plot(obs, label=\"With SPAM errors\")\n",
    "\n",
    "# Noiseless simulation:\n",
    "sim.reset_config()\n",
    "res_clean = sim.run()\n",
    "res_clean.plot(obs, label=\"Noiseless simulation\")\n",
    "plt.legend(bbox_to_anchor=(1.05, 1), loc=\"upper left\", borderaxespad=0.0)\n",
    "plt.ylabel(\"Excited state population\")\n",
    "plt.show()"
   ]
  },
  {
   "cell_type": "markdown",
   "metadata": {},
   "source": [
    "Let's modify the *SPAM* dictionary to increase the state preparation error rate ($\\eta=40$%)."
   ]
  },
  {
   "cell_type": "code",
   "execution_count": null,
   "metadata": {},
   "outputs": [],
   "source": [
    "config_spam_mod = SimConfig(noise=(\"SPAM\"), eta=0.4, runs=100)\n",
    "sim.set_config(config_spam_mod)\n",
    "sim.set_evaluation_times(0.5)\n",
    "res_large_eta = sim.run()\n",
    "\n",
    "plt.figure()\n",
    "plt.ylim(0, 1)\n",
    "plt.axhline(\n",
    "    1 - config_spam_mod.eta, color=\"black\", linestyle=\"--\", label=r\"1 - $\\eta$\"\n",
    ")\n",
    "res_large_eta.plot(obs, label=\"With SPAM errors\")\n",
    "res_clean.plot(obs, label=\"Noiseless simulation\")\n",
    "plt.legend(bbox_to_anchor=(1.05, 1), loc=\"upper left\", borderaxespad=0.0)\n",
    "plt.ylabel(\"Excited state population\")\n",
    "plt.show()"
   ]
  },
  {
   "cell_type": "markdown",
   "metadata": {},
   "source": [
    "We can observe here that the population doesn't go above $0.6 = 1 - \\eta$, which is to be expected: badly prepared atoms are not used at all in the simulations. The more runs we perform, the closer the maximum population will be to $0.6$."
   ]
  },
  {
   "cell_type": "markdown",
   "metadata": {},
   "source": [
    "## Changing $\\eta$"
   ]
  },
  {
   "cell_type": "markdown",
   "metadata": {},
   "source": [
    "First, we reset all SPAM errors values to $0$. Then, we do a sweep over the parameter $\\eta$ to see how it modifies the simulation results."
   ]
  },
  {
   "cell_type": "code",
   "execution_count": null,
   "metadata": {},
   "outputs": [],
   "source": [
    "res_clean.plot(obs)\n",
    "for eta in np.linspace(0, 0.99, 4):\n",
    "    config_spam_eta = SimConfig(\n",
    "        noise=\"SPAM\", eta=eta, runs=50, epsilon=0, epsilon_prime=0\n",
    "    )\n",
    "    sim.set_config(config_spam_eta)\n",
    "    sim.run().plot(obs, label=rf\"$\\eta$ = {eta}\")\n",
    "plt.legend(bbox_to_anchor=(1.01, 1), loc=\"upper left\", borderaxespad=0.0)\n",
    "plt.ylabel(\"Excited state population\")\n",
    "plt.show()"
   ]
  },
  {
   "cell_type": "markdown",
   "metadata": {},
   "source": [
    "As $\\eta$ grows, more atoms are badly prepared (i.e, pumped into a state different from $\\ket{g}$) and so less atoms are excited into the Rydberg state. You can increase the number of runs to smooth the curves."
   ]
  },
  {
   "cell_type": "markdown",
   "metadata": {},
   "source": [
    "### Changing $\\epsilon$ and $\\epsilon'$"
   ]
  },
  {
   "cell_type": "markdown",
   "metadata": {},
   "source": [
    "Let's now compare sweeps over $\\epsilon$ and $\\epsilon'$ side by side:"
   ]
  },
  {
   "cell_type": "code",
   "execution_count": null,
   "metadata": {},
   "outputs": [],
   "source": [
    "res_clean.plot(obs, label=\"Noiseless simulation\")\n",
    "for eps in np.linspace(0, 0.99, 4):\n",
    "    config_spam_eps = SimConfig(\n",
    "        noise=\"SPAM\", eta=1e-8, runs=50, epsilon=eps, epsilon_prime=0\n",
    "    )\n",
    "    sim.set_config(config_spam_eps)\n",
    "    sim.run().plot(obs, label=rf\"$\\epsilon$ = {eps}\")\n",
    "plt.legend(bbox_to_anchor=(1.01, 1), loc=\"upper left\", borderaxespad=0.0)\n",
    "plt.ylabel(\"Excited state population\")\n",
    "plt.show()"
   ]
  },
  {
   "cell_type": "markdown",
   "metadata": {},
   "source": [
    "When we increase the proportion of false positives, the percentage of atoms in the excited state increases as expected. Note that when $\\eta=0$, the results object we obtain is a `CoherentResults` rather than a `NoisyResults`. This is because state preparation errors require you to sample a probability distribution to obtain the atoms that were badly prepared (thus forcing you to use `NoisyResults`), while measurement errors can be applied coherently to a state vector or density matrix."
   ]
  },
  {
   "cell_type": "markdown",
   "metadata": {},
   "source": [
    "Finally, we sweep over the $\\epsilon '$ values:"
   ]
  },
  {
   "cell_type": "code",
   "execution_count": null,
   "metadata": {},
   "outputs": [],
   "source": [
    "res_clean.plot(obs, label=\"Noiseless simulation\")\n",
    "for eps_p in np.linspace(0, 0.99, 4):\n",
    "    config_spam_eps_p = SimConfig(\n",
    "        noise=\"SPAM\", eta=1e-8, runs=50, epsilon=0, epsilon_prime=eps_p\n",
    "    )\n",
    "    sim.set_config(config_spam_eps_p)\n",
    "    sim.run().plot(obs, label=rf\"$\\epsilon$' = {eps_p}\")\n",
    "plt.legend(bbox_to_anchor=(1.05, 1), loc=\"upper left\", borderaxespad=0.0)\n",
    "plt.ylabel(\"Excited state population\")\n",
    "plt.show()"
   ]
  },
  {
   "cell_type": "markdown",
   "metadata": {},
   "source": [
    "In contrast to the previous case, when the number of false negatives increases, the system behaves as if all atoms are in the ground state leading to zero population in the excited state."
   ]
  }
 ],
 "metadata": {
  "kernelspec": {
   "display_name": "Python 3",
   "language": "python",
   "name": "python3"
  },
  "language_info": {
   "codemirror_mode": {
    "name": "ipython",
    "version": 3
   },
   "file_extension": ".py",
   "mimetype": "text/x-python",
   "name": "python",
   "nbconvert_exporter": "python",
   "pygments_lexer": "ipython3",
   "version": "3.7.3"
  },
  "vscode": {
   "interpreter": {
    "hash": "f824b8e4e16905929cafe3ad0d7552efed47de1342d6ced4330871a22269e77f"
   }
  }
 },
 "nbformat": 4,
 "nbformat_minor": 5
}
