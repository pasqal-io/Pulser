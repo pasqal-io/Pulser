{
 "cells": [
  {
   "cell_type": "markdown",
   "metadata": {},
   "source": [
    "# Effective noise channels"
   ]
  },
  {
   "cell_type": "markdown",
   "metadata": {},
   "source": [
    "## Introduction\n",
    "\n",
    "Effective noise channels were introduced in the introductory tutorial [Simulating sequences with errors and noises](noisy_sim.nblink). They will be further detailed in this notebook. We recommend you to check the introductory tutorial before going through this one.\n",
    "\n",
    "The effective noise channels implemented here are based on the concept of collapse operators which are actors in the Lindblad equation. If you're not familiar with Lindblad equations or want to go further, please check the resource [here](https://ocw.mit.edu/courses/22-51-quantum-theory-of-radiation-interactions-fall-2012/resources/mit22_51f12_ch8/).\n",
    "\n",
    "Recall the Lindblad equation:\n",
    "\n",
    "$$\n",
    "\\frac{d \\rho}{dt} = -i[\\mathcal{H}, \\rho] + \\sum_{k>0} \\left( L_k \\rho L_k^\\dagger - \\frac{1}{2} \\left\\{ L_k^\\dagger L_k, \\rho \\right\\} \\right)\n",
    "$$ \n",
    "\n",
    "The operators $L_k$ are often called *collapse operators*. Each set of $L_k$ gives birth to a different effective noise channel. We will discuss in this tutorial two specific ones, whose expressions are developed [in this resource (see chapter 8.3)](https://profmcruz.files.wordpress.com/2017/08/quantum-computation-and-quantum-information-nielsen-chuang.pdf):\n",
    "\n",
    "* [The dephasing channel](#The-dephasing-channel)\n",
    "* [The depolarizing channel](#The-depolarizing-channel)\n"
   ]
  },
  {
   "cell_type": "code",
   "execution_count": null,
   "metadata": {},
   "outputs": [],
   "source": [
    "from __future__ import annotations\n",
    "\n",
    "import qutip\n",
    "import numpy as np\n",
    "import matplotlib.pyplot as plt\n",
    "from copy import deepcopy\n",
    "from pulser import Pulse, Sequence, Register\n",
    "from pulser_simulation import QutipEmulator, SimConfig\n",
    "from pulser_simulation.simresults import SimulationResults\n",
    "from pulser.devices import AnalogDevice"
   ]
  },
  {
   "cell_type": "markdown",
   "metadata": {},
   "source": [
    "### The dephasing channel"
   ]
  },
  {
   "cell_type": "markdown",
   "metadata": {},
   "source": [
    "_Dephasing channel_ models noises that modify the system into a mixture of states such that the phase cannot be accurately predicted.\n",
    "\n",
    "The dephasing noise can be thought of as arising from random z-rotations across the state at a rate $\\gamma_{ph}$. This can be modelled as the action of the following operator:\n",
    "\n",
    "$$\n",
    "L_1 = \\sqrt{\\frac{\\gamma_{ph}}{2}} \\,\\, \\sigma_z\n",
    "$$"
   ]
  },
  {
   "cell_type": "markdown",
   "metadata": {},
   "source": [
    "### The depolarizing channel"
   ]
  },
  {
   "cell_type": "markdown",
   "metadata": {},
   "source": [
    "Under the depolarizing noise, a system in any state evolves to the maximally mixed state at a rate $\\gamma_{pol}$. The corresponding collapse operators are:\n",
    "\n",
    "$$\n",
    "L_1 = \\sqrt{\\frac{\\gamma_{pol}}{4}} \\sigma_x, \\\\\n",
    "L_2 = \\sqrt{\\frac{\\gamma_{pol}}{4}}\\sigma_y, \\\\\n",
    "L_3 = \\sqrt{\\frac{\\gamma_{pol}}{4}} \\sigma_z\n",
    "$$\n"
   ]
  },
  {
   "cell_type": "markdown",
   "metadata": {},
   "source": [
    "### Bloch sphere representation"
   ]
  },
  {
   "cell_type": "markdown",
   "metadata": {},
   "source": [
    "To better understand the effect of each channel on a single-qubit density matrix, let us represent it on the Bloch sphere. \n",
    "\n",
    "Any density matrix of a mixed state may be written as $\\rho = \\frac{\\mathbb{I} + \\vec{r}.\\vec{\\sigma}}{2}$, where $\\vec{r}$ is the vector representing the mixed state on the Bloch sphere.\n",
    "\n",
    "The effect of a channel on a density matrix is modeled using Kraus operators, such that $\\rho(t) = \\sum_i M_i \\rho(0) M^\\dagger_i$. These Kraus operators $M_i$ are:\n",
    "- for the dephasing channel: $M_0 = \\sqrt{1- \\frac{p_{ph}}{2}} \\,\\, \\mathbb{I}$, $M_1 = \\sqrt{\\frac{p_{ph}}{2}} \\,\\, \\sigma_z$.\n",
    "- for the depolarizing channel: $M_0 = \\sqrt{1- \\frac{3p_{pol}}{4}} \\,\\, \\mathbb{I}$, $M_1 = \\sqrt{\\frac{p_{pol}}{4}} \\sigma_x$, $M_2 = \\sqrt{\\frac{p_{pol}}{4}} \\sigma_y$ and $M_3 = \\sqrt{\\frac{p_{pol}}{4}} \\sigma_z$\n",
    "\n",
    "It can be noted that the Kraus operators fulfill the completion relation $\\sum_{i} M_i = \\mathbb{I}$, and that they use the probability over the whole experiment $p$ instead of the rate $\\gamma$ used in collapse operators. The link between Kraus operators and collapse operators is developed [in the first reference](https://ocw.mit.edu/courses/22-51-quantum-theory-of-radiation-interactions-fall-2012/resources/mit22_51f12_ch8/). \n",
    "\n"
   ]
  },
  {
   "cell_type": "code",
   "execution_count": null,
   "metadata": {},
   "outputs": [],
   "source": [
    "def vector_to_dm(r_x, r_y, r_z):\n",
    "    \"\"\"Transforms a vector on the Bloch sphere into a density matrix.\"\"\"\n",
    "\n",
    "    return 0.5 * (\n",
    "        qutip.qeye(2)\n",
    "        + r_x * qutip.sigmax()\n",
    "        + r_y * qutip.sigmay()\n",
    "        + r_z * qutip.sigmaz()\n",
    "    )\n",
    "\n",
    "\n",
    "def dm_to_vector(rho):\n",
    "    \"\"\"Transforms a density matrix rho to vector on the Bloch sphere.\"\"\"\n",
    "\n",
    "    I = 2 * rho - np.eye(2)\n",
    "    r_x = np.real((I[0, 1] + I[1, 0]) / 2)\n",
    "    r_y = np.real((I[1, 0] - I[0, 1]) / 2)\n",
    "    r_z = np.real(I[0, 0])\n",
    "\n",
    "    return r_x, r_y, r_z\n",
    "\n",
    "\n",
    "def depolarizing_channel(rho, prob):\n",
    "    \"\"\"Depolarizing channel, using Kraus operators.\"\"\"\n",
    "    return (1 - 3 * prob / 4) * rho + prob / 4 * (\n",
    "        qutip.sigmax() * rho * qutip.sigmax()\n",
    "        + qutip.sigmay() * rho * qutip.sigmay()\n",
    "        + qutip.sigmaz() * rho * qutip.sigmaz()\n",
    "    )\n",
    "\n",
    "\n",
    "def dephasing_channel(rho, prob):\n",
    "    \"\"\"Dephasing channel, using Kraus operators.\"\"\"\n",
    "    return (\n",
    "        1 - prob / 2\n",
    "    ) * rho + prob / 2 * qutip.sigmaz() * rho * qutip.sigmaz()"
   ]
  },
  {
   "cell_type": "markdown",
   "metadata": {},
   "source": [
    "First, we generate uniformly distributed points on the surface of the Bloch sphere."
   ]
  },
  {
   "cell_type": "code",
   "execution_count": null,
   "metadata": {},
   "outputs": [],
   "source": [
    "u = np.linspace(0, 2 * np.pi, 20)\n",
    "v = np.linspace(0, np.pi, 20)\n",
    "r = 1\n",
    "n = len(u)\n",
    "# x, y, z coordinates with fixed radius r from center X0, Y0, Z0\n",
    "\n",
    "x = r * np.reshape(np.outer(np.cos(u), np.sin(v)), newshape=(n**2, 1))\n",
    "y = r * np.reshape(np.outer(np.sin(u), np.sin(v)), newshape=(n**2, 1))\n",
    "z = r * np.reshape(\n",
    "    np.outer(np.ones(np.size(u)), np.cos(v)), newshape=(n**2, 1)\n",
    ")\n",
    "\n",
    "# Then we build the bloch with the above points\n",
    "b = qutip.Bloch()\n",
    "points = [x, y, z]\n",
    "b.add_points(points)\n",
    "b"
   ]
  },
  {
   "cell_type": "markdown",
   "metadata": {},
   "source": [
    "To observe the effect of the depolarizing and dephasing channels, we apply each channel separately to the points on the Bloch sphere and plot the resulting vectors."
   ]
  },
  {
   "cell_type": "markdown",
   "metadata": {},
   "source": [
    "#### Dephasing channel"
   ]
  },
  {
   "cell_type": "code",
   "execution_count": null,
   "metadata": {},
   "outputs": [],
   "source": [
    "dephasing_prob = 0.5\n",
    "x_dp = x.copy()\n",
    "y_dp = y.copy()\n",
    "z_dp = z.copy()\n",
    "n, p = x.shape\n",
    "for i in range(n):\n",
    "    for j in range(p):\n",
    "        dm = vector_to_dm(x[i, j], y[i, j], z[i, j])\n",
    "        dm_n = dephasing_channel(dm, dephasing_prob)\n",
    "        r_x, r_y, r_z = dm_to_vector(dm_n)\n",
    "        x_dp[i, j] = r_x\n",
    "        y_dp[i, j] = r_y\n",
    "        z_dp[i, j] = r_z"
   ]
  },
  {
   "cell_type": "code",
   "execution_count": null,
   "metadata": {},
   "outputs": [],
   "source": [
    "b = qutip.Bloch()\n",
    "points = [x_dp, y_dp, z_dp]\n",
    "b.add_points(points)\n",
    "b"
   ]
  },
  {
   "cell_type": "markdown",
   "metadata": {},
   "source": [
    "For the dephasing channel, the $z$-coordinate of the Bloch vector is conserved while the others are contracted."
   ]
  },
  {
   "cell_type": "markdown",
   "metadata": {},
   "source": [
    "#### Depolarizing channel"
   ]
  },
  {
   "cell_type": "code",
   "execution_count": null,
   "metadata": {},
   "outputs": [],
   "source": [
    "depolarizing_prob = 0.5\n",
    "x_dp = x.copy()\n",
    "y_dp = y.copy()\n",
    "z_dp = z.copy()\n",
    "n, p = x.shape\n",
    "for i in range(n):\n",
    "    for j in range(p):\n",
    "        dm = vector_to_dm(x[i, j], y[i, j], z[i, j])\n",
    "        dm_n = depolarizing_channel(dm, depolarizing_prob)\n",
    "        r_x, r_y, r_z = dm_to_vector(dm_n)\n",
    "        x_dp[i, j] = r_x\n",
    "        y_dp[i, j] = r_y\n",
    "        z_dp[i, j] = r_z"
   ]
  },
  {
   "cell_type": "code",
   "execution_count": null,
   "metadata": {},
   "outputs": [],
   "source": [
    "b = qutip.Bloch()\n",
    "points = [x_dp, y_dp, z_dp]\n",
    "b.add_points(points)\n",
    "b"
   ]
  },
  {
   "cell_type": "markdown",
   "metadata": {},
   "source": [
    "The depolarizing channel contracts the Bloch sphere across all directions. We could try to come up with an inflation channel that would revert the state's depolarization. However, such a channel would not be positive and thus not a valid superoperator, confirming that the coherence lost cannot be recovered."
   ]
  },
  {
   "cell_type": "markdown",
   "metadata": {},
   "source": [
    "## Single atom noisy simulations"
   ]
  },
  {
   "cell_type": "markdown",
   "metadata": {},
   "source": [
    "In this section we will study the impact of effective noise channels on a single qubit under a resonant pulse. We start by preparing a single atom:"
   ]
  },
  {
   "cell_type": "code",
   "execution_count": null,
   "metadata": {},
   "outputs": [],
   "source": [
    "reg = Register.from_coordinates([(0, 0)], prefix=\"q\")"
   ]
  },
  {
   "cell_type": "markdown",
   "metadata": {},
   "source": [
    "Then we act on this atom with a Constant Pulse, such that it oscillates between the ground state and excited Rydberg state (Rabi oscillations):"
   ]
  },
  {
   "cell_type": "code",
   "execution_count": null,
   "metadata": {},
   "outputs": [],
   "source": [
    "seq = Sequence(reg, AnalogDevice)\n",
    "seq.declare_channel(\"channel 0\", \"rydberg_global\")\n",
    "duration = 4000\n",
    "pulse = Pulse.ConstantPulse(duration, 2 * np.pi, 0 * np.pi, 0.0)\n",
    "seq.add(pulse, \"channel 0\")\n",
    "seq.draw()"
   ]
  },
  {
   "cell_type": "markdown",
   "metadata": {},
   "source": [
    "Let's first run the simulation without noise."
   ]
  },
  {
   "cell_type": "code",
   "execution_count": null,
   "metadata": {},
   "outputs": [],
   "source": [
    "clean_simu = QutipEmulator.from_sequence(seq, sampling_rate=0.05)\n",
    "clean_res = clean_simu.run()"
   ]
  },
  {
   "cell_type": "markdown",
   "metadata": {},
   "source": [
    "We can observe the ground state population using its projector and then the `plot()` method from the `Results` object:"
   ]
  },
  {
   "cell_type": "code",
   "execution_count": null,
   "metadata": {},
   "outputs": [],
   "source": [
    "obs = (\n",
    "    clean_simu.initial_state.proj()\n",
    ")  # Make projector from initial state of the QutipEmulator object (uses QuTiP)\n",
    "clean_res.plot(obs)  # Plot the expectation value of the observable\n",
    "plt.ylabel(\"Ground state population\")\n",
    "plt.show()"
   ]
  },
  {
   "cell_type": "markdown",
   "metadata": {},
   "source": [
    "The are two ways to define the dephasing and depolarizing channels. The first way is to create a `SimConfig` object, specifying the noise type as `\"dephasing\"` and choosing the dephasing rate `dephasing_rate`:"
   ]
  },
  {
   "cell_type": "code",
   "execution_count": null,
   "metadata": {},
   "outputs": [],
   "source": [
    "config_dephasing = SimConfig(noise=\"dephasing\", dephasing_rate=0.1)\n",
    "clean_simu.set_config(config_dephasing)\n",
    "clean_simu.show_config()"
   ]
  },
  {
   "cell_type": "markdown",
   "metadata": {},
   "source": [
    "Likewise we can create a SimConfig object for the depolarizing noise. Notice how we reset the configuration using the `reset_config()` method:"
   ]
  },
  {
   "cell_type": "code",
   "execution_count": null,
   "metadata": {},
   "outputs": [],
   "source": [
    "clean_simu.reset_config()\n",
    "config_depolarizing = SimConfig(noise=\"depolarizing\", depolarizing_rate=0.1)\n",
    "clean_simu.set_config(config_depolarizing)\n",
    "clean_simu.show_config()"
   ]
  },
  {
   "cell_type": "markdown",
   "metadata": {},
   "source": [
    "The second way, which is more general, allows the user to define any Lindblad operators to describe effective noise."
   ]
  },
  {
   "cell_type": "code",
   "execution_count": null,
   "metadata": {},
   "outputs": [],
   "source": [
    "clean_simu.reset_config()\n",
    "config_dephasing = SimConfig(\n",
    "    noise=\"eff_noise\",\n",
    "    eff_noise_opers=[qutip.sigmaz()],\n",
    "    eff_noise_rates=[\n",
    "        0.05,\n",
    "    ],\n",
    ")\n",
    "clean_simu.add_config(config_dephasing)\n",
    "clean_simu.show_config()"
   ]
  },
  {
   "cell_type": "markdown",
   "metadata": {},
   "source": [
    "This allows you to design other effective noise channels by inputting the respective collapse operators."
   ]
  },
  {
   "cell_type": "markdown",
   "metadata": {},
   "source": [
    "Let us now simulate the entire sequence with our two effective noise channels. First, we define some useful functions for our simulations:"
   ]
  },
  {
   "cell_type": "code",
   "execution_count": null,
   "metadata": {},
   "outputs": [],
   "source": [
    "def noisy_dynamics(clean_simu, config):\n",
    "    \"\"\"Gives the result of a noisy simulation.\"\"\"\n",
    "    simu = deepcopy(clean_simu)\n",
    "    # Adding noise\n",
    "    simu.add_config(config)\n",
    "    result = simu.run()\n",
    "    return result\n",
    "\n",
    "\n",
    "def plot_basis_population(\n",
    "    psi: qutip.Qobj,\n",
    "    noise_results: list[SimulationResults],\n",
    "    noise_rates: list[float],\n",
    "    decay_rate: float | None,\n",
    "    axis: plt.Axes,\n",
    "    convergence_line: float,\n",
    "    label: bool = False,\n",
    ") -> None:\n",
    "    \"\"\"Plots the evolution of the population in state 'psi'.\n",
    "\n",
    "    Args:\n",
    "        psi: The state against which the population is measured.\n",
    "        noise_results: A list of QutipEmulator.from_sequenceResults.\n",
    "        noise_rates: The noise rate associated with each element in\n",
    "            'noise_results'.\n",
    "        decay_rate: The decay rate relative to the noise probability.\n",
    "            If defined, add the exponential decay curves in the plot.\n",
    "        axis: The Axes to plot the curves on.\n",
    "        convergence_line: The stationary value for the population of\n",
    "            'psi'.\n",
    "        label: Whether to add a label or not.\n",
    "    \"\"\"\n",
    "    noise_pops = []\n",
    "    for noise_result in noise_results:\n",
    "        population = []\n",
    "        for rho_t in noise_result.states:\n",
    "            value = psi.dag() * rho_t * psi\n",
    "            population.append(np.abs(value[0][0]))\n",
    "        noise_pops.append(population)\n",
    "\n",
    "    times = noise_results[0]._sim_times\n",
    "\n",
    "    for noise_rate, noise_pop in zip(noise_rates, noise_pops):\n",
    "        axis.plot(\n",
    "            times,\n",
    "            noise_pop,\n",
    "            label=rf\"$\\gamma$ = {noise_rate}\",\n",
    "            color=[0.9 - 0.5 * noise_rate] * 3,\n",
    "        )\n",
    "    N_realizations = len(noise_rates)\n",
    "    if decay_rate is not None:\n",
    "        for i, noise_rate in enumerate(noise_rates):\n",
    "            axis.plot(\n",
    "                times,\n",
    "                0.5 * (1 + np.exp(-decay_rate * noise_rate * times)),\n",
    "                color=\"red\",\n",
    "                alpha=0.6,\n",
    "                label=\"Damping\" if i == N_realizations - 1 else None,\n",
    "            )\n",
    "\n",
    "    axis.axhline(\n",
    "        convergence_line,\n",
    "        color=\"black\",\n",
    "        linestyle=\"--\",\n",
    "        label=\"Final mixed state\",\n",
    "    )\n",
    "\n",
    "    # Put labels outside of the plot\n",
    "    if label:\n",
    "        axis.legend(\n",
    "            bbox_to_anchor=(1.05, 1), loc=\"upper left\", borderaxespad=0.0\n",
    "        )"
   ]
  },
  {
   "cell_type": "markdown",
   "metadata": {},
   "source": [
    "Using the above functions we are ready to run our noisy simulations. We will study the effects of dephasing and depolarizing noise for different noise rate realizations."
   ]
  },
  {
   "cell_type": "code",
   "execution_count": null,
   "metadata": {},
   "outputs": [],
   "source": [
    "clean_simu.reset_config()\n",
    "\n",
    "noise_rates = np.linspace(0, 1, 5)\n",
    "depolarizing_results = []\n",
    "dephasing_results = []\n",
    "\n",
    "for noise_rate in noise_rates:\n",
    "    print(\"Noise rate = \", noise_rate)\n",
    "\n",
    "    # We configure the dephasing and depolarizing noises\n",
    "    config_dephasing = SimConfig(noise=\"dephasing\", dephasing_rate=noise_rate)\n",
    "    config_depolarizing = SimConfig(\n",
    "        noise=\"depolarizing\", depolarizing_rate=noise_rate\n",
    "    )\n",
    "\n",
    "    # We run the simulations\n",
    "    dephasing_result = noisy_dynamics(clean_simu, config_dephasing)\n",
    "    depolarizing_result = noisy_dynamics(clean_simu, config_depolarizing)\n",
    "\n",
    "    # Storage\n",
    "    depolarizing_results.append(depolarizing_result)\n",
    "    dephasing_results.append(dephasing_result)"
   ]
  },
  {
   "cell_type": "code",
   "execution_count": null,
   "metadata": {},
   "outputs": [],
   "source": [
    "# Basis states definition\n",
    "r_state = qutip.basis(2, 0)\n",
    "g_state = qutip.basis(2, 1)\n",
    "basis = {\n",
    "    \"g\": g_state,\n",
    "    \"r\": r_state,\n",
    "}"
   ]
  },
  {
   "cell_type": "markdown",
   "metadata": {},
   "source": [
    "### Dephasing Channel\n",
    "\n",
    "In the following we illustrate the results of the single qubit dephasing channel."
   ]
  },
  {
   "cell_type": "code",
   "execution_count": null,
   "metadata": {},
   "outputs": [],
   "source": [
    "# We plot the population evolution\n",
    "fig, axs = plt.subplots(2)\n",
    "fig.suptitle(\"Population evolution with dephasing noise\")\n",
    "axs.flat[0].set(xlabel=r\"Time ($\\mu s$)\", ylabel=\"Ground state\")\n",
    "axs.flat[1].set(xlabel=r\"Time ($\\mu s$)\", ylabel=\"Excited state\")\n",
    "\n",
    "# Hide x labels and tick labels for top plots and y ticks for right plots.\n",
    "for ax in axs.flat:\n",
    "    ax.label_outer()\n",
    "\n",
    "plot_basis_population(\n",
    "    basis[\"g\"],\n",
    "    dephasing_results,\n",
    "    noise_rates,\n",
    "    0.5,\n",
    "    axs[0],\n",
    "    1 / 2,\n",
    "    True,\n",
    ")\n",
    "plot_basis_population(\n",
    "    basis[\"r\"],\n",
    "    dephasing_results,\n",
    "    noise_rates,\n",
    "    0.5,\n",
    "    axs[1],\n",
    "    1 / 2,\n",
    ")\n",
    "plt.show()"
   ]
  },
  {
   "cell_type": "markdown",
   "metadata": {},
   "source": [
    "This plot shows the Rabi oscillations over time. You can see the effects of the dephasing channel on the populations of the excited and ground states. When we increase the noise of the dephasing channel, the Rabi oscillations are increasingly damped."
   ]
  },
  {
   "cell_type": "markdown",
   "metadata": {},
   "source": [
    "The dephasing channel destroys off-diagonal elements of the density matrix, and tends towards a stationary state with zero off-diagonals. The mixed state obtained is the maximally mixed state."
   ]
  },
  {
   "cell_type": "markdown",
   "metadata": {},
   "source": [
    "In other words the density matrix converges to $\\rho = \\frac{1}{2} \\mathbb I = \\frac{1}{2}(|0\\rangle\\langle 0| + |1\\rangle\\langle 1|)$."
   ]
  },
  {
   "cell_type": "markdown",
   "metadata": {},
   "source": [
    "Notice that the ground state and excited state populations oscillate in phase opposition."
   ]
  },
  {
   "cell_type": "markdown",
   "metadata": {},
   "source": [
    "### Depolarizing Channel\n",
    "\n",
    "In the following we illustrate the results of the single qubit depolarizing channel."
   ]
  },
  {
   "cell_type": "code",
   "execution_count": null,
   "metadata": {},
   "outputs": [],
   "source": [
    "fig, axs = plt.subplots(2)\n",
    "fig.suptitle(\"Basis population evolution with the depolarizing noise\")\n",
    "axs.flat[0].set(xlabel=r\"Time ($\\mu s$)\", ylabel=\"Ground state\")\n",
    "axs.flat[1].set(xlabel=r\"Time ($\\mu s$)\", ylabel=\"Excited state\")\n",
    "\n",
    "# Hide x labels and tick labels for top plots and y ticks for right plots.\n",
    "for ax in axs.flat:\n",
    "    ax.label_outer()\n",
    "\n",
    "plot_basis_population(\n",
    "    basis[\"g\"],\n",
    "    depolarizing_results,\n",
    "    noise_rates,\n",
    "    1.0,\n",
    "    axs[0],\n",
    "    1 / 2,\n",
    "    True,\n",
    ")\n",
    "plot_basis_population(\n",
    "    basis[\"r\"],\n",
    "    depolarizing_results,\n",
    "    noise_rates,\n",
    "    1.0,\n",
    "    axs[1],\n",
    "    1 / 2,\n",
    ")\n",
    "plt.show()"
   ]
  },
  {
   "cell_type": "markdown",
   "metadata": {},
   "source": [
    "As was the case for the dephasing channel, we observe a damping of the population of both basis states, indicating a convergence torwards the maximally mixed state. However, for matching rate values, the depolarizing channel results in a faster decoherence than the dephasing channel."
   ]
  },
  {
   "cell_type": "markdown",
   "metadata": {},
   "source": [
    "If we recall the effect of both channels on the Bloch sphere, we see that the depolarizing channel acts uniformly for any state, while the dephasing channel's effect is maximized for Bloch vectors lying on the equator. Therefore, as the Bloch vector oscillates between $\\ket{0}$ and $\\ket{1}$, it still gets progressively smaller. However, its decoherence rate only matches that of the depolarizing channel when crossing the equator, resulting in a compartively longer coherence time."
   ]
  },
  {
   "cell_type": "markdown",
   "metadata": {},
   "source": [
    "## Two-atom noisy simulations"
   ]
  },
  {
   "cell_type": "markdown",
   "metadata": {},
   "source": [
    "We already know what happens in a single qubit configuration, but we would like to study the multi-qubit case. To do so we start with two qubits."
   ]
  },
  {
   "cell_type": "markdown",
   "metadata": {},
   "source": [
    "We will analyze two configurations. One with nearby atoms and another with distant atoms and see how effective noise channels interact with the system."
   ]
  },
  {
   "cell_type": "markdown",
   "metadata": {},
   "source": [
    "The concepts of *far* and *nearby* are defined with respect to the Rydberg blockade radius. Two atoms are *nearby* when they are within a blockade radius of one another and *far* otherwise."
   ]
  },
  {
   "cell_type": "code",
   "execution_count": null,
   "metadata": {},
   "outputs": [],
   "source": [
    "# Rydberg blockade radius\n",
    "omega = 2 * np.pi\n",
    "r_interatomic = AnalogDevice.rydberg_blockade_radius(omega)\n",
    "print(f\"Rydberg radius ({r_interatomic}) > 5 \")"
   ]
  },
  {
   "cell_type": "markdown",
   "metadata": {},
   "source": [
    "### Nearby atoms"
   ]
  },
  {
   "cell_type": "code",
   "execution_count": null,
   "metadata": {},
   "outputs": [],
   "source": [
    "# We create two nearby atoms\n",
    "reg = Register.from_coordinates([(0, 0), (5, 0)], prefix=\"q\")\n",
    "\n",
    "reg.draw()"
   ]
  },
  {
   "cell_type": "markdown",
   "metadata": {},
   "source": [
    "We will use the same pulse as before."
   ]
  },
  {
   "cell_type": "code",
   "execution_count": null,
   "metadata": {},
   "outputs": [],
   "source": [
    "seq = Sequence(reg, AnalogDevice)\n",
    "seq.declare_channel(\"channel 0\", \"rydberg_global\")\n",
    "duration = 4000\n",
    "pulse = Pulse.ConstantPulse(duration, omega, 0, 0.0)\n",
    "seq.add(pulse, \"channel 0\")\n",
    "seq.draw()"
   ]
  },
  {
   "cell_type": "code",
   "execution_count": null,
   "metadata": {},
   "outputs": [],
   "source": [
    "clean_simu = QutipEmulator.from_sequence(seq, sampling_rate=0.05)\n",
    "clean_res = clean_simu.run()"
   ]
  },
  {
   "cell_type": "code",
   "execution_count": null,
   "metadata": {},
   "outputs": [],
   "source": [
    "clean_simu.reset_config()\n",
    "\n",
    "noise_rates = np.round(np.linspace(0, 0.2, 5), 3)\n",
    "depolarizing_results = []\n",
    "dephasing_results = []\n",
    "\n",
    "for noise_rate in noise_rates:\n",
    "    print(\"Noise rate = \", noise_rate)\n",
    "\n",
    "    # We configure the dephasing and depolarizing noises\n",
    "    config_dephasing = SimConfig(noise=\"dephasing\", dephasing_rate=noise_rate)\n",
    "    config_depolarizing = SimConfig(\n",
    "        noise=\"depolarizing\", depolarizing_rate=noise_rate\n",
    "    )\n",
    "\n",
    "    # We run the simulations\n",
    "    dephasing_result = noisy_dynamics(clean_simu, config_dephasing)\n",
    "    depolarizing_result = noisy_dynamics(clean_simu, config_depolarizing)\n",
    "\n",
    "    # Storage\n",
    "    depolarizing_results.append(depolarizing_result)\n",
    "    dephasing_results.append(dephasing_result)"
   ]
  },
  {
   "cell_type": "code",
   "execution_count": null,
   "metadata": {},
   "outputs": [],
   "source": [
    "# Basis states definition\n",
    "r_state = qutip.basis(2, 0)\n",
    "g_state = qutip.basis(2, 1)\n",
    "basis = {\n",
    "    \"gg\": qutip.tensor(g_state, g_state),\n",
    "    \"rg\": qutip.tensor(r_state, g_state),\n",
    "    \"gr\": qutip.tensor(g_state, r_state),\n",
    "    \"rr\": qutip.tensor(r_state, r_state),\n",
    "}"
   ]
  },
  {
   "cell_type": "markdown",
   "metadata": {},
   "source": [
    "#### Dephasing Channel\n",
    "\n",
    "In the following we illustrate the results of the two-qubit dephasing channel."
   ]
  },
  {
   "cell_type": "code",
   "execution_count": null,
   "metadata": {},
   "outputs": [],
   "source": [
    "fig, axs = plt.subplots(4)\n",
    "fig.suptitle(\"Basis population evolution with dephasing noise\")\n",
    "axs.flat[0].set(xlabel=r\"Time ($\\mu s$)\", ylabel=\"|gg> state\")\n",
    "axs.flat[1].set(xlabel=r\"Time ($\\mu s$)\", ylabel=\"|rg> state\")\n",
    "axs.flat[2].set(xlabel=r\"Time ($\\mu s$)\", ylabel=\"|gr> state\")\n",
    "axs.flat[3].set(xlabel=r\"Time ($\\mu s$)\", ylabel=\"|rr> state\")\n",
    "\n",
    "# Hide x labels and tick labels for top plots and y ticks for right plots.\n",
    "for ax in axs.flat:\n",
    "    ax.label_outer()\n",
    "\n",
    "plot_basis_population(\n",
    "    basis[\"gg\"],\n",
    "    dephasing_results,\n",
    "    noise_rates,\n",
    "    None,\n",
    "    axs[0],\n",
    "    1 / 3,\n",
    "    True,\n",
    ")\n",
    "plot_basis_population(\n",
    "    basis[\"rg\"], dephasing_results, noise_rates, None, axs[1], 1 / 3\n",
    ")\n",
    "plot_basis_population(\n",
    "    basis[\"gr\"], dephasing_results, noise_rates, None, axs[2], 1 / 3\n",
    ")\n",
    "plot_basis_population(\n",
    "    basis[\"rr\"], dephasing_results, noise_rates, None, axs[3], 1 / 3\n",
    ")\n",
    "plt.show()"
   ]
  },
  {
   "cell_type": "markdown",
   "metadata": {},
   "source": [
    "We can easily notice that: $\\braket{gg|\\rho(t)|gg}, \\braket{gr|\\rho(t)|gr}$ and $\\braket{rg|\\rho(t)|rg}$ converge to $\\frac{1}{3}$ when $\\braket{rg|\\rho(t)|rg}$ stays at zero.\n",
    "\n",
    "Atom 2 is inside the Rydberg radius, so the $\\ket{rr}$ state is forbidden."
   ]
  },
  {
   "cell_type": "markdown",
   "metadata": {},
   "source": [
    "The final mixed state is then: \n",
    "\n",
    "$$\n",
    "\\rho = \\frac{1}{3} (\\ket{gg}\\bra{gg} + \\ket{gr}\\bra{gr} + \\ket{rg}\\bra{rg} )\n",
    "$$"
   ]
  },
  {
   "cell_type": "markdown",
   "metadata": {},
   "source": [
    "Let's see whether the same happens with the depolarizing channel."
   ]
  },
  {
   "cell_type": "markdown",
   "metadata": {},
   "source": [
    "#### Depolarizing Channel\n",
    "\n",
    "In the following we illustrate the results of the two-qubit depolarizing channel."
   ]
  },
  {
   "cell_type": "code",
   "execution_count": null,
   "metadata": {},
   "outputs": [],
   "source": [
    "fig, axs = plt.subplots(4)\n",
    "fig.suptitle(\"Basis population evolution with depolarizing noise\")\n",
    "axs.flat[0].set(xlabel=r\"Time ($\\mu s$)\", ylabel=\"|gg> state\")\n",
    "axs.flat[1].set(xlabel=r\"Time ($\\mu s$)\", ylabel=\"|rg> state\")\n",
    "axs.flat[2].set(xlabel=r\"Time ($\\mu s$)\", ylabel=\"|gr> state\")\n",
    "axs.flat[3].set(xlabel=r\"Time ($\\mu s$)\", ylabel=\"|rr> state\")\n",
    "\n",
    "# Hide x labels and tick labels for top plots and y ticks for right plots.\n",
    "for ax in axs.flat:\n",
    "    ax.label_outer()\n",
    "\n",
    "plot_basis_population(\n",
    "    basis[\"gg\"],\n",
    "    depolarizing_results,\n",
    "    noise_rates,\n",
    "    None,\n",
    "    axs[0],\n",
    "    1 / 4,\n",
    "    True,\n",
    ")\n",
    "plot_basis_population(\n",
    "    basis[\"rg\"], depolarizing_results, noise_rates, None, axs[1], 1 / 4\n",
    ")\n",
    "plot_basis_population(\n",
    "    basis[\"gr\"], depolarizing_results, noise_rates, None, axs[2], 1 / 4\n",
    ")\n",
    "plot_basis_population(\n",
    "    basis[\"rr\"], depolarizing_results, noise_rates, None, axs[3], 1 / 4\n",
    ")\n",
    "plt.show()"
   ]
  },
  {
   "cell_type": "markdown",
   "metadata": {},
   "source": [
    "Although the Rydberg blockade should make the state $\\ket{rr}$ state unreacheble, we observe its population gradually increase over time. This is explained by the fact that the depolarizing noise is making each state vector evolve independently towards the maximally mixed state. Therefore, as coherence is lost, the $\\ket{rr}$ becomes just as likely as any other eigenstate, since both qubits turn into classical mixtures with no correlation between them.   \n",
    "\n",
    "Thus, the final output mixed state is:\n",
    "\n",
    "$$\n",
    "\\rho = \\frac{1}{4} (\\ket{gg}\\bra{gg} + \\ket{gr}\\bra{gr} + \\ket{rg}\\bra{rg} + \\ket{rr}\\bra{rr})\n",
    "$$"
   ]
  },
  {
   "cell_type": "markdown",
   "metadata": {},
   "source": [
    "### Distant atoms"
   ]
  },
  {
   "cell_type": "code",
   "execution_count": null,
   "metadata": {},
   "outputs": [],
   "source": [
    "reg = Register.from_coordinates([(0, 0), (20, 0)], prefix=\"q\")\n",
    "\n",
    "print(f\"20 = R > Rydberg radius = {r_interatomic} \")\n",
    "seq = Sequence(reg, AnalogDevice)\n",
    "seq.declare_channel(\"channel 0\", \"rydberg_global\")\n",
    "duration = 4000\n",
    "pulse = Pulse.ConstantPulse(duration, 2 * np.pi, 0 * np.pi, 0.0)\n",
    "seq.add(pulse, \"channel 0\")\n",
    "\n",
    "clean_simu = QutipEmulator.from_sequence(seq, sampling_rate=0.05)\n",
    "clean_res = clean_simu.run()"
   ]
  },
  {
   "cell_type": "code",
   "execution_count": null,
   "metadata": {},
   "outputs": [],
   "source": [
    "depolarizing_results = []\n",
    "dephasing_results = []\n",
    "\n",
    "for noise_rate in noise_rates:\n",
    "    print(\"Noise rate = \", noise_rate)\n",
    "\n",
    "    # We configure the dephasing and depolarizing noises\n",
    "    config_dephasing = SimConfig(noise=\"dephasing\", dephasing_rate=noise_rate)\n",
    "    config_depolarizing = SimConfig(\n",
    "        noise=\"depolarizing\", depolarizing_rate=noise_rate\n",
    "    )\n",
    "\n",
    "    # We run the simulations\n",
    "    dephasing_result = noisy_dynamics(clean_simu, config_dephasing)\n",
    "    depolarizing_result = noisy_dynamics(clean_simu, config_depolarizing)\n",
    "\n",
    "    # Storage\n",
    "    depolarizing_results.append(depolarizing_result)\n",
    "    dephasing_results.append(dephasing_result)"
   ]
  },
  {
   "cell_type": "markdown",
   "metadata": {},
   "source": [
    "#### Dephasing Channel\n",
    "\n",
    "In the following we illustrate the results of the two-qubit dephasing channel."
   ]
  },
  {
   "cell_type": "code",
   "execution_count": null,
   "metadata": {},
   "outputs": [],
   "source": [
    "fig, axs = plt.subplots(4)\n",
    "fig.suptitle(\"Basis population evolution with dephasing noise\")\n",
    "axs.flat[0].set(xlabel=r\"Time ($\\mu s$)\", ylabel=\"|gg> state\")\n",
    "axs.flat[1].set(xlabel=r\"Time ($\\mu s$)\", ylabel=\"|rg> state\")\n",
    "axs.flat[2].set(xlabel=r\"Time ($\\mu s$)\", ylabel=\"|gr> state\")\n",
    "axs.flat[3].set(xlabel=r\"Time ($\\mu s$)\", ylabel=\"|rr> state\")\n",
    "\n",
    "# Hide x labels and tick labels for top plots and y ticks for right plots.\n",
    "for ax in axs.flat:\n",
    "    ax.label_outer()\n",
    "\n",
    "plot_basis_population(\n",
    "    basis[\"gg\"],\n",
    "    dephasing_results,\n",
    "    noise_rates,\n",
    "    None,\n",
    "    axs[0],\n",
    "    1 / 3,\n",
    "    True,\n",
    ")\n",
    "plot_basis_population(\n",
    "    basis[\"rg\"], dephasing_results, noise_rates, None, axs[1], 1 / 4\n",
    ")\n",
    "plot_basis_population(\n",
    "    basis[\"gr\"], dephasing_results, noise_rates, None, axs[2], 1 / 4\n",
    ")\n",
    "plot_basis_population(\n",
    "    basis[\"rr\"], dephasing_results, noise_rates, None, axs[3], 1 / 4\n",
    ")\n",
    "plt.show()"
   ]
  },
  {
   "cell_type": "markdown",
   "metadata": {},
   "source": [
    "Without the interaction, both qubits now evolve independently towards the maximally mixed state, resulting in\n",
    "\n",
    "$$\n",
    "\\rho = \\frac{1}{4} (\\ket{gg}\\bra{gg} + \\ket{gr}\\bra{gr} + \\ket{rg}\\bra{rg} + \\ket{rr}\\bra{rr})\n",
    "$$"
   ]
  },
  {
   "cell_type": "markdown",
   "metadata": {},
   "source": [
    "#### Depolarizing Channel\n",
    "\n",
    "In the following we illustrate the results of the two-qubit depolarizing channel."
   ]
  },
  {
   "cell_type": "code",
   "execution_count": null,
   "metadata": {},
   "outputs": [],
   "source": [
    "fig, axs = plt.subplots(4)\n",
    "fig.suptitle(\"Basis population evolution with depolarizing noise\")\n",
    "axs.flat[0].set(xlabel=r\"Time ($\\mu s$)\", ylabel=\"|gg> state\")\n",
    "axs.flat[1].set(xlabel=r\"Time ($\\mu s$)\", ylabel=\"|rg> state\")\n",
    "axs.flat[2].set(xlabel=r\"Time ($\\mu s$)\", ylabel=\"|gr> state\")\n",
    "axs.flat[3].set(xlabel=r\"Time ($\\mu s$)\", ylabel=\"|rr> state\")\n",
    "\n",
    "# Hide x labels and tick labels for top plots and y ticks for right plots.\n",
    "for ax in axs.flat:\n",
    "    ax.label_outer()\n",
    "\n",
    "plot_basis_population(\n",
    "    basis[\"gg\"],\n",
    "    depolarizing_results,\n",
    "    noise_rates,\n",
    "    None,\n",
    "    axs[0],\n",
    "    1 / 4,\n",
    "    True,\n",
    ")\n",
    "plot_basis_population(\n",
    "    basis[\"rg\"], depolarizing_results, noise_rates, None, axs[1], 1 / 4\n",
    ")\n",
    "plot_basis_population(\n",
    "    basis[\"gr\"], depolarizing_results, noise_rates, None, axs[2], 1 / 4\n",
    ")\n",
    "plot_basis_population(\n",
    "    basis[\"rr\"], depolarizing_results, noise_rates, None, axs[3], 1 / 4\n",
    ")\n",
    "plt.show()"
   ]
  },
  {
   "cell_type": "markdown",
   "metadata": {},
   "source": [
    "Although the output state remains the same as before, we observe a different behaviour in the evolution towards it. In fact, without the interaction, we now see that the $\\ket{rr}$ population oscillates freely, which did not occur in the presence of a Rydberg blockade.\n"
   ]
  }
 ],
 "metadata": {
  "kernelspec": {
   "display_name": "pulserenv",
   "language": "python",
   "name": "python3"
  },
  "language_info": {
   "codemirror_mode": {
    "name": "ipython",
    "version": 3
   },
   "file_extension": ".py",
   "mimetype": "text/x-python",
   "name": "python",
   "nbconvert_exporter": "python",
   "pygments_lexer": "ipython3",
   "version": "3.11.3"
  }
 },
 "nbformat": 4,
 "nbformat_minor": 2
}
