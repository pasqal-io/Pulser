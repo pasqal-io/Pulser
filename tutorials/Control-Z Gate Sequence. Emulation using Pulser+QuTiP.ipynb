{
 "cells": [
  {
   "cell_type": "markdown",
   "metadata": {},
   "source": [
    "# Control-Z Gate Sequence. Emulation using Pulser"
   ]
  },
  {
   "cell_type": "markdown",
   "metadata": {},
   "source": [
    "## Introduction\n",
    "\n",
    "In this tutorial we show how to prepare the pulse sequence that generates de *Controlled - Z* gate. We will prepare our state with atoms in any of the \"digital\" states that we shall call $|g\\rangle$ and $|h \\rangle$ ( for \"ground\" and \"hyperfine\", respectively). Then we will use the *Rydberg blockade* effect to create the logic gate. The levels that each atom can take are the following: \n",
    "<img src=\"files/three_states.png\" alt=\"Three-state Configuration\" style=\"width: 120px;\"/>"
   ]
  },
  {
   "cell_type": "markdown",
   "metadata": {},
   "source": [
    "We will be using *NumPy* and *Matplotlib* for calculations and plots. Additionally, we shall use the library *QuTiP* for creating several quantum objects (and also implicitly while using the simulation option in Pulser). Many additional details about the CZ gate construction can be found in [1111.6083v2](https://arxiv.org/abs/1111.6083)"
   ]
  },
  {
   "cell_type": "code",
   "execution_count": null,
   "metadata": {},
   "outputs": [],
   "source": [
    "import numpy as np\n",
    "import matplotlib.pyplot as plt\n",
    "import qutip\n",
    "from itertools import product"
   ]
  },
  {
   "cell_type": "markdown",
   "metadata": {},
   "source": [
    "We import the following Classes from Pulser:"
   ]
  },
  {
   "cell_type": "code",
   "execution_count": null,
   "metadata": {},
   "outputs": [],
   "source": [
    "from pulser import Pulse, Sequence, Register\n",
    "from pulser.devices import Chadoq2\n",
    "from pulser.simulation import Simulation\n",
    "from pulser.waveforms import BlackmanWaveform,ConstantWaveform"
   ]
  },
  {
   "cell_type": "markdown",
   "metadata": {},
   "source": [
    "## 1. Loading the Register on a Pasqal Device"
   ]
  },
  {
   "cell_type": "markdown",
   "metadata": {},
   "source": [
    "Defining an atom register can simply done by choosing one of the predetermined shapes included in the `Register`class. We can also construct a dictionary with specific labels for each atom. The atoms must lie inside the *Rydberg blockade radius* $R_b$, which we will characterize by \n",
    "\n",
    "$$R_{b}^6 = \\frac{2\\pi\\times 1.5 \\times 10^6}{\\Omega^{\\text{Max}}_{\\text{Rabi}}},$$\n",
    "\n",
    "where the coefficient is such that we get $R_b \\approx 9 $ µm at $\\Omega_{Rabi} \\approx 1.5$ Mhz. For the pulses in this tutorial, $\\Omega^{\\text{Max}}_{\\text{Rabi}}$ is between $1$ to $7$ Mhz so:"
   ]
  },
  {
   "cell_type": "code",
   "execution_count": null,
   "metadata": {},
   "outputs": [],
   "source": [
    "print(\"Rabi\", \"R_b\")\n",
    "for rabi in np.linspace(1,7,10):\n",
    "    R_blockade = (5.008e6/rabi)**(1/6)\n",
    "    print(np.round(rabi,1), np.round(R_blockade,1))"
   ]
  },
  {
   "cell_type": "markdown",
   "metadata": {},
   "source": [
    "Thus, we place our atoms at a distance of $8$ µm, therefore ensuring we are inside the Rydberg blockade volume."
   ]
  },
  {
   "cell_type": "code",
   "execution_count": null,
   "metadata": {},
   "outputs": [],
   "source": [
    "# Atom Register and Device\n",
    "q_dict = {\"control\":np.array([-4.,0.]),\n",
    "          \"target\": np.array([4.,0.]),\n",
    "          }\n",
    "reg = Register(q_dict)\n",
    "reg.draw()"
   ]
  },
  {
   "cell_type": "markdown",
   "metadata": {},
   "source": [
    "## 2. State Preparation"
   ]
  },
  {
   "cell_type": "markdown",
   "metadata": {},
   "source": [
    "The first part of our sequence will correspond to preparing the different states on which the CZ gate will act. For this, we define the following `Pulse` instances that correspond to $\\pi$ and $2\\pi$ pulses (notice that the area can be easily fixed using the predefined `BlackmanWaveform`:"
   ]
  },
  {
   "cell_type": "markdown",
   "metadata": {},
   "source": [
    "Let us construct a function that takes the label string (or \"id\") of a state and turns it into a ket state. This ket can be in any of the \"digital\" (ground-hyperfine levels), \"ground-rydberg\" or \"all\" levels."
   ]
  },
  {
   "cell_type": "code",
   "execution_count": null,
   "metadata": {},
   "outputs": [],
   "source": [
    "def build_state_from_id(s_id, basis_name):\n",
    "    if basis_name not in {'ground-rydberg','digital','all'}:\n",
    "        raise ValueError('Not a valid basis')\n",
    "        \n",
    "    if basis_name == 'digital':\n",
    "        pool = {''.join(x) for x in product('hg', repeat=2)}  # Gives all string labels\n",
    "        if s_id not in pool:\n",
    "            raise ValueError('Not a valid state id for the given basis.')\n",
    "        ket = {'g' : qutip.basis(2,0),\n",
    "               'h' : qutip.basis(2,1)}\n",
    "    \n",
    "    elif basis_name == 'ground-rydberg':\n",
    "        pool = {''.join(x) for x in product('gr', repeat=2)}\n",
    "        if s_id not in pool:\n",
    "            raise ValueError('Not a valid state id for the given basis.')\n",
    "        ket = {'r' : qutip.basis(2,0),\n",
    "               'g' : qutip.basis(2,1)}\n",
    "        \n",
    "    elif basis_name == 'all':\n",
    "        pool = {''.join(x) for x in product('hgr', repeat=2)}\n",
    "        if s_id not in pool:\n",
    "            raise ValueError('Not a valid state id for the given basis.')\n",
    "        ket = {'r' : qutip.basis(3,0),\n",
    "               'g' : qutip.basis(3,1),\n",
    "               'h' : qutip.basis(3,2)}\n",
    "        \n",
    "    return qutip.tensor([ket[x] for x in s_id])"
   ]
  },
  {
   "cell_type": "markdown",
   "metadata": {},
   "source": [
    "We try this out:"
   ]
  },
  {
   "cell_type": "code",
   "execution_count": null,
   "metadata": {},
   "outputs": [],
   "source": [
    "build_state_from_id('hg','digital')"
   ]
  },
  {
   "cell_type": "markdown",
   "metadata": {},
   "source": [
    "Let's now write the state preparation sequence:"
   ]
  },
  {
   "cell_type": "code",
   "execution_count": null,
   "metadata": {},
   "outputs": [],
   "source": [
    "duration = 3e3  # O(10^3)ns\n",
    "pi_Y = Pulse(BlackmanWaveform(duration,np.pi),ConstantWaveform(duration,0.),-np.pi/2)\n",
    "pi_Y.draw()"
   ]
  },
  {
   "cell_type": "code",
   "execution_count": null,
   "metadata": {},
   "outputs": [],
   "source": [
    "def prep_sequence(state_id, seq, duration=1000):\n",
    "    if not isinstance(seq, Sequence):\n",
    "        raise TypeError('Not a valid Pulser sequence.')\n",
    "    \n",
    "    if state_id == 'gg': \n",
    "        basis = 'ground-rydberg'\n",
    "    else:\n",
    "        basis = 'all'\n",
    "        \n",
    "    prep_state = build_state_from_id(state_id, basis)  # Will raise error if not a valid `state_id` \n",
    "    \n",
    "    if state_id != 'gg':\n",
    "        #    seq.delay(duration, 'raman')\n",
    "        if state_id[1] == 'h': # Target will be last character in `state_id` string\n",
    "            seq.declare_channel('raman','raman_local','target')\n",
    "            seq.add(pi_Y,'raman') \n",
    "        if state_id[0] == 'h': \n",
    "            if 'raman' not in seq.declared_channels:\n",
    "                seq.declare_channel('raman','raman_local','control')\n",
    "            else:\n",
    "                seq.target('control','raman')\n",
    "            seq.add(pi_Y,'raman') \n",
    "    else:\n",
    "        print('Warning: `gg` state does not require a preparation sequence.')\n",
    "        \n",
    "    return prep_state"
   ]
  },
  {
   "cell_type": "markdown",
   "metadata": {},
   "source": [
    "Let's test this sequence. Notice that the state \"gg\" (both atoms in the ground state) is automatically fed to the Register so a pulse sequence is not needed to prepare it."
   ]
  },
  {
   "cell_type": "code",
   "execution_count": null,
   "metadata": {},
   "outputs": [],
   "source": [
    "# Define sequence and Set channels\n",
    "seq = Sequence(reg, Chadoq2)\n",
    "prep_state = prep_sequence('hh',seq)\n",
    "seq.draw()\n",
    "print(prep_state)"
   ]
  },
  {
   "cell_type": "markdown",
   "metadata": {},
   "source": [
    "## 3. Constructing the Gate Sequence"
   ]
  },
  {
   "cell_type": "markdown",
   "metadata": {},
   "source": [
    "We apply the common $\\pi-2\\pi-\\pi$ sequence for the CZ gate "
   ]
  },
  {
   "cell_type": "code",
   "execution_count": null,
   "metadata": {},
   "outputs": [],
   "source": [
    "pi_pulse = Pulse(BlackmanWaveform(duration, np.pi), ConstantWaveform(duration,0), 0)\n",
    "twopi_pulse = Pulse(BlackmanWaveform(duration, 2*np.pi), ConstantWaveform(duration,0), 0)"
   ]
  },
  {
   "cell_type": "code",
   "execution_count": null,
   "metadata": {},
   "outputs": [],
   "source": [
    "def CZ_sequence(initial_id):\n",
    "    # Define sequence\n",
    "    seq = Sequence(reg, Chadoq2)\n",
    "    \n",
    "    # Prepare State\n",
    "    prep_state = prep_sequence(initial_id, seq)\n",
    "    prep_time = max((seq._last(ch).tf for ch in seq.declared_channels), default=0)\n",
    "    \n",
    "    # Declare Rydberg channel\n",
    "    seq.declare_channel('ryd_control', 'rydberg_local', 'control')\n",
    "    seq.declare_channel('ryd_target', 'rydberg_local2', 'target')\n",
    "    \n",
    "    # Write CZ sequence:\n",
    "    seq.add(pi_pulse, 'ryd_control', 'wait-for-all')  # Wait for state preparation to finish.\n",
    "    seq.align('ryd_control', 'ryd_target')  # Sets starting time of target channel equal to control channel\n",
    "    seq.add(twopi_pulse, 'ryd_target')\n",
    "    seq.align('ryd_control', 'ryd_target')\n",
    "    seq.add(pi_pulse, 'ryd_control') \n",
    "\n",
    "    return seq, prep_state, prep_time"
   ]
  },
  {
   "cell_type": "code",
   "execution_count": null,
   "metadata": {},
   "outputs": [],
   "source": [
    "seq, prep_state, prep_time = CZ_sequence('hh')\n",
    "seq.draw()\n",
    "print(f'Prepared state: {prep_state}')\n",
    "print(f'Preparation time: {prep_time}ns')"
   ]
  },
  {
   "cell_type": "markdown",
   "metadata": {},
   "source": [
    "## 4. Simulating the CZ sequence"
   ]
  },
  {
   "cell_type": "code",
   "execution_count": null,
   "metadata": {},
   "outputs": [],
   "source": [
    "for state_id in {'gg','hg','gh','hh'}:\n",
    "    # Get CZ sequence\n",
    "    print(f\"\\n CZ gate sequence acting on state {state_id}\\n\")\n",
    "    seq, prep_state, prep_time = CZ_sequence(state_id)\n",
    "    \n",
    "    # Construct Simulation instance\n",
    "    simul = Simulation(seq)\n",
    "    \n",
    "    simul.run(progress_bar = True)\n",
    "    \n",
    "    data=[st.overlap(prep_state) for st in simul.output.states]\n",
    "    \n",
    "    #plt.plot(np.imag(data))\n",
    "    plt.figure()\n",
    "    plt.plot(np.real(data))\n",
    "    plt.xlabel(r\"Time [ns]\")\n",
    "    plt.ylabel(fr'$ {state_id} | \\psi(t)\\rangle$')\n",
    "    plt.axvspan(0, prep_time, alpha=0.06, color='royalblue')\n",
    "    plt.title(fr\"Action on state $|${state_id}$\\rangle$\")"
   ]
  },
  {
   "cell_type": "markdown",
   "metadata": {},
   "source": [
    "Let's do a succint version to gather the results:"
   ]
  },
  {
   "cell_type": "code",
   "execution_count": null,
   "metadata": {},
   "outputs": [],
   "source": [
    "CZ = {}\n",
    "for state_id in {''.join(x) for x in product('gh', repeat=2)}:\n",
    "    seq, prep_st, prep_t = CZ_sequence(state_id)\n",
    "    simul = Simulation(seq)\n",
    "    simul.run()\n",
    "    final_st = simul.output.states[-1]\n",
    "    CZ[state_id] = final_st.overlap(prep_st)\n",
    "\n",
    "CZ"
   ]
  },
  {
   "cell_type": "markdown",
   "metadata": {},
   "source": [
    "##  5. CCZ Gate"
   ]
  },
  {
   "cell_type": "markdown",
   "metadata": {},
   "source": [
    "The same principle can be applied for composite gates. As an application, let us construct the *CCZ* gate, which determines the phase depending on the level of *two* control atoms."
   ]
  },
  {
   "cell_type": "code",
   "execution_count": null,
   "metadata": {},
   "outputs": [],
   "source": [
    "# Atom Register and Device\n",
    "q_dict_CCZ = {\"control1\":np.array([-4.,0.]),\n",
    "              \"target\": np.array([0.,4.]),\n",
    "              \"control2\": np.array([4.,0.])}\n",
    "reg_CCZ = Register(q_dict_CCZ)\n",
    "reg_CCZ.draw()"
   ]
  },
  {
   "cell_type": "code",
   "execution_count": null,
   "metadata": {},
   "outputs": [],
   "source": [
    "def build_state_from_id_CCZ(s_id, basis_name):\n",
    "    \"\"\" Recall that s_id = 'C1'+'C2'+'T' while in the register reg_id = 'C1'+'T'+'C2'.\"\"\"\n",
    "    if basis_name not in {'ground-rydberg','digital','all'}:\n",
    "        raise ValueError('Not a valid basis')\n",
    "        \n",
    "    if basis_name == 'digital':\n",
    "        pool = {''.join(x) for x in product('hg', repeat=3)}  # Gives all string labels\n",
    "        if s_id not in pool:\n",
    "            raise ValueError('Not a valid state id for the given basis.')\n",
    "        ket = {'g' : qutip.basis(2,0),\n",
    "               'h' : qutip.basis(2,1)}\n",
    "    \n",
    "    elif basis_name == 'ground-rydberg':\n",
    "        pool = {''.join(x) for x in product('gr', repeat=3)}\n",
    "        if s_id not in pool:\n",
    "            raise ValueError('Not a valid state id for the given basis.')\n",
    "        ket = {'r' : qutip.basis(2,0),\n",
    "               'g' : qutip.basis(2,1)}\n",
    "        \n",
    "    elif basis_name == 'all':\n",
    "        pool = {''.join(x) for x in product('hgr', repeat=3)}\n",
    "        if s_id not in pool:\n",
    "            raise ValueError('Not a valid state id for the given basis.')\n",
    "        ket = {'r' : qutip.basis(3,0),\n",
    "               'g' : qutip.basis(3,1),\n",
    "               'h' : qutip.basis(3,2)}\n",
    "        \n",
    "    reg_id = s_id[0]+s_id[2]+s_id[1] \n",
    "    return qutip.tensor([ket[x] for x in reg_id])"
   ]
  },
  {
   "cell_type": "code",
   "execution_count": null,
   "metadata": {},
   "outputs": [],
   "source": [
    "def prep_sequence_CCZ(state_id, seq, duration=200):\n",
    "    if not isinstance(seq, Sequence):\n",
    "        raise TypeError('Not a valid Pulser sequence.')\n",
    "    \n",
    "    if state_id == 'ggg': \n",
    "        basis = 'ground-rydberg'\n",
    "    else:\n",
    "        basis = 'all'\n",
    "        \n",
    "    prep_state = build_state_from_id_CCZ(state_id, basis)  # Will raise error if not a valid `state_id` \n",
    "    \n",
    "    if state_id != 'ggg':\n",
    "        #    seq.delay(duration, 'raman')\n",
    "        if state_id[2] == 'h': # Target will be last character in `state_id` string\n",
    "            seq.declare_channel('raman','raman_local','target')\n",
    "            seq.add(pi_Y,'raman') \n",
    "        if state_id[1] == 'h': \n",
    "            if 'raman' not in seq.declared_channels:\n",
    "                seq.declare_channel('raman','raman_local','control2')\n",
    "            else:\n",
    "                seq.target('control2','raman')\n",
    "            seq.add(pi_Y,'raman')\n",
    "        if state_id[0] == 'h':\n",
    "            if 'raman' not in seq.declared_channels:\n",
    "                seq.declare_channel('raman','raman_local','control1')\n",
    "            else:\n",
    "                seq.target('control1','raman')\n",
    "            seq.add(pi_Y,'raman')\n",
    "    else:\n",
    "        print('Warning: `ggg` state does not require a preparation sequence.')\n",
    "        \n",
    "    return prep_state"
   ]
  },
  {
   "cell_type": "code",
   "execution_count": null,
   "metadata": {},
   "outputs": [],
   "source": [
    "seq = Sequence(reg_CCZ, Chadoq2)\n",
    "prep_sequence_CCZ('hhg',seq)\n",
    "seq.draw()"
   ]
  },
  {
   "cell_type": "code",
   "execution_count": null,
   "metadata": {},
   "outputs": [],
   "source": [
    "def CCZ_sequence(initial_id):\n",
    "    # Define sequence\n",
    "    seq = Sequence(reg_CCZ, Chadoq2)\n",
    "    \n",
    "    # Prepare State\n",
    "    prep_state = prep_sequence_CCZ(initial_id, seq)\n",
    "    prep_time = max((seq._last(ch).tf for ch in seq.declared_channels), default=0)\n",
    "    \n",
    "    # Declare Rydberg channel\n",
    "    seq.declare_channel('rydA', 'rydberg_local', 'control1')\n",
    "    seq.declare_channel('rydB', 'rydberg_local2', 'control2')\n",
    "    \n",
    "    # Write CZ sequence:\n",
    "    seq.add(pi_pulse, 'rydA', 'wait-for-all')  # Wait for state preparation to finish.\n",
    "    seq.align('rydA','rydB')\n",
    "    seq.add(pi_pulse, 'rydB')\n",
    "    seq.target('target','rydA')\n",
    "    seq.align('rydA','rydB')\n",
    "    seq.add(twopi_pulse, 'rydA')\n",
    "    seq.align('rydA','rydB')\n",
    "    seq.add(pi_pulse, 'rydB')\n",
    "    seq.target('control1','rydA')\n",
    "    seq.align('rydA','rydB')\n",
    "    \n",
    "    seq.add(pi_pulse,'rydA')\n",
    "\n",
    "    return seq, prep_state, prep_time"
   ]
  },
  {
   "cell_type": "code",
   "execution_count": null,
   "metadata": {},
   "outputs": [],
   "source": [
    "CCZ_seq, st, t = CCZ_sequence('ggh')\n",
    "CCZ_seq.draw()"
   ]
  },
  {
   "cell_type": "code",
   "execution_count": null,
   "metadata": {
    "scrolled": true
   },
   "outputs": [],
   "source": [
    "for state_id in {''.join(x) for x in product('gh', repeat=3)}:\n",
    "    # Get CZ sequence\n",
    "    print(f\"\\n CCZ gate sequence acting on state {state_id}\\n\")\n",
    "    seq, prep_state, prep_time = CCZ_sequence(state_id)\n",
    "    \n",
    "    # Construct Simulation instance\n",
    "    simul = Simulation(seq)\n",
    "    \n",
    "    simul.run(progress_bar = True)\n",
    "    \n",
    "    data=[st.overlap(prep_state) for st in simul.output.states]\n",
    "    \n",
    "    #plt.plot(np.imag(data))\n",
    "    plt.figure()\n",
    "    plt.plot(np.real(data))\n",
    "    plt.xlabel(r\"Time [ns]\")\n",
    "    plt.ylabel(fr'$ {state_id} | \\psi(t)\\rangle$')\n",
    "    plt.axvspan(0, prep_time, alpha=0.06, color='royalblue')\n",
    "    plt.title(fr\"Action on state $|${state_id}$\\rangle$\")"
   ]
  },
  {
   "cell_type": "code",
   "execution_count": null,
   "metadata": {},
   "outputs": [],
   "source": [
    "CCZ = {}\n",
    "for state_id in {''.join(x) for x in product('gh', repeat=3)}:\n",
    "    seq, prep_st, prep_t = CCZ_sequence(state_id)\n",
    "    simul = Simulation(seq)\n",
    "    simul.run()\n",
    "    final_st = simul.output.states[-1]\n",
    "    CCZ[state_id] = final_st.overlap(prep_st)"
   ]
  },
  {
   "cell_type": "code",
   "execution_count": null,
   "metadata": {},
   "outputs": [],
   "source": [
    "CCZ"
   ]
  },
  {
   "cell_type": "markdown",
   "metadata": {},
   "source": [
    "Our results are as expected: only the $|hhh\\rangle$ state (which corresponds to a $111$ digital state) gets its phase flipped in sign"
   ]
  }
 ],
 "metadata": {
  "kernelspec": {
   "display_name": "Python 3",
   "language": "python",
   "name": "python3"
  },
  "language_info": {
   "codemirror_mode": {
    "name": "ipython",
    "version": 3
   },
   "file_extension": ".py",
   "mimetype": "text/x-python",
   "name": "python",
   "nbconvert_exporter": "python",
   "pygments_lexer": "ipython3",
   "version": "3.9.0"
  }
 },
 "nbformat": 4,
 "nbformat_minor": 4
}
