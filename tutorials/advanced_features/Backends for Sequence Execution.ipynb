{
 "cells": [
  {
   "cell_type": "markdown",
   "id": "6f230abe",
   "metadata": {},
   "source": [
    "# Backend Execution\n",
    "\n",
    "*What you will learn:*\n",
    "\n",
    "- what a `Backend` is for;\n",
    "- what types of `Backend` exist;\n",
    "- how to choose the best `Backend` for your needs;\n",
    "- how to execute a `Sequence` on a `Backend` and retrieve the results."
   ]
  },
  {
   "cell_type": "markdown",
   "id": "ae508ab2",
   "metadata": {},
   "source": [
    "## Introduction\n",
    "\n",
    "When the time comes to execute a Pulser sequence, there are many options: one can choose to execute it on a QPU or on an emulator, which might happen locally or remotely. All these options are accessible through an unified interface we call a `Backend`. \n",
    "\n",
    "This tutorial is a step-by-step guide on how to use the different backends for Pulser sequence execution."
   ]
  },
  {
   "cell_type": "markdown",
   "id": "a7601ae9",
   "metadata": {},
   "source": [
    "## 1. Choosing the type of backend\n",
    "\n",
    "Although the backend interface nearly doesn't change between backends, some will unavoidably enforce more restrictions on the sequence being executed or require extra steps. In particular, there are two questions to answer:\n",
    "\n",
    "1. **Is it local or remote?** Execution on remote backends requires a working remote connection. For now, this is only available through `pulser_pasqal.PasqalCloud`.\n",
    "2. **Is it a QPU or an Emulator?** For QPU execution, there are extra constraints on the sequence to take into account. Nonetheless, we can still enforce the same constraints when using an Emulator by setting `mimic_qpu=True`.\n",
    "\n",
    "### 1.1. Starting a remote connection\n",
    "\n",
    "For remote backend execution, start by ensuring that you have access and start a remote connection. For `PasqalCloud`, we could start one by running:"
   ]
  },
  {
   "cell_type": "code",
   "execution_count": null,
   "id": "ef3cc2eb",
   "metadata": {
    "tags": [
     "skip-execution"
    ]
   },
   "outputs": [],
   "source": [
    "from pulser_pasqal import PasqalCloud\n",
    "\n",
    "connection = PasqalCloud(\n",
    "    username=\"a.quelle@pasqal.com\",  # Your username or email address for the Pasqal Cloud Platform\n",
    "    project_id=\"0f321558-1326-475f-b2bf-7c3eb3ba6b47\",  # The ID of the project associated to your account\n",
    "    password=\"?$@qngzoz&tMq6Kx\",  # The password for your Pasqal Cloud Platform account\n",
    ")"
   ]
  },
  {
   "cell_type": "markdown",
   "id": "29cff577",
   "metadata": {},
   "source": [
    "### 1.2. Preparation for execution on  `QPUBackend`\n",
    "\n",
    "Sequence execution on a QPU is done through the `QPUBackend`, which is a remote backend. Therefore, it requires a remote backend connection, which should be open from the start due to two additional QPU constraints:\n",
    "\n",
    "1. The `Device` must be chosen among the options available at the moment, which can be found through `connection.fetch_available_devices()`.\n",
    "2. If in the chosen device `Device.requires_layout` is `True`, the `Register` must be defined from a register layout:  \n",
    "    -  If `Device.accepts_new_layouts` is `False`, use one of the register layouts calibrated for the chosen `Device` (found under `Device.calibrated_register_layouts`). Check out [this tutorial](reg_layouts.nblink) for more information on how to define a `Register` from a `RegisterLayout`.\n",
    "    - Otherwise, we may choose to define our own custom layout or rely on `Register.with_automatic_layout()` to\n",
    "    give us a register from an automatically generated register layout that fits our desired register while obeying the device constraints. \n",
    "\n",
    "\n",
    "On the contrary, execution on emulator backends imposes no further restriction on the device and the register. We will stick to emulator backends in this tutorial, so we will forego the requirements of QPU backends in the following steps."
   ]
  },
  {
   "cell_type": "markdown",
   "id": "35a4f10c",
   "metadata": {},
   "source": [
    "## 2. Creating the Pulse Sequence"
   ]
  },
  {
   "cell_type": "markdown",
   "id": "122a3c37",
   "metadata": {},
   "source": [
    "The next step is to create the sequence that we want to execute. Here, we make a sequence with a variable duration combining a Blackman waveform in amplitude and a ramp in detuning. Since it will be executed on an emulator, we can create the register we want and choose an appropriate `Device`.\n",
    "\n",
    "Since we are also going to run this sequence remotely, we have to use a device that is supported by the cloud. Supported devices can be queried via the `Connection` object.\n",
    "\n",
    "<div class=\"alert alert-warning\">\n",
    "\n",
    "Attention\n",
    "    \n",
    "This examples uses a [parametrized sequence](paramseqs.nblink), which is only introduced in the *Extended Usage* section.\n",
    "\n",
    "</div>"
   ]
  },
  {
   "cell_type": "code",
   "execution_count": null,
   "id": "8c32ef81",
   "metadata": {},
   "outputs": [],
   "source": [
    "connection.fetch_available_devices()"
   ]
  },
  {
   "cell_type": "markdown",
   "id": "86f0e2e5",
   "metadata": {},
   "source": [
    "Let us use the `Fresnel` device."
   ]
  },
  {
   "cell_type": "code",
   "execution_count": null,
   "id": "115ff88b",
   "metadata": {},
   "outputs": [],
   "source": [
    "device = connection.fetch_available_devices()[\"FRESNEL\"]"
   ]
  },
  {
   "cell_type": "code",
   "execution_count": null,
   "id": "4548fedd",
   "metadata": {},
   "outputs": [],
   "source": [
    "import numpy as np\n",
    "import pulser\n",
    "import pulser_simulation"
   ]
  },
  {
   "cell_type": "code",
   "execution_count": null,
   "id": "57e088c6",
   "metadata": {},
   "outputs": [],
   "source": [
    "reg = pulser.Register({\"q0\": (-5, 0), \"q1\": (5, 0)})\n",
    "\n",
    "seq = pulser.Sequence(reg, device)\n",
    "seq.declare_channel(\"rydberg_global\", \"rydberg_global\")\n",
    "t = seq.declare_variable(\"t\", dtype=int)\n",
    "\n",
    "amp_wf = pulser.BlackmanWaveform(t, np.pi)\n",
    "det_wf = pulser.RampWaveform(t, -5, 5)\n",
    "seq.add(pulser.Pulse(amp_wf, det_wf, 0), \"rydberg_global\")\n",
    "\n",
    "# We build with t=1000 so that we can draw it\n",
    "seq.build(t=1000).draw()"
   ]
  },
  {
   "cell_type": "markdown",
   "id": "deb625b6",
   "metadata": {},
   "source": [
    "## 3. Starting the backend"
   ]
  },
  {
   "cell_type": "markdown",
   "id": "953eab2e",
   "metadata": {},
   "source": [
    "It is now time to select and initialize the backend. Currently, these are the available backends (but bear in mind that the list may grow in the future, and that deprecated backends are not listed):\n",
    "\n",
    " - **Local**: \n",
    "     - `QutipBackendV2` (from `pulser_simulation`): Uses `QutipEmulator` to emulate the sequence execution locally.\n",
    " - **Remote**:\n",
    "     - `QPUBackend` (from `pulser`): Executes on a QPU through a remote connection.\n",
    "     - `EmuFreeBackendV2` (from `pulser_pasqal`): Executes the sequence on `QutipBackendV2`, but runs remotely in the cloud. \n",
    "     - `SVBackend` (from `emu_sv`): Emulates the sequence execution using a custom-built state vector emulator.\n",
    "     - `MPSBackend` (from `emu_mps`): Emulates the sequence using a tensor network emulator. \n",
    "     - `EmuMPSBackend` (from `pulser_pasqal`): Executes the sequence on `MPSBackend` but run remotely in the cloud."
   ]
  },
  {
   "cell_type": "markdown",
   "id": "438c3cca",
   "metadata": {},
   "source": [
    "If the appropriate packages are installed, all backends should be available via the `pulser.backends` module so we don't need to explicitly import them."
   ]
  },
  {
   "cell_type": "markdown",
   "id": "365ed331",
   "metadata": {},
   "source": [
    "Upon creation, all backends require the sequence they will execute. Emulator backends also accept, optionally, a configuration given as an instance of the `EmulationConfig` class. This is a parent class defining a general emulator configuration. Each emulator checks that it only contains supported configuration values, and to ensure that it is filled in correctly there exist subclasses for each emulator, such as `QutipConfig` for `QutipBackendV2`.\n",
    "\n",
    "A full list of available backends is available in the [backends' docstrings](../apidoc/_autosummary/pulser.backends.rst#module-pulser.backends)."
   ]
  },
  {
   "cell_type": "markdown",
   "id": "21f506c5",
   "metadata": {},
   "source": [
    "With `QutipBackendV2`, we have free reign over the configuration. In this example, we will:\n",
    " \n",
    "- Change the `sampling_rate`\n",
    "- Include measurement errors using a custom `NoiseModel`\n",
    "\n",
    "On the other hand, `QutipBackendV2` does not support parametrized sequences. Since it is running locally, they can always be built externally before being given to the backend. Therefore, we will build the sequence (with `t=2000`) before we give it to the backend."
   ]
  },
  {
   "cell_type": "code",
   "execution_count": null,
   "id": "6f64a5af",
   "metadata": {},
   "outputs": [],
   "source": [
    "config = pulser_simulation.QutipConfig(\n",
    "    sampling_rate=0.1,\n",
    "    noise_model=pulser.NoiseModel(\n",
    "        p_false_pos=0.01,\n",
    "        p_false_neg=0.004,\n",
    "    ),\n",
    "    observables=[pulser.backend.StateResult(evaluation_times=[1.0])],\n",
    ")\n",
    "\n",
    "qutip_bknd = pulser.backends.QutipBackendV2(seq.build(t=2000), config=config)"
   ]
  },
  {
   "cell_type": "markdown",
   "id": "1e8ad836",
   "metadata": {},
   "source": [
    "<div class=\"alert alert-info\">\n",
    "\n",
    "The `NoiseModel` class describes the noise of the setup. Read more about simulations with noise [in this tutorial](../noise_model.ipynb).\n",
    "</div>"
   ]
  },
  {
   "cell_type": "markdown",
   "id": "e74755e3",
   "metadata": {},
   "source": [
    "Currently, the remote emulator backends are still quite limited in the number of parameters they allow to be changed. Furthermore, different emulators have different default settings, so it's important to start from the correct default configuration. Here's how to do that for the `EmuMPSBackend`:"
   ]
  },
  {
   "cell_type": "code",
   "execution_count": null,
   "id": "0889e0ba",
   "metadata": {},
   "outputs": [],
   "source": [
    "emu_mps_config = pulser.backends.EmuMPSBackend.default_config"
   ]
  },
  {
   "cell_type": "markdown",
   "id": "21f4ee21",
   "metadata": {},
   "source": [
    "We will stick to the default configuration for `EmuFreeBackend`, but the process to create a custom configuration would be identical. To know which parameters can be changed, consult the backend's docstring."
   ]
  },
  {
   "cell_type": "code",
   "execution_count": null,
   "id": "59d5e3ca",
   "metadata": {
    "tags": [
     "skip-execution"
    ]
   },
   "outputs": [],
   "source": [
    "free_bknd = pulser.backends.EmuFreeBackendV2(seq, connection=connection)"
   ]
  },
  {
   "cell_type": "markdown",
   "id": "50729b54",
   "metadata": {},
   "source": [
    "Note also that the remote backends require an open connection upon initialization. This would also be the case for `QPUBackend`."
   ]
  },
  {
   "cell_type": "markdown",
   "id": "51cce28c",
   "metadata": {},
   "source": [
    "## 4. Executing the Sequence"
   ]
  },
  {
   "cell_type": "markdown",
   "id": "f4590ab7",
   "metadata": {},
   "source": [
    "Once the backend is created, executing the sequence is always done through the backend's `run()` method.\n",
    "\n",
    "For the `QutipBackend`, all arguments are optional and are the same as the ones in `QutipEmulator`. On the other hand, remote backends all require `job_params` to be specified. `job_params` are given as a list of dictionaries, each containing the number of runs and the values for the variables of the parametrized sequence (if any). The sequence is then executed with the parameters specified within each entry of `job_params`."
   ]
  },
  {
   "cell_type": "code",
   "execution_count": null,
   "id": "ec6fae0a",
   "metadata": {},
   "outputs": [],
   "source": [
    "# Local execution, returns the same results as QutipEmulator\n",
    "qutip_results = qutip_bknd.run()"
   ]
  },
  {
   "cell_type": "code",
   "execution_count": null,
   "id": "22e8f95b",
   "metadata": {
    "tags": [
     "skip-execution"
    ]
   },
   "outputs": [],
   "source": [
    "# Remote execution, requires job_params\n",
    "job_params = [\n",
    "    {\"runs\": 100, \"variables\": {\"t\": 1000}},\n",
    "    {\"runs\": 50, \"variables\": {\"t\": 2000}},\n",
    "]\n",
    "free_results = free_bknd.run(job_params=job_params)"
   ]
  },
  {
   "cell_type": "markdown",
   "id": "4421eb27",
   "metadata": {},
   "source": [
    "## 5. Retrieving the Results"
   ]
  },
  {
   "cell_type": "markdown",
   "id": "8289b06f",
   "metadata": {},
   "source": [
    "For the `QutipBackend` the results are identical to those of `QutipEmulator`: a sequence of individual `QutipResult` objects, one for each evaluation time. As usual we can, for example, get the final state:"
   ]
  },
  {
   "cell_type": "code",
   "execution_count": null,
   "id": "c920679c",
   "metadata": {},
   "outputs": [],
   "source": [
    "qutip_results.state[-1]"
   ]
  },
  {
   "cell_type": "markdown",
   "id": "2618a789",
   "metadata": {},
   "source": [
    "For remote backends, the object returned is a `RemoteResults` instance, which uses the connection to fetch the results once they are ready. To check the status of the batch, we can run:"
   ]
  },
  {
   "cell_type": "code",
   "execution_count": null,
   "id": "d24593f4",
   "metadata": {
    "tags": [
     "skip-execution"
    ]
   },
   "outputs": [],
   "source": [
    "free_results.get_batch_status()"
   ]
  },
  {
   "cell_type": "markdown",
   "id": "763e011c",
   "metadata": {},
   "source": [
    "When the batch states shows as `DONE`, the results can be accessed. In this case, they are a sequence of `SampledResult` objects, one for each entry in `job_params` in the same order. For example, we can retrieve the bitstring counts or even plot an histogram with the results:"
   ]
  },
  {
   "cell_type": "code",
   "execution_count": null,
   "id": "738de317",
   "metadata": {
    "tags": [
     "skip-execution"
    ]
   },
   "outputs": [],
   "source": [
    "print(free_results[0].bitstring_counts)\n",
    "free_results[0].plot_histogram()"
   ]
  },
  {
   "cell_type": "markdown",
   "id": "579c9417",
   "metadata": {},
   "source": [
    "The same could be done with the results from `EmuTNBackend` or even from `QPUBackend`, as they all share the same format."
   ]
  },
  {
   "cell_type": "markdown",
   "id": "d960fbe6",
   "metadata": {},
   "source": [
    "## 6. Alternative user interfaces for using remote backends"
   ]
  },
  {
   "cell_type": "markdown",
   "id": "93891a39",
   "metadata": {},
   "source": [
    "Once you have created a Pulser sequence, you can also use specialized Python SDKs to send it for execution:\n",
    "\n",
    "- the [pasqal-cloud](https://docs.pasqal.cloud/cloud/pasqal-cloud/) Python SDK, developed by PASQAL and used under-the-hood by Pulser's remote backends.\n",
    "- Azure's Quantum Development Kit (QDK) which you can use by creating an [Azure Quantum workspace](https://learn.microsoft.com/en-gb/azure/quantum/provider-pasqal) directly integrated with PASQAL emulators and QPU."
   ]
  }
 ],
 "metadata": {
  "kernelspec": {
   "display_name": "3.10.11",
   "language": "python",
   "name": "python3"
  },
  "language_info": {
   "codemirror_mode": {
    "name": "ipython",
    "version": 3
   },
   "file_extension": ".py",
   "mimetype": "text/x-python",
   "name": "python",
   "nbconvert_exporter": "python",
   "pygments_lexer": "ipython3",
   "version": "3.10.11"
  }
 },
 "nbformat": 4,
 "nbformat_minor": 5
}
