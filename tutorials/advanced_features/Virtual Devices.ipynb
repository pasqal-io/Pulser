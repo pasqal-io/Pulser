{
 "cells": [
  {
   "cell_type": "markdown",
   "metadata": {},
   "source": [
    "# Devices and Virtual Devices"
   ]
  },
  {
   "cell_type": "code",
   "execution_count": null,
   "metadata": {},
   "outputs": [],
   "source": [
    "import numpy as np\n",
    "from dataclasses import replace\n",
    "from pulser.devices import Device, VirtualDevice, AnalogDevice, MockDevice\n",
    "from pulser.channels import Rydberg, Raman, Microwave\n",
    "from pulser import Pulse, Sequence, Register"
   ]
  },
  {
   "cell_type": "markdown",
   "metadata": {},
   "source": [
    "## Physical devices"
   ]
  },
  {
   "cell_type": "markdown",
   "metadata": {},
   "source": [
    "To perform any computation using Pulser, it is necessary to choose a device. For convenience, some examples of typical physical devices are included and can be accessed via `pulser.devices`.  \n",
    "These devices are instances of the `Device` class. They are constrained by physical considerations and all their parameters are defined.\n",
    "\n",
    "As an example, we present below the specifications of the physical device `AnalogDevice`, which can be accessed via the `Device.print_specs()` method."
   ]
  },
  {
   "cell_type": "code",
   "execution_count": null,
   "metadata": {},
   "outputs": [],
   "source": [
    "# Display AnalogDevice's specifications\n",
    "AnalogDevice.print_specs()"
   ]
  },
  {
   "cell_type": "markdown",
   "metadata": {},
   "source": [
    "## Virtual Devices"
   ]
  },
  {
   "cell_type": "markdown",
   "metadata": {},
   "source": [
    "### Converting a Device into a Virtual Device"
   ]
  },
  {
   "cell_type": "markdown",
   "metadata": {},
   "source": [
    "However, we sometimes want to perform the computations on a more permissive device, a device that would have more dimensions or more atoms for instance, or more types of channels. This can be done on an emulator behaving like a device. The `VirtualDevice` class is useful to define such an emulator, a virtual device.\n",
    "\n",
    "Let's start by configuring a virtual device having the same parameters as `AnalogDevice`. To do this, we use the `Device.to_virtual()` method that creates a virtual device from a physical one. "
   ]
  },
  {
   "cell_type": "code",
   "execution_count": null,
   "metadata": {},
   "outputs": [],
   "source": [
    "# Converting the Device object in a VirtualDevice object\n",
    "VirtualAnalog = AnalogDevice.to_virtual()\n",
    "print(VirtualAnalog)"
   ]
  },
  {
   "cell_type": "markdown",
   "metadata": {},
   "source": [
    "### Changing parameters of a virtual device with `dataclasses.replace()`"
   ]
  },
  {
   "cell_type": "markdown",
   "metadata": {},
   "source": [
    "As proposed earlier, a virtual device gives us the possibility to modify the parameters of a physical device. The function `dataclasses.replace()` can be used to create a new `VirtualDevice` having some parameters changed.  \n",
    "For example, simulations can be run on a virtual device having the same properties as `AnalogDevice` but allowing working in 3 dimensions."
   ]
  },
  {
   "cell_type": "code",
   "execution_count": null,
   "metadata": {},
   "outputs": [],
   "source": [
    "# Adding a dimension to the emulator\n",
    "VirtualAnalog3D = replace(VirtualAnalog, dimensions=3)\n",
    "print(VirtualAnalog3D)"
   ]
  },
  {
   "cell_type": "markdown",
   "metadata": {},
   "source": [
    "### Unrealistic parameters of a virtual device"
   ]
  },
  {
   "cell_type": "markdown",
   "metadata": {},
   "source": [
    "Among the parameters defined in a `VirtualDevice`, some are called unrealistic as they do not refer to something physically implementable.  \n",
    "For instance, it is possible to change the Rydberg level used in the simulation or to call a channel multiple times in the same sequence. Modifying the Rydberg level has an impact on the coefficient $C_6$ (see [here](https://github.com/pasqal-io/Pulser/blob/develop/pulser-core/pulser/devices/interaction_coefficients/C6_coeffs.json) for the correspondance between the Rydberg level and $C_6$ coefficient)."
   ]
  },
  {
   "cell_type": "code",
   "execution_count": null,
   "metadata": {},
   "outputs": [],
   "source": [
    "# Changing the Rydberg level\n",
    "VirtualAnalog3D.change_rydberg_level(61)\n",
    "print(VirtualAnalog3D)"
   ]
  },
  {
   "cell_type": "code",
   "execution_count": null,
   "metadata": {},
   "outputs": [],
   "source": [
    "# Enable the multiple declaration of a channel in a sequence\n",
    "VirtualAnalog3D = replace(VirtualAnalog3D, reusable_channels=True)\n",
    "# Creating a square register\n",
    "reg = Register.square(4, spacing=5)  # 4x4 array with atoms 5 um apart\n",
    "# Building a sequence with the register and the virtual device\n",
    "seq = Sequence(reg, VirtualAnalog3D)\n",
    "# Declare twice the channel \"rydberg_global\"\n",
    "seq.declare_channel(\"ch0\", \"rydberg_global\")\n",
    "seq.declare_channel(\"ch1\", \"rydberg_global\")\n",
    "# Show the declared channels\n",
    "print(seq.declared_channels)"
   ]
  },
  {
   "cell_type": "markdown",
   "metadata": {},
   "source": [
    "### Building your own virtual device"
   ]
  },
  {
   "cell_type": "markdown",
   "metadata": {},
   "source": [
    "More generally, the `VirtualDevice` class is more permissive than the `Device` class. In fact, some parameters can be left undefined and simpler devices can be built with a `VirtualDevice` instance. A virtual device only needs a `name`, a `dimension` and a `rydberg_level` to be initialized."
   ]
  },
  {
   "cell_type": "code",
   "execution_count": null,
   "metadata": {},
   "outputs": [],
   "source": [
    "BasicVirtualDevice = VirtualDevice(\n",
    "    name=\"BasicMockDevice\",\n",
    "    dimensions=2,\n",
    "    rydberg_level=61,\n",
    ")\n",
    "print(BasicVirtualDevice)"
   ]
  },
  {
   "cell_type": "markdown",
   "metadata": {},
   "source": [
    "### Defining the channels of your device"
   ]
  },
  {
   "cell_type": "markdown",
   "metadata": {},
   "source": [
    "Nevertheless, to perform computations, channels have to be defined. The channels enabled on the device are defined in `channel_objects`. Their IDs can be defined in `channel_ids`, but if no IDs are provided, they will be automatically generated as `{channeltype}_adressing`.  \n",
    "For example, the `Rydberg.Global` channel is automatically named `rydberg_global` in the specifications of `AnalogDevice`."
   ]
  },
  {
   "cell_type": "code",
   "execution_count": null,
   "metadata": {},
   "outputs": [],
   "source": [
    "# This basic device can be used for digital quantum computing\n",
    "DigitalQCVirtualDevice = replace(\n",
    "    BasicVirtualDevice,\n",
    "    channel_ids=(\n",
    "        \"ryd_loc\",\n",
    "        \"ram_loc\",\n",
    "    ),\n",
    "    channel_objects=(\n",
    "        Rydberg.Local(None, None, max_duration=None),\n",
    "        Raman.Local(None, None, max_duration=None),\n",
    "    ),\n",
    ")\n",
    "print(DigitalQCVirtualDevice)"
   ]
  },
  {
   "cell_type": "markdown",
   "metadata": {},
   "source": [
    "### A built-in example of a virtual device: the `MockDevice`"
   ]
  },
  {
   "cell_type": "markdown",
   "metadata": {},
   "source": [
    "Actually, there exists a virtual device having all the channels already implemented, with no constraints on the number of atoms, the distance between them. This virtual device is the `MockDevice`."
   ]
  },
  {
   "cell_type": "code",
   "execution_count": null,
   "metadata": {},
   "outputs": [],
   "source": [
    "MyMockDevice = replace(MockDevice, name=\"MyMockDevice\")\n",
    "print(MyMockDevice)"
   ]
  }
 ],
 "metadata": {
  "kernelspec": {
   "display_name": "Python 3 (ipykernel)",
   "language": "python",
   "name": "python3"
  },
  "language_info": {
   "codemirror_mode": {
    "name": "ipython",
    "version": 3
   },
   "file_extension": ".py",
   "mimetype": "text/x-python",
   "name": "python",
   "nbconvert_exporter": "python",
   "pygments_lexer": "ipython3",
   "version": "3.8.15"
  },
  "vscode": {
   "interpreter": {
    "hash": "d7befc2b7128012c20acd62dabd11e354c11719f07d398d865d9fdabfc55d6a7"
   }
  }
 },
 "nbformat": 4,
 "nbformat_minor": 2
}
