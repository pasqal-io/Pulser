{
 "cells": [
  {
   "cell_type": "markdown",
   "metadata": {},
   "source": [
    "# State preparation with the SLM mask"
   ]
  },
  {
   "cell_type": "markdown",
   "metadata": {},
   "source": [
    "## Basics"
   ]
  },
  {
   "cell_type": "markdown",
   "id": "467b6371",
   "metadata": {},
   "source": [
    "When performing quantum computations with global pulses, it might be hard to prepare the system in an arbitrary initial state. This is especially true in the XY mode, where only a global $\\sigma^x$ pulse can produce excitations whose number is otherwise conserved during free evolution. A partial solution to this problem is to utilize an SLM mask. <br>\n",
    "Assume a system of three qubits in XY mode is initially in state $\\left| 000 \\right\\rangle$, and that we are interested in preparing the state $\\left| 100 \\right\\rangle$. Acting naively with a global $\\sigma^x$ pulse of area $\\pi$ would result in state $\\left| 111\\right\\rangle$. Using an SLM pattern, however, it is possible to detune the last two qubits away from resonance, and the same global $\\sigma^x$ pulse will produced instead the desired state $\\left| 100\\right\\rangle$. <br>\n",
    "Let's see how it works in practice. First create the register:"
   ]
  },
  {
   "cell_type": "code",
   "execution_count": null,
   "id": "e5f9a381",
   "metadata": {},
   "outputs": [],
   "source": [
    "import numpy as np\n",
    "from pulser import Pulse, Sequence, Register\n",
    "from pulser.devices import MockDevice\n",
    "from pulser.waveforms import BlackmanWaveform\n",
    "from pulser_simulation import QutipEmulator\n",
    "\n",
    "# Qubit register\n",
    "qubits = {\"q0\": (-5, 0), \"q1\": (0, 0), \"q2\": (5, 0)}\n",
    "reg = Register(qubits)\n",
    "reg.draw()"
   ]
  },
  {
   "cell_type": "markdown",
   "id": "a0adcb3d",
   "metadata": {},
   "source": [
    "## SLM Mask in XY mode"
   ]
  },
  {
   "cell_type": "markdown",
   "id": "c727c9f7",
   "metadata": {},
   "source": [
    "Let's now create the sequence and add a global $\\sigma^x$ pulse of area $\\pi$ in XY mode:"
   ]
  },
  {
   "cell_type": "code",
   "execution_count": null,
   "id": "7c2aecfb",
   "metadata": {},
   "outputs": [],
   "source": [
    "# Create the sequence\n",
    "seq = Sequence(reg, MockDevice)\n",
    "\n",
    "# Declare a global XY channel and add the pi pulse\n",
    "seq.declare_channel(\"ch\", \"mw_global\")\n",
    "pulse = Pulse.ConstantDetuning(BlackmanWaveform(200, np.pi), 0, 0)\n",
    "seq.add(pulse, \"ch\")"
   ]
  },
  {
   "cell_type": "markdown",
   "id": "d1511bca",
   "metadata": {},
   "source": [
    "Drawing the sequence will show the following:"
   ]
  },
  {
   "cell_type": "code",
   "execution_count": null,
   "id": "4dce4509",
   "metadata": {},
   "outputs": [],
   "source": [
    "seq.draw()"
   ]
  },
  {
   "cell_type": "markdown",
   "id": "fa5c5fbb",
   "metadata": {},
   "source": [
    "To set up the SLM mask all we need to do is to pass to the $\\verb:Sequence.config_slm_mask:$ method a list that contains the name of the qubits that we want to mask and the name of the `DMM` channel to use to configure the SLM Mask. The latter is taken as `dmm_0` by default. The device `MockDevice` contains one `DMM`, so `dmm_0` does indeed exist."
   ]
  },
  {
   "cell_type": "code",
   "execution_count": null,
   "id": "462c1a9c",
   "metadata": {},
   "outputs": [],
   "source": [
    "# Mask the last two qubits\n",
    "masked_qubits = [\"q1\", \"q2\"]\n",
    "seq.config_slm_mask(masked_qubits)"
   ]
  },
  {
   "cell_type": "markdown",
   "id": "1aa757b8",
   "metadata": {},
   "source": [
    "At this point it is possible to visualize the mask by drawing the sequence. The masked pulse will appear with a shaded background, and the names of the masked qubits will be shown in the bottom left corner."
   ]
  },
  {
   "cell_type": "code",
   "execution_count": null,
   "id": "abd0dc82",
   "metadata": {},
   "outputs": [],
   "source": [
    "seq.draw()"
   ]
  },
  {
   "cell_type": "markdown",
   "id": "2e27a12b",
   "metadata": {},
   "source": [
    "The sequence drawing method also allows to visualize the register. If an SLM mask is defined, the masked qubits will appear with a shaded square halo around them:"
   ]
  },
  {
   "cell_type": "code",
   "execution_count": null,
   "id": "0fffe4c2",
   "metadata": {},
   "outputs": [],
   "source": [
    "seq.draw(draw_register=True)"
   ]
  },
  {
   "cell_type": "markdown",
   "id": "21c01972",
   "metadata": {},
   "source": [
    "Now let's see how the system evolves under this masked pulse. Since the pulse only acts on the first qubit, we expect the final state to be $\\left| 100 \\right\\rangle$, or, according to [Pulser's conventions for XY basis states](../conventions.rst#qubit-states), $(0,1)^T \\otimes (1,0)^T \\otimes (1,0)^T$ in the Hilbert space $C^8$:"
   ]
  },
  {
   "cell_type": "code",
   "execution_count": null,
   "id": "a9dead3e",
   "metadata": {},
   "outputs": [],
   "source": [
    "import qutip\n",
    "\n",
    "qutip.tensor(qutip.basis(2, 1), qutip.basis(2, 0), qutip.basis(2, 0))"
   ]
  },
  {
   "cell_type": "markdown",
   "id": "268d32a2",
   "metadata": {},
   "source": [
    "Now run the simulation and print the final state as given by Pulser:"
   ]
  },
  {
   "cell_type": "code",
   "execution_count": null,
   "id": "1af830f5",
   "metadata": {},
   "outputs": [],
   "source": [
    "sim = QutipEmulator.from_sequence(seq)\n",
    "results = sim.run()\n",
    "\n",
    "results.get_final_state()"
   ]
  },
  {
   "cell_type": "markdown",
   "id": "084d93b9",
   "metadata": {},
   "source": [
    "As expected, the two states agree up to numerical errors."
   ]
  },
  {
   "cell_type": "markdown",
   "id": "caf52b73",
   "metadata": {},
   "source": [
    "### Notes on XY mode"
   ]
  },
  {
   "cell_type": "markdown",
   "id": "40376d73",
   "metadata": {},
   "source": [
    "Since the SLM mask is mostly useful for state preparation, its use in Pulser is restricted to the first pulse in the sequence. This can be seen by adding an extra pulse in the previous example and drawing the sequence:"
   ]
  },
  {
   "cell_type": "code",
   "execution_count": null,
   "id": "e8c4fa49",
   "metadata": {},
   "outputs": [],
   "source": [
    "seq.add(pulse, \"ch\")"
   ]
  },
  {
   "cell_type": "code",
   "execution_count": null,
   "id": "ecc4cef4",
   "metadata": {},
   "outputs": [],
   "source": [
    "seq.draw()"
   ]
  },
  {
   "cell_type": "markdown",
   "id": "f5260b2c",
   "metadata": {},
   "source": [
    "This example also illustrates the fact that in XY mode, the SLM mask can be configured at any moment during the creation of a sequence (either before or after adding pulses) and it will automatically latch to the first pulse. <br>\n",
    "However, in order to reflect real hardware constraints, the mask can be configured only once. Trying to configure the mask a second time will raise an error:"
   ]
  },
  {
   "cell_type": "code",
   "execution_count": null,
   "id": "527ffd80",
   "metadata": {},
   "outputs": [],
   "source": [
    "try:\n",
    "    seq.config_slm_mask(masked_qubits)\n",
    "except ValueError as err:\n",
    "    print(err)"
   ]
  },
  {
   "cell_type": "markdown",
   "id": "662398b5",
   "metadata": {},
   "source": [
    "## SLM Mask in Ising mode"
   ]
  },
  {
   "cell_type": "markdown",
   "id": "09b56b15",
   "metadata": {},
   "source": [
    "In Ising mode, configuring an SLM Mask with a `DMM` labeled `dmm_id` in the device internally configures a detuning map using `config_detuning_map` (see notebook [\"Local Addressability with DMM\"](dmm.nblink) for an introduction) with `dmm_id` and a `DetuningMap` **distributing the applied detuning equally over all the masked qubits**.\n",
    "\n",
    "For instance in the last example qubits \"q1\" and \"q2\" are masked, so we expect a `DetuningMap` associating to the trap location of \"q0\" the weight 0, and to the trap locations of \"q1\" and \"q2\" the weight $1/2 = 0.5$:"
   ]
  },
  {
   "cell_type": "code",
   "execution_count": null,
   "id": "2d6c9a1f",
   "metadata": {},
   "outputs": [],
   "source": [
    "# Create the sequence\n",
    "seq = Sequence(reg, MockDevice)\n",
    "\n",
    "# Declare a global Rydberg channel and add the pi pulse\n",
    "seq.declare_channel(\"ch\", \"rydberg_global\")\n",
    "pulse = Pulse.ConstantDetuning(BlackmanWaveform(200, np.pi), 0, 0)\n",
    "seq.add(pulse, \"ch\")\n",
    "# Mask the last two qubits\n",
    "masked_qubits = [\"q1\", \"q2\"]\n",
    "seq.config_slm_mask(masked_qubits, \"dmm_0\")\n",
    "seq._schedule[\"dmm_0\"].detuning_map.draw([0, 1, 2])"
   ]
  },
  {
   "cell_type": "markdown",
   "id": "4c2b1809",
   "metadata": {},
   "source": [
    "We can see that the shade of the square covering qubit 1 and 2 are the same, and that no square covers qubit 0: the detuning map created is exactly the one wanted.\n",
    "\n",
    "Now what happens at the pulse level ?\n",
    "\n",
    "If the SLM Mask is configured while some pulses had already been added to the sequence- as it is the case in the previous example- a pulse of constant detuning is immediately applied on the detuning map configured for the SLM Mask. The value of this detuning is very large compared to the amplitude of the first pulse in the schedule (ideally, -10 times this amplitude, or `bottom_detuning` of the `DMM` if `bottom_detunig` is defined and its value is higher).  "
   ]
  },
  {
   "cell_type": "code",
   "execution_count": null,
   "id": "aa4101a2",
   "metadata": {},
   "outputs": [],
   "source": [
    "seq.draw(draw_detuning_maps=True, draw_qubit_amp=True, draw_qubit_det=True)"
   ]
  },
  {
   "cell_type": "markdown",
   "id": "0d74c18c",
   "metadata": {},
   "source": [
    "At the qubit level, you can see that all the qubits receive the $\\sigma^x$ pulse of area $\\pi$ in amplitude, but only qubit `q0` is on resonance (detuning is constant equal to 0) and will change state. Detuning on \"q1\" and \"q2\" being not of infinite values, they are not perfectly masked and therefore the state resulting from this sequence is not exactly the state $(0,1)^T \\otimes (1,0)^T \\otimes (1,0)^T$. However it is very close to this state and represents better the experiment."
   ]
  },
  {
   "cell_type": "code",
   "execution_count": null,
   "id": "5a0a77a3",
   "metadata": {},
   "outputs": [],
   "source": [
    "sim = QutipEmulator.from_sequence(seq)\n",
    "results = sim.run()\n",
    "\n",
    "results.get_final_state()"
   ]
  },
  {
   "cell_type": "markdown",
   "id": "97d869c1",
   "metadata": {},
   "source": [
    "<u>Note:</u> Of course, you can add pulses to channels or dmm after the SLM Mask:"
   ]
  },
  {
   "cell_type": "code",
   "execution_count": null,
   "id": "5692c7e4",
   "metadata": {},
   "outputs": [],
   "source": [
    "seq.add(pulse, \"ch\")\n",
    "seq.add_dmm_detuning(-BlackmanWaveform(200, np.pi), \"dmm_0\")\n",
    "seq.draw()"
   ]
  },
  {
   "cell_type": "markdown",
   "id": "e689706c",
   "metadata": {},
   "source": [
    "If the first operation performed in the sequence is the configuration of the SLM Mask, then the `DMM` used for the configuration of the SLM Mask cannot be used until a pulse is added on an Ising channel. The first pulse added will define the SLM Mask. "
   ]
  },
  {
   "cell_type": "code",
   "execution_count": null,
   "id": "331eb4e3",
   "metadata": {},
   "outputs": [],
   "source": [
    "# Create the sequence\n",
    "seq = Sequence(reg, MockDevice)\n",
    "# Mask the last two qubits\n",
    "masked_qubits = [\"q1\", \"q2\"]\n",
    "seq.config_slm_mask(masked_qubits, \"dmm_0\")\n",
    "# Declare a global Rydberg channel and add the pi pulse\n",
    "seq.declare_channel(\"ch\", \"rydberg_global\")\n",
    "\n",
    "try:\n",
    "    seq.add_dmm_detuning(-BlackmanWaveform(200, np.pi), \"dmm_0\")\n",
    "except ValueError as err:\n",
    "    print(err)"
   ]
  },
  {
   "cell_type": "code",
   "execution_count": null,
   "id": "7bd874cb",
   "metadata": {},
   "outputs": [],
   "source": [
    "# Masked pulse\n",
    "seq.add(pulse, \"ch\")\n",
    "seq.draw()"
   ]
  },
  {
   "cell_type": "markdown",
   "id": "00276258",
   "metadata": {},
   "source": [
    "### Note:\n",
    "As in XY mode, you cannot configure the SLM Mask twice. However, be careful that in Ising mode, the moment you configure the SLM Mask matters: once configured, the masked pulse is never changed."
   ]
  }
 ],
 "metadata": {
  "kernelspec": {
   "display_name": "Python 3",
   "language": "python",
   "name": "python3"
  },
  "language_info": {
   "codemirror_mode": {
    "name": "ipython",
    "version": 3
   },
   "file_extension": ".py",
   "mimetype": "text/x-python",
   "name": "python",
   "nbconvert_exporter": "python",
   "pygments_lexer": "ipython3",
   "version": "3.11.3"
  }
 },
 "nbformat": 4,
 "nbformat_minor": 5
}
