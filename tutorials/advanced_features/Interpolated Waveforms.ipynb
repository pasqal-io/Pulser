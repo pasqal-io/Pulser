{
 "cells": [
  {
   "cell_type": "markdown",
   "metadata": {},
   "source": [
    "# Interpolated Waveforms"
   ]
  },
  {
   "cell_type": "code",
   "execution_count": null,
   "metadata": {},
   "outputs": [],
   "source": [
    "import numpy as np\n",
    "import matplotlib.pyplot as plt\n",
    "\n",
    "import pulser\n",
    "from pulser import Pulse, Sequence, Register\n",
    "from pulser.devices import Chadoq2\n",
    "from pulser.waveforms import InterpolatedWaveform"
   ]
  },
  {
   "cell_type": "markdown",
   "metadata": {},
   "source": [
    "In some particular applications (the most notorious being its use in optimal control at the pulse level) it is useful to define a waveform through the interpolation of a set of data points. For these cases, Pulser provides the `InterpolatedWaveform` class."
   ]
  },
  {
   "cell_type": "markdown",
   "metadata": {},
   "source": [
    "In its most stripped back form, the `InterpolatedWavefrom` requires two things: a `duration` and a list of `values`. The placement of these values along the times axis defaults to spacing the values evenly along the whole duration of the waveform. "
   ]
  },
  {
   "cell_type": "code",
   "execution_count": null,
   "metadata": {
    "scrolled": true
   },
   "outputs": [],
   "source": [
    "# A standard interpolation (using PchipInterpolator)\n",
    "duration = 1000\n",
    "values = [0, 1, 4.4, 2, 3, 1, 0]\n",
    "int_wf = InterpolatedWaveform(duration, values)\n",
    "int_wf.draw()"
   ]
  },
  {
   "cell_type": "markdown",
   "metadata": {},
   "source": [
    "If we want to specify the time coordinate of each data point, we can do so through the `times` option. These should come in a list of values betwen `0` and `1`, which are interperted as fractions of the total duration. As an example, below we specify that the `values` are all bunched in the first half of the waveform, except for the last one, which is left at the end."
   ]
  },
  {
   "cell_type": "code",
   "execution_count": null,
   "metadata": {},
   "outputs": [],
   "source": [
    "ts = np.r_[np.linspace(0.0, 0.5, num=len(values) - 1), 1]\n",
    "int_wf_t = InterpolatedWaveform(duration, values, times=ts)\n",
    "int_wf_t.draw()"
   ]
  },
  {
   "cell_type": "markdown",
   "metadata": {},
   "source": [
    "The other crucial component is the `interpolator`. Currently, the class supports two interpolator classes from the `scipy.interpolate` module: `PchipInterpolator` (chosen by default) and `interp1d`. Below, we change the interpolator to `interp1d`, which does a linear interpolation by default:"
   ]
  },
  {
   "cell_type": "code",
   "execution_count": null,
   "metadata": {},
   "outputs": [],
   "source": [
    "int_wf2 = InterpolatedWaveform(duration, values, interpolator=\"interp1d\")\n",
    "int_wf2.draw()"
   ]
  },
  {
   "cell_type": "markdown",
   "metadata": {},
   "source": [
    "One can also change the optional parameters of the chosen interpolator by giving them to `InterpolatedWaveform`. For example, the interpolation with `interp1d` can be cubic instead of linear by changing the `kind` parameter.\n",
    "\n",
    "Naturally, the choice of interpolator will dictate which extra parameters can be optionally provided. As such, one must refer to the chosen interpolator's documentation for the specific details."
   ]
  },
  {
   "cell_type": "code",
   "execution_count": null,
   "metadata": {
    "scrolled": true
   },
   "outputs": [],
   "source": [
    "int_wf3 = InterpolatedWaveform(\n",
    "    duration, values, interpolator=\"interp1d\", kind=\"cubic\"\n",
    ")\n",
    "int_wf3.draw()"
   ]
  },
  {
   "cell_type": "markdown",
   "metadata": {},
   "source": [
    "Finally, an `InterpolatedWaveform` can be streched or contracted in both magnitude and duration: "
   ]
  },
  {
   "cell_type": "code",
   "execution_count": null,
   "metadata": {
    "scrolled": true
   },
   "outputs": [],
   "source": [
    "# Streching an interpolated waveform\n",
    "int_wf_stretch_y = int_wf * 2\n",
    "int_wf_stretch_x = int_wf.change_duration(duration * 2)\n",
    "\n",
    "fig, ax = plt.subplots()\n",
    "ax.plot(int_wf.samples, label=\"Original\")\n",
    "ax.plot(int_wf_stretch_y.samples, label=\"Streched in Y\")\n",
    "ax.plot(int_wf_stretch_x.samples, label=\"Streched in X\")\n",
    "ax.legend()\n",
    "plt.show()"
   ]
  },
  {
   "cell_type": "markdown",
   "metadata": {},
   "source": [
    "### Use in a paramterized sequence"
   ]
  },
  {
   "cell_type": "markdown",
   "metadata": {},
   "source": [
    "The `InterpolatedWaveform` is used like any other waveform. In the contexts where it usually comes up, it might be helpful to incorporate it in a parametrized sequence. Below, we'll show how to make a parametrized sequence where the data points for the amplitude and detuning waveforms are variables."
   ]
  },
  {
   "cell_type": "code",
   "execution_count": null,
   "metadata": {
    "scrolled": true
   },
   "outputs": [],
   "source": [
    "reg = Register.square(2)\n",
    "param_seq = Sequence(reg, Chadoq2)\n",
    "param_seq.declare_channel(\"rydberg_global\", \"rydberg_global\", initial_target=0)\n",
    "amp_vals = param_seq.declare_variable(\"amp_vals\", size=5, dtype=float)\n",
    "det_vals = param_seq.declare_variable(\"det_vals\", size=4, dtype=float)\n",
    "\n",
    "amp_wf = InterpolatedWaveform(1000, amp_vals)\n",
    "det_wf = InterpolatedWaveform(\n",
    "    1000, det_vals, interpolator=\"interp1d\", kind=\"cubic\"\n",
    ")\n",
    "pls = Pulse(amp_wf, det_wf, 0)\n",
    "\n",
    "param_seq.add(pls, \"rydberg_global\")"
   ]
  },
  {
   "cell_type": "markdown",
   "metadata": {},
   "source": [
    "From here, we can build some random sequence by specifying the values of `amp_vals` and `det_vals`. For example:"
   ]
  },
  {
   "cell_type": "code",
   "execution_count": null,
   "metadata": {},
   "outputs": [],
   "source": [
    "seq1 = param_seq.build(amp_vals=[0, 2, 1, 2, 0], det_vals=[0, -5, 5, -5])\n",
    "seq1.draw()"
   ]
  },
  {
   "cell_type": "markdown",
   "metadata": {},
   "source": [
    "Notice how the interpolation points are automatically drawn on top of the waveforms. You can disable this option through the `draw_interp_pts` parameter:"
   ]
  },
  {
   "cell_type": "code",
   "execution_count": null,
   "metadata": {},
   "outputs": [],
   "source": [
    "seq1.draw(draw_interp_pts=False)"
   ]
  }
 ],
 "metadata": {
  "kernelspec": {
   "display_name": "Python 3",
   "language": "python",
   "name": "python3"
  },
  "language_info": {
   "codemirror_mode": {
    "name": "ipython",
    "version": 3
   },
   "file_extension": ".py",
   "mimetype": "text/x-python",
   "name": "python",
   "nbconvert_exporter": "python",
   "pygments_lexer": "ipython3",
   "version": "3.8.5"
  }
 },
 "nbformat": 4,
 "nbformat_minor": 4
}
