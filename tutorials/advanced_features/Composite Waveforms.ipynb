{
 "cells": [
  {
   "cell_type": "markdown",
   "metadata": {},
   "source": [
    "# Composite Waveforms"
   ]
  },
  {
   "cell_type": "code",
   "execution_count": null,
   "metadata": {},
   "outputs": [],
   "source": [
    "import numpy as np\n",
    "\n",
    "from pulser import Pulse\n",
    "from pulser.waveforms import (\n",
    "    BlackmanWaveform,\n",
    "    RampWaveform,\n",
    "    CompositeWaveform,\n",
    "    ConstantWaveform,\n",
    ")"
   ]
  },
  {
   "cell_type": "markdown",
   "metadata": {},
   "source": [
    "When creating a `Sequence`, it's usually preferable to divide it into a stream of simple pulses. However, this is not always convenient, as the natural breaking point in the `amplitude` and `detuning` waveforms may not always match. \n",
    "\n",
    "In these cases, the `CompositeWaveform` allows for the creation of a more complex waveform by concatenation of multiple, smaller waveforms. Here's an example of how to use it:"
   ]
  },
  {
   "cell_type": "code",
   "execution_count": null,
   "metadata": {
    "scrolled": true
   },
   "outputs": [],
   "source": [
    "# Defining simple waveforms\n",
    "pi_pulse = BlackmanWaveform(1000, np.pi)  # Blackman pi-pulse of 1us\n",
    "up = RampWaveform(500, 0, 5)\n",
    "down = RampWaveform(500, 5, 0)\n",
    "\n",
    "# Creating the CompositeWaveform\n",
    "comp_wf = CompositeWaveform(pi_pulse, up, down)\n",
    "comp_wf.draw()\n",
    "\n",
    "# All usual metrics are still availabe\n",
    "print(\"Composite pulse duration: \", comp_wf.duration)\n",
    "print(\"Composite pulse area: \", comp_wf.integral)"
   ]
  },
  {
   "cell_type": "markdown",
   "metadata": {},
   "source": [
    "Say that this waveform modulates the amplitude, but alongside it we would like a detuning in the form of a `RampWaveform`, going from $-10$ to $2$ rad/µs. Without the composite waveform, we would be forced to calculate the detuning values at $t=1000$ ns and $t=1500$ ns, in order to create three separate ramps. Instead, we can make a single ramp and use it to create a single pulse:"
   ]
  },
  {
   "cell_type": "code",
   "execution_count": null,
   "metadata": {},
   "outputs": [],
   "source": [
    "detuning_ramp = RampWaveform(comp_wf.duration, -10, 2)\n",
    "\n",
    "pulse = Pulse(comp_wf, detuning_ramp, phase=0)\n",
    "pulse.draw()"
   ]
  }
 ],
 "metadata": {
  "kernelspec": {
   "display_name": "Python 3",
   "language": "python",
   "name": "python3"
  },
  "language_info": {
   "codemirror_mode": {
    "name": "ipython",
    "version": 3
   },
   "file_extension": ".py",
   "mimetype": "text/x-python",
   "name": "python",
   "nbconvert_exporter": "python",
   "pygments_lexer": "ipython3",
   "version": "3.8.5"
  }
 },
 "nbformat": 4,
 "nbformat_minor": 4
}
