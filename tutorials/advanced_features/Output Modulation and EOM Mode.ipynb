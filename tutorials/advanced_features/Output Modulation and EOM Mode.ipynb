{
 "cells": [
  {
   "attachments": {},
   "cell_type": "markdown",
   "metadata": {},
   "source": [
    "# Output Modulation & EOM Mode"
   ]
  },
  {
   "cell_type": "code",
   "execution_count": null,
   "metadata": {},
   "outputs": [],
   "source": [
    "import numpy as np\n",
    "\n",
    "from pulser import Sequence, Register, Pulse\n",
    "from pulser.devices import VirtualDevice\n",
    "from pulser.channels import Rydberg, Raman"
   ]
  },
  {
   "attachments": {},
   "cell_type": "markdown",
   "metadata": {},
   "source": [
    "## Output Modulation"
   ]
  },
  {
   "attachments": {},
   "cell_type": "markdown",
   "metadata": {},
   "source": [
    "### Modulation Bandwidth"
   ]
  },
  {
   "attachments": {},
   "cell_type": "markdown",
   "metadata": {},
   "source": [
    "When programming physical devices, you will likely come across the notion of *modulation bandwidth*. When a channel has a finite modulation bandwidth, its output (what actually comes out of the channel) is modulated when compared to its input (what is programmed in Pulser) because the component takes some amount of time to reach the desired value. \n",
    "\n",
    "To illustrate this, let us start by creating a channel with a defined modulation bandwidth."
   ]
  },
  {
   "cell_type": "code",
   "execution_count": null,
   "metadata": {},
   "outputs": [],
   "source": [
    "rydberg_ch = Rydberg.Global(\n",
    "    max_abs_detuning=20 * 2 * np.pi,\n",
    "    max_amp=10 * 2 * np.pi,\n",
    "    mod_bandwidth=5,  # MHz\n",
    ")"
   ]
  },
  {
   "attachments": {},
   "cell_type": "markdown",
   "metadata": {},
   "source": [
    "With this channel object, we can check what the modulation of a waveform will look like. Let's take, for instance, a short square waveform:"
   ]
  },
  {
   "cell_type": "code",
   "execution_count": null,
   "metadata": {},
   "outputs": [],
   "source": [
    "from pulser.waveforms import ConstantWaveform\n",
    "\n",
    "constant_wf = ConstantWaveform(duration=100, value=1)\n",
    "constant_wf.draw(output_channel=rydberg_ch)"
   ]
  },
  {
   "attachments": {},
   "cell_type": "markdown",
   "metadata": {},
   "source": [
    "We observe two things:\n",
    "    \n",
    "   1. The output is streched when compared with the input. This is always the case, and we refer to the time it takes the output to ramp up as the `rise time`. \n",
    "   2. The output does not have enough time to reach the maximum value set in the input. This happens only when the input pulse is too short.\n",
    "\n",
    "If we make the pulse long enough, we will see that it will still be extended on both sides by the rise time, but now it reaches the maximum value:"
   ]
  },
  {
   "cell_type": "code",
   "execution_count": null,
   "metadata": {},
   "outputs": [],
   "source": [
    "constant_wf2 = ConstantWaveform(duration=300, value=1)\n",
    "constant_wf2.draw(output_channel=rydberg_ch)"
   ]
  },
  {
   "attachments": {},
   "cell_type": "markdown",
   "metadata": {},
   "source": [
    "Note also that all inputs are modulated, but the effect is most pronounced in square pulses. If we take, for example, a `BlackmanWaveform` of similar duration, we see the difference between input and output is more subtle (on the other hand, the output never gets a chance to reach the maximum value because the input is not held at the maximum value)."
   ]
  },
  {
   "cell_type": "code",
   "execution_count": null,
   "metadata": {},
   "outputs": [],
   "source": [
    "from pulser.waveforms import BlackmanWaveform\n",
    "\n",
    "blackman_wf = BlackmanWaveform(300, 0.13)\n",
    "blackman_wf.draw(output_channel=rydberg_ch)"
   ]
  },
  {
   "attachments": {},
   "cell_type": "markdown",
   "metadata": {},
   "source": [
    "### Influence in a Sequence"
   ]
  },
  {
   "attachments": {},
   "cell_type": "markdown",
   "metadata": {},
   "source": [
    "When creating a sequence on a device whose channels have a finite modulation bandwitdh, its effects are manifested in multiple ways. Let us start by creating such a device and making a simple pulse sequence with it."
   ]
  },
  {
   "cell_type": "code",
   "execution_count": null,
   "metadata": {},
   "outputs": [],
   "source": [
    "raman_ch = Raman.Local(\n",
    "    max_abs_detuning=0,\n",
    "    max_amp=20 * 2 * np.pi,\n",
    "    fixed_retarget_t=50,\n",
    "    mod_bandwidth=4,\n",
    ")\n",
    "\n",
    "test_device = VirtualDevice(\n",
    "    name=\"test_device\",\n",
    "    dimensions=2,\n",
    "    rydberg_level=60,\n",
    "    channel_objects=(rydberg_ch, raman_ch),\n",
    ")"
   ]
  },
  {
   "cell_type": "code",
   "execution_count": null,
   "metadata": {},
   "outputs": [],
   "source": [
    "seq = Sequence(Register.square(2, prefix=\"q\"), test_device)\n",
    "\n",
    "seq.declare_channel(\"raman\", \"raman_local\", initial_target=\"q0\")\n",
    "seq.declare_channel(\"rydberg\", \"rydberg_global\")\n",
    "\n",
    "seq.add(Pulse.ConstantDetuning(blackman_wf, -5, 0), \"rydberg\")\n",
    "\n",
    "short_pulse = Pulse.ConstantPulse(100, 1, 0, 0)\n",
    "seq.add(short_pulse, \"raman\")\n",
    "seq.target(\"q1\", \"raman\")\n",
    "seq.add(short_pulse, \"raman\")\n",
    "seq.delay(100, \"raman\")\n",
    "long_pulse = Pulse.ConstantPulse(500, 1, 0, 0)\n",
    "seq.add(long_pulse, \"raman\")\n",
    "\n",
    "seq.add(Pulse.ConstantDetuning(blackman_wf, 5, np.pi), \"rydberg\")\n",
    "\n",
    "seq.draw(draw_phase_curve=True)"
   ]
  },
  {
   "attachments": {},
   "cell_type": "markdown",
   "metadata": {},
   "source": [
    "By default, `Sequence.draw()` will display both the programmed input and the modulated output. In this way, one can compare how the output will change with respect to the intended input.\n",
    "\n",
    "From looking at the output, there are multiple things to note:\n",
    "\n",
    "1. Not only the amplitude but also the detuning and phase are modulated, all with the same modulation bandwidth.\n",
    "2. Alignment between channels takes into account the extended duration of the pulses in the other channels. Note, for instance, how the last pulse on the `rydberg` channel starts only after the output of the `raman` channel goes to zero.\n",
    "3. Similarly, changing the target in a local channel will also wait for the output to ramp down before starting the retargeting.\n",
    "4. For consecutive pulses in the same channel, there is no automatically imposed delay between them to allow one pulse to finish before the next one starts. As such, whenever the interval between two pulses is too short, they will be \"merged\" together, as is illustrated in the `raman` channel."
   ]
  },
  {
   "attachments": {},
   "cell_type": "markdown",
   "metadata": {},
   "source": [
    "### Usage in Simulation"
   ]
  },
  {
   "attachments": {},
   "cell_type": "markdown",
   "metadata": {},
   "source": [
    "In order to get the most realistic results when simulating a sequence, it may be valuable to use the expected output rather than the programmed input. To do so, one can simply initialize the `QutipEmulator` class with `with_modulation=True`.\n",
    "Below, we simulate the sequence with and without modulation to assess the effect it has on the overlap between the resulting final states."
   ]
  },
  {
   "cell_type": "code",
   "execution_count": null,
   "metadata": {},
   "outputs": [],
   "source": [
    "from pulser_simulation import QutipEmulator\n",
    "\n",
    "sim_in = QutipEmulator.from_sequence(seq)\n",
    "sim_out = QutipEmulator.from_sequence(seq, with_modulation=True)\n",
    "\n",
    "input_final_state = sim_in.run().get_final_state()\n",
    "output_final_state = sim_out.run().get_final_state()\n",
    "\n",
    "print(\"Final state overlap:\", input_final_state.overlap(output_final_state))"
   ]
  },
  {
   "attachments": {},
   "cell_type": "markdown",
   "metadata": {},
   "source": [
    "## EOM Mode Operation"
   ]
  },
  {
   "attachments": {},
   "cell_type": "markdown",
   "metadata": {},
   "source": [
    "The modulation bandwidth of a channel can impose significant limitations on how a pulse sequence is programmed. Perhaps most importantly, it can force the user to program longer pulses than would otherwise be required, resulting in longer sequences and consequently noisier results.\n",
    "\n",
    "To overcome these limitations, a channel can be equipped with an EOM that allows the execution of square pulses with a higher modulation bandwidth. For now, EOM mode operation is reserved for `Rydberg` channels and works under very specific conditions:\n",
    "\n",
    "   1. EOM mode must be explicitly enabled (`Sequence.enable_eom_mode()`) and disabled (`Sequence.disable_eom_mode()`).\n",
    "   2. A buffering time is automatically added before the EOM mode is enabled and after it is disabled, as it needs to be isolated from regular channel operation. During the starting buffer, the detuning goes to the value it will assume between EOM pulses (_i.e._ during delays).\n",
    "   3. When enabling the EOM mode, one must choose the amplitude and detuning value that all square pulses will have. These values will also determine a set of options for the detuning during delays, out of which the best one is chosen. When this detuning value is not zero, the phase of each qubit's state will drift during delays. If desired, this phase drift can be corrected through the `correct_phase_drift` option, which will adjust the phase of subsequent pulses accordingly. \n",
    "   4. While in EOM mode, one can only add delays or pulses of variable duration (through `Sequence.add_eom_pulse()`) – changing the phase between pulses is also allowed, but the necessary buffer time for a phase jump will still be enforced."
   ]
  },
  {
   "attachments": {},
   "cell_type": "markdown",
   "metadata": {},
   "source": [
    "Let us showcase these features with the `AnalogDevice` device, which features an EOM on its `rydberg_global` channel."
   ]
  },
  {
   "cell_type": "code",
   "execution_count": null,
   "metadata": {},
   "outputs": [],
   "source": [
    "from pulser.devices import AnalogDevice\n",
    "\n",
    "seq = Sequence(Register.square(2, spacing=6), AnalogDevice)\n",
    "seq.declare_channel(\"rydberg\", \"rydberg_global\")\n",
    "\n",
    "seq.add(Pulse.ConstantPulse(100, 1, 0, 0), \"rydberg\")\n",
    "seq.enable_eom_mode(\"rydberg\", amp_on=1.0, detuning_on=0.0)\n",
    "seq.add_eom_pulse(\"rydberg\", duration=100, phase=0.0)\n",
    "seq.delay(300, \"rydberg\")\n",
    "seq.add_eom_pulse(\"rydberg\", duration=60, phase=0.0, correct_phase_drift=True)\n",
    "seq.disable_eom_mode(\"rydberg\")\n",
    "seq.add(Pulse.ConstantPulse(100, 1, 0, 0), \"rydberg\")\n",
    "\n",
    "seq.draw(draw_phase_curve=True)"
   ]
  },
  {
   "cell_type": "code",
   "execution_count": null,
   "metadata": {},
   "outputs": [],
   "source": [
    "print(seq)"
   ]
  },
  {
   "attachments": {},
   "cell_type": "markdown",
   "metadata": {},
   "source": [
    "As expected, inside the isolated EOM mode block in the middle we see that the pulses are much sharper, but we can only do square pulses with a fixed amplitude and there is some non-zero detuning in between them. \n",
    "\n",
    "We also observe how the phase of the second EOM pulse changes to correct for the phase drift during the detuned delay (because we set `correct_phase_drift=True`)."
   ]
  }
 ],
 "metadata": {
  "kernelspec": {
   "display_name": "Python 3",
   "language": "python",
   "name": "python3"
  },
  "language_info": {
   "codemirror_mode": {
    "name": "ipython",
    "version": 3
   },
   "file_extension": ".py",
   "mimetype": "text/x-python",
   "name": "python",
   "nbconvert_exporter": "python",
   "pygments_lexer": "ipython3",
   "version": "3.8.5"
  }
 },
 "nbformat": 4,
 "nbformat_minor": 4
}
