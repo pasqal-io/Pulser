{
 "cells": [
  {
   "cell_type": "markdown",
   "metadata": {},
   "source": [
    "# JSON Serialization"
   ]
  },
  {
   "cell_type": "code",
   "execution_count": null,
   "metadata": {},
   "outputs": [],
   "source": [
    "import numpy as np\n",
    "import pulser\n",
    "from pulser import Pulse, Sequence, Register\n",
    "from pulser.waveforms import BlackmanWaveform\n",
    "from pulser.devices import Chadoq2"
   ]
  },
  {
   "cell_type": "markdown",
   "metadata": {},
   "source": [
    "Often times, it is useful to import/export a given `Sequence` between different locations. To enable this, the `Sequence` object supports **serialization** and **deserialization** into JSON-formatted strings. This will work for any given `Sequence`. Take for example, this sequence that creates the Bell state $|\\Phi^+\\rangle = \\frac{|00\\rangle + |11\\rangle}{\\sqrt{2}}$:"
   ]
  },
  {
   "cell_type": "code",
   "execution_count": null,
   "metadata": {
    "scrolled": true
   },
   "outputs": [],
   "source": [
    "qubits = {\"control\": (-2, 0), \"target\": (2, 0)}\n",
    "reg = Register(qubits)\n",
    "\n",
    "seq = Sequence(reg, Chadoq2)\n",
    "seq.declare_channel(\"digital\", \"raman_local\", initial_target=\"control\")\n",
    "seq.declare_channel(\"rydberg\", \"rydberg_local\", initial_target=\"control\")\n",
    "\n",
    "half_pi_wf = BlackmanWaveform(200, np.pi / 2)\n",
    "\n",
    "ry = Pulse.ConstantDetuning(amplitude=half_pi_wf, detuning=0, phase=-np.pi / 2)\n",
    "ry_dag = Pulse.ConstantDetuning(\n",
    "    amplitude=half_pi_wf, detuning=0, phase=np.pi / 2\n",
    ")\n",
    "\n",
    "seq.add(ry, \"digital\")\n",
    "seq.target(\"target\", \"digital\")\n",
    "seq.add(ry_dag, \"digital\")\n",
    "\n",
    "pi_wf = BlackmanWaveform(200, np.pi)\n",
    "pi_pulse = Pulse.ConstantDetuning(pi_wf, 0, 0)\n",
    "\n",
    "max_val = Chadoq2.rabi_from_blockade(8)\n",
    "two_pi_wf = BlackmanWaveform.from_max_val(max_val, 2 * np.pi)\n",
    "two_pi_pulse = Pulse.ConstantDetuning(two_pi_wf, 0, 0)\n",
    "\n",
    "seq.align(\"digital\", \"rydberg\")\n",
    "seq.add(pi_pulse, \"rydberg\")\n",
    "seq.target(\"target\", \"rydberg\")\n",
    "seq.add(two_pi_pulse, \"rydberg\")\n",
    "seq.target(\"control\", \"rydberg\")\n",
    "seq.add(pi_pulse, \"rydberg\")\n",
    "\n",
    "seq.align(\"digital\", \"rydberg\")\n",
    "seq.add(ry, \"digital\")\n",
    "seq.measure(\"digital\")\n",
    "seq.draw()"
   ]
  },
  {
   "cell_type": "markdown",
   "metadata": {},
   "source": [
    "## Serialize"
   ]
  },
  {
   "cell_type": "markdown",
   "metadata": {},
   "source": [
    "To serialize it, we simply call:"
   ]
  },
  {
   "cell_type": "code",
   "execution_count": null,
   "metadata": {},
   "outputs": [],
   "source": [
    "s = seq.serialize()"
   ]
  },
  {
   "cell_type": "markdown",
   "metadata": {},
   "source": [
    "which outputs the JSON-formatted string encoding the sequence. Although it is not particularly human-readable in its most compact form, let's look at the first 100 characters to check that it's actually a string:"
   ]
  },
  {
   "cell_type": "code",
   "execution_count": null,
   "metadata": {
    "scrolled": true
   },
   "outputs": [],
   "source": [
    "print(s[:100], \"...\")"
   ]
  },
  {
   "cell_type": "markdown",
   "metadata": {},
   "source": [
    "If we want to read it, we can also make it prettier by changing the indentation. This is done through one of the optional arguments of `json.dumps`, which we can specify in `Sequence.serialize()`."
   ]
  },
  {
   "cell_type": "code",
   "execution_count": null,
   "metadata": {
    "scrolled": true
   },
   "outputs": [],
   "source": [
    "print(seq.serialize(indent=1)[:100], \"...\")"
   ]
  },
  {
   "cell_type": "markdown",
   "metadata": {},
   "source": [
    "## Deserialize"
   ]
  },
  {
   "cell_type": "markdown",
   "metadata": {},
   "source": [
    "More relevantly, the string `s` contains all the necessary information for recreating the original sequence elsewhere (it could, for example, be saved to a file and then imported). With the string `s`, one can recover the sequence `seq` by calling:"
   ]
  },
  {
   "cell_type": "code",
   "execution_count": null,
   "metadata": {},
   "outputs": [],
   "source": [
    "recovered_seq = Sequence.deserialize(s)\n",
    "recovered_seq.draw()"
   ]
  },
  {
   "cell_type": "markdown",
   "metadata": {},
   "source": [
    "However, even though they are identical, keep in mind that `seq` and `recovered_seq` are not the same object."
   ]
  },
  {
   "cell_type": "code",
   "execution_count": null,
   "metadata": {},
   "outputs": [],
   "source": [
    "recovered_seq is seq"
   ]
  }
 ],
 "metadata": {
  "kernelspec": {
   "display_name": "Python 3",
   "language": "python",
   "name": "python3"
  },
  "language_info": {
   "codemirror_mode": {
    "name": "ipython",
    "version": 3
   },
   "file_extension": ".py",
   "mimetype": "text/x-python",
   "name": "python",
   "nbconvert_exporter": "python",
   "pygments_lexer": "ipython3",
   "version": "3.7.3"
  }
 },
 "nbformat": 4,
 "nbformat_minor": 4
}
