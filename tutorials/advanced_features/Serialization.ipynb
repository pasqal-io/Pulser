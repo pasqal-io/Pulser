{
  "cells": [
    {
      "cell_type": "markdown",
      "metadata": {},
      "source": [
        "# JSON Serialization"
      ]
    },
    {
      "cell_type": "code",
      "execution_count": null,
      "metadata": {},
      "outputs": [],
      "source": [
        "import numpy as np\n",
        "from pulser import Pulse, Sequence, Register\n",
        "from pulser.waveforms import BlackmanWaveform\n",
        "from pulser.devices import Chadoq2"
      ]
    },
    {
      "cell_type": "markdown",
      "metadata": {},
      "source": [
        "Often times, it is useful to import/export a given `Sequence` between different locations. To enable this, the `Sequence` object supports **serialization** and **deserialization** into JSON-formatted strings. This will work for any given `Sequence`. Take for example, this sequence that creates the Bell state $|\\Phi^+\\rangle = \\frac{|00\\rangle + |11\\rangle}{\\sqrt{2}}$:"
      ]
    },
    {
      "cell_type": "code",
      "execution_count": null,
      "metadata": {
        "scrolled": true
      },
      "outputs": [],
      "source": [
        "qubits = {\"control\": (-2, 0), \"target\": (2, 0)}\n",
        "reg = Register(qubits)\n",
        "\n",
        "seq = Sequence(reg, Chadoq2)\n",
        "pulse_time = seq.declare_variable(\"pulse_time\", dtype=int)\n",
        "seq.declare_channel(\"digital\", \"raman_local\", initial_target=\"control\")\n",
        "seq.declare_channel(\"rydberg\", \"rydberg_local\", initial_target=\"control\")\n",
        "\n",
        "half_pi_wf = BlackmanWaveform(pulse_time, area=np.pi / 2)\n",
        "\n",
        "ry = Pulse.ConstantDetuning(amplitude=half_pi_wf, detuning=0, phase=-np.pi / 2)\n",
        "ry_dag = Pulse.ConstantDetuning(\n",
        "    amplitude=half_pi_wf, detuning=0, phase=np.pi / 2\n",
        ")\n",
        "\n",
        "seq.add(ry, \"digital\")\n",
        "seq.target(\"target\", \"digital\")\n",
        "seq.add(ry_dag, \"digital\")\n",
        "\n",
        "pi_wf = BlackmanWaveform(pulse_time, np.pi)\n",
        "pi_pulse = Pulse.ConstantDetuning(pi_wf, 0, 0)\n",
        "\n",
        "max_val = Chadoq2.rabi_from_blockade(9)\n",
        "two_pi_wf = BlackmanWaveform.from_max_val(max_val, 2 * np.pi)\n",
        "two_pi_pulse = Pulse.ConstantDetuning(two_pi_wf, 0, 0)\n",
        "\n",
        "seq.align(\"digital\", \"rydberg\")\n",
        "seq.add(pi_pulse, \"rydberg\")\n",
        "seq.target(\"target\", \"rydberg\")\n",
        "seq.add(two_pi_pulse, \"rydberg\")\n",
        "seq.target(\"control\", \"rydberg\")\n",
        "seq.add(pi_pulse, \"rydberg\")\n",
        "\n",
        "seq.align(\"digital\", \"rydberg\")\n",
        "seq.add(ry, \"digital\")\n",
        "seq.measure(\"digital\")\n",
        "seq1 = seq.build(pulse_time=200)\n",
        "seq1.draw()"
      ]
    },
    {
      "cell_type": "markdown",
      "metadata": {},
      "source": [
        "## Serialize"
      ]
    },
    {
      "attachments": {},
      "cell_type": "markdown",
      "metadata": {},
      "source": [
        "To serialize, use `Sequence.to_abstract_repr()`:"
      ]
    },
    {
      "cell_type": "code",
      "execution_count": null,
      "metadata": {},
      "outputs": [],
      "source": [
        "s_readable = seq.to_abstract_repr(\n",
        "    json_dumps_options={\"indent\": 1},\n",
        "    seq_name=\"Sequence_with_defaults\",\n",
        ")\n",
        "print(s_readable[:350], \"...\")"
      ]
    },
    {
      "attachments": {},
      "cell_type": "markdown",
      "metadata": {},
      "source": [
        "We can note that it is possible to provide optional parameters of `json.dumps` such as `indent` via a dictionnary in the argument `json_dumps_options`.\n",
        "\n",
        "Providing optional arguments to `to_abstract_repr` defines default parameters in the JSON object (like the name of the sequence `seq_name`). This does not change the `Sequence` object in itself, as we'll see in the following part about deserialization."
      ]
    },
    {
      "cell_type": "markdown",
      "metadata": {},
      "source": [
        "## Deserialize"
      ]
    },
    {
      "attachments": {},
      "cell_type": "markdown",
      "metadata": {},
      "source": [
        "The generated strings contain all the necessary information for recreating the original sequence elsewhere (it could, for example, be saved to a file and then imported). To recover the sequence `seq` from `s_readable` (converted into JSON using `Sequence.to_abstract_repr()`), one should use `Sequence.from_abstract_repr()`. "
      ]
    },
    {
      "cell_type": "code",
      "execution_count": null,
      "metadata": {},
      "outputs": [],
      "source": [
        "recovered_seq = Sequence.from_abstract_repr(s_readable)\n",
        "recovered_seq.build(pulse_time=200).draw()"
      ]
    }
  ],
  "metadata": {
    "kernelspec": {
      "display_name": "Python 3",
      "language": "python",
      "name": "python3"
    },
    "language_info": {
      "codemirror_mode": {
        "name": "ipython",
        "version": 3
      },
      "file_extension": ".py",
      "mimetype": "text/x-python",
      "name": "python",
      "nbconvert_exporter": "python",
      "pygments_lexer": "ipython3",
      "version": "3.8.5"
    }
  },
  "nbformat": 4,
  "nbformat_minor": 4
}
