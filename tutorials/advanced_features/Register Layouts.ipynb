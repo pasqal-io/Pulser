{
 "cells": [
  {
   "cell_type": "markdown",
   "metadata": {},
   "source": [
    "# Register Layouts & Mappable Registers"
   ]
  },
  {
   "cell_type": "code",
   "execution_count": null,
   "metadata": {},
   "outputs": [],
   "source": [
    "import numpy as np\n",
    "\n",
    "from pulser.register.register_layout import RegisterLayout\n",
    "from pulser import Sequence, Pulse"
   ]
  },
  {
   "cell_type": "markdown",
   "metadata": {},
   "source": [
    "One of the strengths of neutral-atom QPUs is their ability to arrange the atoms in arbitrary configurations. Experimentally, this is realized by creating a layout of optical traps where individual atoms can be placed to create the desired Register. \n",
    "\n",
    "Given an arbitrary register, a neutral-atom QPU will generate an associated layout that will then have to be calibrated. Each new calibration takes some time, so it is often prefered to reuse an existing layout that has already been calibrated, whenever possible.\n",
    "\n",
    "Therefore, it can be of interest to the QPU provider to specify which layouts are already calibrated in their QPU, such that the user can reuse them to specify their `Register`. In Pulser, these layouts are provided as instances of the `RegisterLayout` class."
   ]
  },
  {
   "cell_type": "markdown",
   "metadata": {},
   "source": [
    "## Arbitrary Layouts"
   ]
  },
  {
   "cell_type": "markdown",
   "metadata": {},
   "source": [
    "A `RegisterLayout` layout is defined by a set of trap coordinates. These coordinates are systematically ordered in the same way, making two layouts with the same set of trap coordinates identical. \n",
    "\n",
    "Below, we create an arbitrary layout of 20 traps randomly placed in a 2D plane. Optionally, a layout may also have an associated `slug` to help identifying it."
   ]
  },
  {
   "cell_type": "code",
   "execution_count": null,
   "metadata": {},
   "outputs": [],
   "source": [
    "# Generating random coordinates\n",
    "np.random.seed(301122)  # Keeps results consistent between runs\n",
    "traps = np.random.randint(0, 30, size=(20, 2))\n",
    "traps = traps - np.mean(traps, axis=0)\n",
    "\n",
    "# Creating the layout\n",
    "layout = RegisterLayout(traps, slug=\"random_20\")"
   ]
  },
  {
   "cell_type": "markdown",
   "metadata": {},
   "source": [
    "Given a `RegisterLayout` instance, the best way to inspect it is through `RegisterLayout.draw()`. Notice the default ordering of the atoms (ascending order in x, if tied then in y, if tied then in z):"
   ]
  },
  {
   "cell_type": "code",
   "execution_count": null,
   "metadata": {},
   "outputs": [],
   "source": [
    "layout.draw()"
   ]
  },
  {
   "cell_type": "markdown",
   "metadata": {},
   "source": [
    "### Useful properties"
   ]
  },
  {
   "cell_type": "markdown",
   "metadata": {},
   "source": [
    "To access the trap coordinates:\n",
    "- `RegisterLayout.traps_dict` gives a mapping between trap IDs and coordinates\n",
    "- `RegisterLayout.coords` provides the ordered list of trap coordinates"
   ]
  },
  {
   "cell_type": "markdown",
   "metadata": {},
   "source": [
    "To identify a layout, one can use its `repr()` for a unique identifier or its `str()` for the `slug` (if specified)."
   ]
  },
  {
   "cell_type": "code",
   "execution_count": null,
   "metadata": {},
   "outputs": [],
   "source": [
    "print(\"The layout slug:\", layout)\n",
    "print(\"The unique ID layout:\", repr(layout))"
   ]
  },
  {
   "cell_type": "markdown",
   "metadata": {},
   "source": [
    "Finally, `RegisterLayout.max_atom_num` fixes the maximum number of atoms it can hold (for now, this value is always equal to half the number of traps):"
   ]
  },
  {
   "cell_type": "code",
   "execution_count": null,
   "metadata": {},
   "outputs": [],
   "source": [
    "print(\"Maximum number of atoms supported:\", layout.max_atom_num)"
   ]
  },
  {
   "cell_type": "markdown",
   "metadata": {},
   "source": [
    "### Register definition"
   ]
  },
  {
   "cell_type": "markdown",
   "metadata": {},
   "source": [
    "More often than not, a `RegisterLayout` will be created by the hardware provider and given to the user. From there, the user must define the desired `Register` to initialize the `Sequence`. This can be done in multiple ways: "
   ]
  },
  {
   "cell_type": "markdown",
   "metadata": {},
   "source": [
    "**1. Defined by the trap IDs:**"
   ]
  },
  {
   "cell_type": "markdown",
   "metadata": {},
   "source": [
    "You can find the ID of each trap from its drawing or from the `RegisterLayout.traps_dict`. With those, you can define your register (optionally providing a list of qubit IDs):"
   ]
  },
  {
   "cell_type": "code",
   "execution_count": null,
   "metadata": {},
   "outputs": [],
   "source": [
    "trap_ids = [4, 8, 19, 0]\n",
    "reg1 = layout.define_register(*trap_ids, qubit_ids=[\"a\", \"b\", \"c\", \"d\"])\n",
    "reg1.draw()"
   ]
  },
  {
   "cell_type": "markdown",
   "metadata": {},
   "source": [
    "Note that the information of the layout is stored internally in the Register:"
   ]
  },
  {
   "cell_type": "code",
   "execution_count": null,
   "metadata": {},
   "outputs": [],
   "source": [
    "reg1.layout"
   ]
  },
  {
   "cell_type": "markdown",
   "metadata": {},
   "source": [
    "**2. Defined from the trap coordinates:**"
   ]
  },
  {
   "cell_type": "markdown",
   "metadata": {},
   "source": [
    "Alternatively, you can find the trap IDs from the trap coordinates using the `RegisterLayout.get_traps_from_coordinates()` method, which compares the provided coordinates with those on the layout with 6 decimal places of precision."
   ]
  },
  {
   "cell_type": "code",
   "execution_count": null,
   "metadata": {},
   "outputs": [],
   "source": [
    "some_coords = layout.coords[\n",
    "    np.random.choice(np.arange(layout.number_of_traps), size=10, replace=False)\n",
    "]\n",
    "trap_ids = layout.get_traps_from_coordinates(*some_coords)\n",
    "reg2 = layout.define_register(*trap_ids)\n",
    "reg2.draw()"
   ]
  },
  {
   "cell_type": "markdown",
   "metadata": {},
   "source": [
    "## Special Layouts"
   ]
  },
  {
   "cell_type": "code",
   "execution_count": null,
   "metadata": {},
   "outputs": [],
   "source": [
    "from pulser.register.special_layouts import (\n",
    "    SquareLatticeLayout,\n",
    "    TriangularLatticeLayout,\n",
    ")"
   ]
  },
  {
   "cell_type": "markdown",
   "metadata": {},
   "source": [
    "On top of the generic `RegisterLayout` class, there are special classes for common layouts that include convenience methods to more easily define a `Register`. These are subclasses of `RegisterLayout`, so all the methods specified above will still work."
   ]
  },
  {
   "cell_type": "markdown",
   "metadata": {},
   "source": [
    "### `SquareLatticeLayout`"
   ]
  },
  {
   "cell_type": "markdown",
   "metadata": {},
   "source": [
    "`SquareLatticeLayout` specifies a layout from an underlying square lattice."
   ]
  },
  {
   "cell_type": "code",
   "execution_count": null,
   "metadata": {},
   "outputs": [],
   "source": [
    "square_layout = SquareLatticeLayout(7, 4, spacing=5)\n",
    "print(square_layout)\n",
    "square_layout.draw()"
   ]
  },
  {
   "cell_type": "markdown",
   "metadata": {},
   "source": [
    "With `SquareLatticeLayout.rectangular_register()` and `SquareLatticeLayout.square_register()`, one can conveniently define a new `Register`:"
   ]
  },
  {
   "cell_type": "code",
   "execution_count": null,
   "metadata": {},
   "outputs": [],
   "source": [
    "square_layout.rectangular_register(rows=3, columns=4, prefix=\"a\").draw()"
   ]
  },
  {
   "cell_type": "code",
   "execution_count": null,
   "metadata": {
    "scrolled": true
   },
   "outputs": [],
   "source": [
    "square_layout.square_register(side=3).draw()"
   ]
  },
  {
   "cell_type": "markdown",
   "metadata": {},
   "source": [
    "### `TriangularLatticeLayout`"
   ]
  },
  {
   "cell_type": "markdown",
   "metadata": {},
   "source": [
    "`TriangularLatticeLayout` specifies a layout from an underlying triangular lattice."
   ]
  },
  {
   "cell_type": "code",
   "execution_count": null,
   "metadata": {
    "scrolled": true
   },
   "outputs": [],
   "source": [
    "tri_layout = TriangularLatticeLayout(n_traps=100, spacing=5)\n",
    "print(tri_layout)\n",
    "tri_layout.draw()"
   ]
  },
  {
   "cell_type": "markdown",
   "metadata": {},
   "source": [
    "With `TriangularLatticeLayout.hexagonal_register()` or `TriangularLatticeLayout.rectangular_register()`, one can easily define a `Register` from a subset of existing traps."
   ]
  },
  {
   "cell_type": "code",
   "execution_count": null,
   "metadata": {},
   "outputs": [],
   "source": [
    "tri_layout.hexagonal_register(n_atoms=50).draw()"
   ]
  },
  {
   "cell_type": "code",
   "execution_count": null,
   "metadata": {
    "scrolled": true
   },
   "outputs": [],
   "source": [
    "tri_layout.rectangular_register(rows=3, atoms_per_row=7).draw()"
   ]
  },
  {
   "cell_type": "markdown",
   "metadata": {},
   "source": [
    "## Devices with pre-calibrated layouts"
   ]
  },
  {
   "cell_type": "code",
   "execution_count": null,
   "metadata": {},
   "outputs": [],
   "source": [
    "from pulser.devices import Device\n",
    "from pulser.channels import Rydberg, Raman\n",
    "\n",
    "TestDevice = Device(\n",
    "    name=\"TestDevice\",\n",
    "    dimensions=2,\n",
    "    rydberg_level=70,\n",
    "    max_atom_num=100,\n",
    "    max_radial_distance=50,\n",
    "    min_atom_distance=4,\n",
    "    _channels=(\n",
    "        (\"rydberg_global\", Rydberg.Global(2 * np.pi * 20, 2 * np.pi * 2.5)),\n",
    "    ),\n",
    "    pre_calibrated_layouts=(\n",
    "        SquareLatticeLayout(10, 10, 4),\n",
    "        TriangularLatticeLayout(100, 5),\n",
    "    ),\n",
    ")"
   ]
  },
  {
   "cell_type": "markdown",
   "metadata": {},
   "source": [
    "When receiving a `Device` instance, it may include the layouts that are already calibrated and available to be used. To access them, simply run:"
   ]
  },
  {
   "cell_type": "code",
   "execution_count": null,
   "metadata": {},
   "outputs": [],
   "source": [
    "TestDevice.calibrated_register_layouts"
   ]
  },
  {
   "cell_type": "markdown",
   "metadata": {},
   "source": [
    "You can then choose one of these layouts to define your `Register` and start creating a `Sequence`:"
   ]
  },
  {
   "cell_type": "code",
   "execution_count": null,
   "metadata": {},
   "outputs": [],
   "source": [
    "layout = TestDevice.calibrated_register_layouts[\n",
    "    \"SquareLatticeLayout(10x10, 4µm)\"\n",
    "]\n",
    "reg = layout.square_register(7)\n",
    "seq = Sequence(reg, TestDevice)"
   ]
  },
  {
   "cell_type": "markdown",
   "metadata": {},
   "source": [
    "In general, when a device comes with `pre_calibrated_layouts`, using them is encouraged. However, nothing prevents a `Sequence` to be created with a register coming from another layout, as long as that layout is compatible with the device. For example:"
   ]
  },
  {
   "cell_type": "code",
   "execution_count": null,
   "metadata": {},
   "outputs": [],
   "source": [
    "another_layout = SquareLatticeLayout(5, 5, 5)\n",
    "assert another_layout not in TestDevice.pre_calibrated_layouts\n",
    "reg_ = another_layout.square_register(3)\n",
    "seq = Sequence(reg_, TestDevice)"
   ]
  },
  {
   "cell_type": "markdown",
   "metadata": {},
   "source": [
    "However, it is not possible to use a register created from an invalid layout, even if the register is valid:"
   ]
  },
  {
   "cell_type": "code",
   "execution_count": null,
   "metadata": {},
   "outputs": [],
   "source": [
    "bad_layout = TriangularLatticeLayout(\n",
    "    200, 10\n",
    ")  # This layout is too large for TestDevice\n",
    "good_reg = bad_layout.hexagonal_register(\n",
    "    10\n",
    ")  # On its own, this register is valid in TestDevice\n",
    "try:\n",
    "    seq = Sequence(good_reg, TestDevice)\n",
    "except ValueError as e:\n",
    "    print(e)"
   ]
  },
  {
   "cell_type": "markdown",
   "metadata": {},
   "source": [
    "## Mappable Registers"
   ]
  },
  {
   "cell_type": "markdown",
   "metadata": {},
   "source": [
    "Finally, layouts enable the creation of a `MappableRegister` — a register with the traps of each qubit still to be defined. This register can then be used to create a sort of parametrized `Sequence`, where deciding which traps will be mapped to which qubits only happens when `Sequence.build()` is called.\n",
    "\n",
    "For example, below we define a mappable register with 10 qubits."
   ]
  },
  {
   "cell_type": "code",
   "execution_count": null,
   "metadata": {},
   "outputs": [],
   "source": [
    "map_register = layout.make_mappable_register(n_qubits=10)\n",
    "map_register.qubit_ids"
   ]
  },
  {
   "cell_type": "markdown",
   "metadata": {},
   "source": [
    "We now use this register in our simple sequence:"
   ]
  },
  {
   "cell_type": "code",
   "execution_count": null,
   "metadata": {},
   "outputs": [],
   "source": [
    "seq = Sequence(map_register, TestDevice)\n",
    "assert seq.is_register_mappable()\n",
    "\n",
    "seq.declare_channel(\"rydberg\", \"rydberg_global\")\n",
    "seq.add(\n",
    "    Pulse.ConstantPulse(duration=100, amplitude=1, detuning=0, phase=0),\n",
    "    \"rydberg\",\n",
    ")\n",
    "seq.draw()"
   ]
  },
  {
   "cell_type": "markdown",
   "metadata": {},
   "source": [
    "To define the register, we can then call `Sequence.build()`, indicated in the `qubits` argument the map between qubit IDs and trap IDs (note that not all the qubit IDs need to be associated to a trap ID). \n",
    "\n",
    "In this way, we can build multiple sequences, with only the `Register` changing from one to the other:"
   ]
  },
  {
   "cell_type": "code",
   "execution_count": null,
   "metadata": {},
   "outputs": [],
   "source": [
    "seq1 = seq.build(qubits={\"q0\": 16, \"q1\": 19, \"q4\": 34})\n",
    "print(\"First register:\", seq1.register.qubits)\n",
    "\n",
    "seq2 = seq.build(qubits={\"q0\": 0, \"q1\": 15, \"q2\": 20})\n",
    "print(\"Second register:\", seq2.register.qubits)"
   ]
  }
 ],
 "metadata": {
  "kernelspec": {
   "display_name": "Python 3",
   "language": "python",
   "name": "python3"
  },
  "language_info": {
   "codemirror_mode": {
    "name": "ipython",
    "version": 3
   },
   "file_extension": ".py",
   "mimetype": "text/x-python",
   "name": "python",
   "nbconvert_exporter": "python",
   "pygments_lexer": "ipython3",
   "version": "3.7.3"
  }
 },
 "nbformat": 4,
 "nbformat_minor": 4
}
