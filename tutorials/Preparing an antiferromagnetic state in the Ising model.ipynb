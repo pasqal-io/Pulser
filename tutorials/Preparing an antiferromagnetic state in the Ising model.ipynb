{
 "cells": [
  {
   "cell_type": "markdown",
   "metadata": {},
   "source": [
    "# Preparing an AF state in the Ising model\n",
    "\n",
    "This purpose of this notebook is to illustrate how to build a sequence for preparing an AF state in the Ising model. This notebook is supposed to evolve with code updates. "
   ]
  },
  {
   "cell_type": "code",
   "execution_count": null,
   "metadata": {},
   "outputs": [],
   "source": [
    "import numpy as np\n",
    "import matplotlib.pyplot as plt\n",
    "import qutip\n",
    "\n",
    "from pulser import Pulse, Sequence, Register\n",
    "from pulser.waveforms import ConstantWaveform, RampWaveform\n",
    "from pulser.devices import Chadoq2\n",
    "from pulser.simulation import Simulation"
   ]
  },
  {
   "cell_type": "markdown",
   "metadata": {},
   "source": [
    "## Initializing my device"
   ]
  },
  {
   "cell_type": "code",
   "execution_count": null,
   "metadata": {},
   "outputs": [],
   "source": [
    "n_side = 5\n",
    "coords = 13 * np.array([(x,y) for x in range(n_side) for y in range(n_side) \n",
    "                    if (x in {0,n_side-1} or y in {0,n_side-1})], dtype=np.float64)\n",
    "reg = Register.from_coordinates(coords, prefix='atom')\n",
    "reg.draw()\n",
    "device = Chadoq2(reg) "
   ]
  },
  {
   "cell_type": "code",
   "execution_count": null,
   "metadata": {},
   "outputs": [],
   "source": [
    "reg = Register.square(side = 3, spacing=5, prefix='q')\n",
    "reg.draw()\n",
    "device = Chadoq2(reg) "
   ]
  },
  {
   "cell_type": "markdown",
   "metadata": {},
   "source": [
    "## Defining my waveforms \n",
    "\n",
    "We are realizing the following program\n",
    "\n",
    "<img src=\"files/AF_Ising_program.png\" alt=\"AF Pulse Sequence\" style=\"width: 320px;\"/>"
   ]
  },
  {
   "cell_type": "code",
   "execution_count": null,
   "metadata": {},
   "outputs": [],
   "source": [
    "# Parameters in MHz and ns\n",
    "#U = 1 * 2*np.pi  # btw 1-3 Mhz*2pi. Should we include this VdW magnitude in an AFM-type Simulation?\n",
    "\n",
    "delta_0 = -2 * 2*np.pi\n",
    "delta_f = 6 * 2*np.pi\n",
    "Omega_max = 2.3 * 2*np.pi  # btw 1.8-2 Mhz*2pi\n",
    "t_rise = 250\n",
    "t_fall = 500\n",
    "t_sweep = (delta_f-delta_0)/(2*np.pi*10) * 1000\n"
   ]
  },
  {
   "cell_type": "code",
   "execution_count": null,
   "metadata": {},
   "outputs": [],
   "source": [
    "# Parameters in MHz and ns\n",
    "#U = 1 * 2*np.pi  # btw 1-3 Mhz*2pi. Should we include this VdW magnitude in an AFM-type Simulation?\n",
    "\n",
    "delta_0 = -.2 * 2*np.pi\n",
    "delta_f = .4 * 2*np.pi\n",
    "Omega_max = .23 * 2*np.pi  # btw 1.8-2 Mhz*2pi\n",
    "t_rise = 25\n",
    "t_fall = 50\n",
    "t_sweep = (delta_f-delta_0)/(2*np.pi*10) * 100\n",
    "\n"
   ]
  },
  {
   "cell_type": "code",
   "execution_count": null,
   "metadata": {},
   "outputs": [],
   "source": [
    "rise = Pulse.ConstantDetuning(RampWaveform(t_rise, 0., Omega_max),\n",
    "                              delta_0, \n",
    "                              0.)\n",
    "sweep = Pulse.ConstantAmplitude(Omega_max,\n",
    "                                RampWaveform(t_sweep, delta_0, delta_f),\n",
    "                                0.)\n",
    "fall = Pulse.ConstantDetuning(RampWaveform(t_fall, Omega_max, 0.),\n",
    "                              delta_f,\n",
    "                              0.)"
   ]
  },
  {
   "cell_type": "markdown",
   "metadata": {},
   "source": [
    "## Creating my sequence"
   ]
  },
  {
   "cell_type": "code",
   "execution_count": null,
   "metadata": {},
   "outputs": [],
   "source": [
    "seq = Sequence(device)\n",
    "seq.declare_channel('ising', 'rydberg_global')\n",
    "\n",
    "seq.add(rise, 'ising')\n",
    "seq.add(sweep, 'ising')\n",
    "seq.add(fall, 'ising')\n",
    "\n",
    "print(seq)\n",
    "seq.draw()"
   ]
  },
  {
   "cell_type": "markdown",
   "metadata": {},
   "source": [
    "## Phase Diagram"
   ]
  },
  {
   "cell_type": "code",
   "execution_count": null,
   "metadata": {},
   "outputs": [],
   "source": [
    "#phase = {'omega':[], 'delta':[], 'time': range(max(seq._last(ch).tf for ch in seq.declared_channels))}\n",
    "delta = []\n",
    "omega = []\n",
    "for x in seq._schedule['ising']:\n",
    "    if isinstance(x.type,Pulse):\n",
    "        omega += list(x.type.amplitude.samples)\n",
    "        delta += list(x.type.detuning.samples)\n"
   ]
  },
  {
   "cell_type": "code",
   "execution_count": null,
   "metadata": {},
   "outputs": [],
   "source": [
    "fig, ax = plt.subplots()\n",
    "ax.plot(np.array(delta)/(2*np.pi),np.array(omega)/(2*np.pi),'red',lw=2)\n",
    "ax.grid(True, which='both')\n",
    "ax.set_xlabel(r\"$\\delta(t)/2\\pi$\")\n",
    "ax.set_ylabel(r\"$\\Omega(t)/2\\pi$\")\n",
    "ax.axhline(y=0, color='k')\n",
    "ax.axvline(x=0, color='k')\n",
    "ax.set_facecolor('0.9')"
   ]
  },
  {
   "cell_type": "markdown",
   "metadata": {},
   "source": [
    "# Simulation"
   ]
  },
  {
   "cell_type": "code",
   "execution_count": null,
   "metadata": {},
   "outputs": [],
   "source": [
    "simul = Simulation(seq)"
   ]
  },
  {
   "cell_type": "code",
   "execution_count": null,
   "metadata": {},
   "outputs": [],
   "source": [
    "up = qutip.basis(2,0)\n",
    "def occupation(j):\n",
    "    prod = [qutip.qeye(2) for _ in range(simul._size)]\n",
    "    prod[j] = up*up.dag()\n",
    "    return qutip.tensor(prod)\n",
    "    \n",
    "occup_list = [occupation(j) for j in range(simul._size)]"
   ]
  },
  {
   "cell_type": "markdown",
   "metadata": {},
   "source": [
    "By parity symmetry, we only need to observe half of the atoms, the other one reflects the results"
   ]
  },
  {
   "cell_type": "code",
   "execution_count": null,
   "metadata": {
    "scrolled": true
   },
   "outputs": [],
   "source": [
    "simul.run(obs_list=occup_list, progress_bar=True)"
   ]
  },
  {
   "cell_type": "code",
   "execution_count": null,
   "metadata": {},
   "outputs": [],
   "source": [
    "for expv in simul.output.expect:\n",
    "    plt.plot(expv)"
   ]
  },
  {
   "cell_type": "code",
   "execution_count": null,
   "metadata": {},
   "outputs": [],
   "source": [
    "L = n_side\n",
    "res = np.zeros((L,L))\n",
    "pos = [k for k in range(L*L) if (k//L in {0,L-1} or k%L in {0,L-1})] # valid position indexes in atom array\n",
    "for i,ev in enumerate(simul.output.expect):\n",
    "    x = pos[i]//L\n",
    "    y = pos[i]%L\n",
    "    res[x,y] = ev[-1]\n",
    "plt.matshow(res, cmap='hot')\n",
    "print(res)"
   ]
  },
  {
   "cell_type": "code",
   "execution_count": null,
   "metadata": {},
   "outputs": [],
   "source": [
    "L = int(np.sqrt(len(reg.qubits)))\n",
    "res=np.zeros((L,L))\n",
    "for i,ev in enumerate(simul.output.expect):\n",
    "    res[i//L,i%L] = ev[-1]\n",
    "plt.matshow(res, cmap='hot')\n",
    "print(res)"
   ]
  },
  {
   "cell_type": "code",
   "execution_count": null,
   "metadata": {},
   "outputs": [],
   "source": [
    "len(reg.qubits)"
   ]
  },
  {
   "cell_type": "code",
   "execution_count": null,
   "metadata": {},
   "outputs": [],
   "source": []
  }
 ],
 "metadata": {
  "kernelspec": {
   "display_name": "Python 3",
   "language": "python",
   "name": "python3"
  },
  "language_info": {
   "codemirror_mode": {
    "name": "ipython",
    "version": 3
   },
   "file_extension": ".py",
   "mimetype": "text/x-python",
   "name": "python",
   "nbconvert_exporter": "python",
   "pygments_lexer": "ipython3",
   "version": "3.9.0"
  }
 },
 "nbformat": 4,
 "nbformat_minor": 4
}
