{
 "cells": [
  {
   "cell_type": "markdown",
   "metadata": {},
   "source": [
    "# Preparing an AF state in the Ising model\n",
    "\n",
    "This notebook illustrates how to use Pulser to build a sequence for preparing an AF state in the Ising model. It is based on [10.1103/PhysRevX.8.021070](10.1103/PhysRevX.8.021070).\n",
    "\n",
    "We begin by importing some basic modules:"
   ]
  },
  {
   "cell_type": "code",
   "execution_count": null,
   "metadata": {},
   "outputs": [],
   "source": [
    "import numpy as np\n",
    "import matplotlib.pyplot as plt\n",
    "import qutip\n",
    "\n",
    "from pulser import Pulse, Sequence, Register\n",
    "from pulser.waveforms import ConstantWaveform, RampWaveform\n",
    "from pulser.devices import Chadoq2, MockDevice\n",
    "from pulser.simulation import Simulation"
   ]
  },
  {
   "cell_type": "markdown",
   "metadata": {},
   "source": [
    "# 1. 2D Square Array"
   ]
  },
  {
   "cell_type": "markdown",
   "metadata": {},
   "source": [
    "## Waveforms \n",
    "\n",
    "We are realizing the following program\n",
    "\n",
    "<img src=\"files/AF_Ising_program.png\" alt=\"AF Pulse Sequence\" style=\"width: 320px;\"/>"
   ]
  },
  {
   "cell_type": "markdown",
   "metadata": {},
   "source": [
    "This pulse is defined by the following parameters:"
   ]
  },
  {
   "cell_type": "code",
   "execution_count": null,
   "metadata": {},
   "outputs": [],
   "source": [
    "# Parameters in MHz and ns\n",
    "U = 1.5 * 2*np.pi \n",
    "\n",
    "delta_0 = -20 * U\n",
    "delta_f = 14 * U\n",
    "Omega_max = 12 * U \n",
    "\n",
    "t_rise = 300\n",
    "t_fall = 400\n",
    "t_sweep = 1000 - (t_rise + t_fall)"
   ]
  },
  {
   "cell_type": "markdown",
   "metadata": {},
   "source": [
    "We define our register with an interatomic distance equal to the Rydberg radius. This in turn depends on the maximum Rabi frequency in our pulse sequence."
   ]
  },
  {
   "cell_type": "code",
   "execution_count": null,
   "metadata": {
    "scrolled": true
   },
   "outputs": [],
   "source": [
    "R_blockade = (5.008e6/Omega_max)**(1/6)\n",
    "reg = Register.rectangle(3,3,R_blockade, prefix='q')\n",
    "print(f'Blockade Radius is: {R_blockade}µm.')\n",
    "reg.draw()"
   ]
  },
  {
   "cell_type": "markdown",
   "metadata": {},
   "source": [
    "## Creating my sequence"
   ]
  },
  {
   "cell_type": "markdown",
   "metadata": {},
   "source": [
    "We compose our pulse with the following objects from Pulser:"
   ]
  },
  {
   "cell_type": "code",
   "execution_count": null,
   "metadata": {},
   "outputs": [],
   "source": [
    "rise = Pulse.ConstantDetuning(RampWaveform(t_rise, 0., Omega_max), delta_0, 0.)\n",
    "sweep = Pulse.ConstantAmplitude(Omega_max, RampWaveform(t_sweep, delta_0, delta_f), 0.)\n",
    "fall = Pulse.ConstantDetuning(RampWaveform(t_fall, Omega_max, 0.), delta_f, 0.)"
   ]
  },
  {
   "cell_type": "code",
   "execution_count": null,
   "metadata": {},
   "outputs": [],
   "source": [
    "seq = Sequence(reg, MockDevice)\n",
    "seq.declare_channel('ising', 'rydberg_global')\n",
    "\n",
    "seq.add(rise, 'ising')\n",
    "seq.add(sweep, 'ising')\n",
    "seq.add(fall, 'ising')\n",
    "\n",
    "#print(seq)\n",
    "seq.draw()"
   ]
  },
  {
   "cell_type": "markdown",
   "metadata": {},
   "source": [
    "## Phase Diagram"
   ]
  },
  {
   "cell_type": "markdown",
   "metadata": {},
   "source": [
    "The pulse sequence travels though the following path in the phase diagram of the system (the shaded area represents the antiferromagnetic phase):"
   ]
  },
  {
   "cell_type": "code",
   "execution_count": null,
   "metadata": {},
   "outputs": [],
   "source": [
    "#phase = {'omega':[], 'delta':[], 'time': range(max(seq._last(ch).tf for ch in seq.declared_channels))}\n",
    "delta = []\n",
    "omega = []\n",
    "for x in seq._schedule['ising']:\n",
    "    if isinstance(x.type,Pulse):\n",
    "        omega += list(x.type.amplitude.samples/U)\n",
    "        delta += list(x.type.detuning.samples/U)\n",
    "        \n",
    "fig, ax = plt.subplots()\n",
    "ax.grid(True, which='both')\n",
    "\n",
    "ax.set_ylabel(r\"$\\frac{\\delta(t)}{\\hbar\\,U}$\")\n",
    "ax.set_xlabel(r\"$\\frac{\\Omega(t)}{\\hbar\\,U}$\")\n",
    "ax.set_xlim(0,3)\n",
    "#ax.set_ylim(-300,300)\n",
    "ax.axhline(y=0, color='k')\n",
    "ax.axvline(x=0, color='k')\n",
    "\n",
    "y = np.arange(0.0, 6, 0.01)\n",
    "x = 1.522*(1-0.25*(y-2)**2)\n",
    "ax.fill_between(x, y, alpha=0.4)\n",
    "\n",
    "ax.plot(np.array(omega)/(2*np.pi),np.array(delta)/(2*np.pi),'red',lw=2)\n",
    "plt.show()\n"
   ]
  },
  {
   "cell_type": "markdown",
   "metadata": {},
   "source": [
    "# Simulation"
   ]
  },
  {
   "cell_type": "markdown",
   "metadata": {},
   "source": [
    "We now run a simulation of the sequence:"
   ]
  },
  {
   "cell_type": "code",
   "execution_count": null,
   "metadata": {},
   "outputs": [],
   "source": [
    "simul = Simulation(seq)"
   ]
  },
  {
   "cell_type": "markdown",
   "metadata": {},
   "source": [
    "The observables to measure will be the occupation operator $|r\\rangle \\langle r|_i$ on each site $i$ of the register, where the Rydberg state $|r\\rangle$ represents the excited state."
   ]
  },
  {
   "cell_type": "code",
   "execution_count": null,
   "metadata": {},
   "outputs": [],
   "source": [
    "up = qutip.basis(2,0)\n",
    "def occupation(j):\n",
    "    prod = [qutip.qeye(2) for _ in range(simul._size)]\n",
    "    prod[j] = up*up.dag()\n",
    "    return qutip.tensor(prod)\n",
    "    \n",
    "occup_list = [occupation(j) for j in range(simul._size)]"
   ]
  },
  {
   "cell_type": "markdown",
   "metadata": {},
   "source": [
    "We now run the simulation and plot the evolution of the expectation values, as well as a representation of the final values after the pulse is applied:"
   ]
  },
  {
   "cell_type": "code",
   "execution_count": null,
   "metadata": {
    "scrolled": true
   },
   "outputs": [],
   "source": [
    "simul.run(obs_list=occup_list, progress_bar=True)\n",
    "\n",
    "for expv in simul.output.expect:\n",
    "    plt.plot(expv)\n",
    "    \n",
    "L = int(np.sqrt(len(reg.qubits)))\n",
    "res=np.zeros((L,L))\n",
    "for i,ev in enumerate(simul.output.expect):\n",
    "    res[i//L,i%L] = ev[-1]\n",
    "plt.matshow(res, cmap='hot')\n",
    "print(res)"
   ]
  },
  {
   "cell_type": "markdown",
   "metadata": {},
   "source": [
    "# 2. 1D open Chain"
   ]
  },
  {
   "cell_type": "markdown",
   "metadata": {},
   "source": [
    "One can also try other geometries. In a 1D open boundary chain, for example:"
   ]
  },
  {
   "cell_type": "code",
   "execution_count": null,
   "metadata": {},
   "outputs": [],
   "source": [
    "# Parameters in MHz and ns\n",
    "U = 1.5 * 2*np.pi \n",
    "delta_0 = -10 * U\n",
    "delta_f = 7 * U\n",
    "Omega_max = 10 * U\n",
    "t_rise = 300\n",
    "t_fall = 400\n",
    "t_sweep = 1000 - (t_rise+t_fall)\n",
    "\n",
    "# Register\n",
    "R_blockade = (5.008e6/Omega_max)**(1/6)\n",
    "n_side = 5\n",
    "coords = R_blockade * np.array([(x,y) for x in range(n_side) for y in range(n_side) \n",
    "                    if (x in {0,n_side-1} or y in {0,n_side-1})], dtype=np.float64)\n",
    "reg = Register.from_coordinates(coords, prefix='atom')\n",
    "reg = Register.rectangle(1,11,R_blockade, prefix='q')\n",
    "\n",
    "reg.draw()\n",
    "\n",
    "\n",
    "rise = Pulse.ConstantDetuning(RampWaveform(t_rise, 0., Omega_max), delta_0, 0.)\n",
    "sweep = Pulse.ConstantAmplitude(Omega_max, RampWaveform(t_sweep, delta_0, delta_f), 0.)\n",
    "fall = Pulse.ConstantDetuning(RampWaveform(t_fall, Omega_max, 0.), delta_f, 0.)\n",
    "\n",
    "seq = Sequence(reg, MockDevice)\n",
    "seq.declare_channel('ising', 'rydberg_global')\n",
    "\n",
    "seq.add(rise, 'ising')\n",
    "seq.add(sweep, 'ising')\n",
    "seq.add(fall, 'ising')\n",
    "\n",
    "#print(seq)\n",
    "seq.draw()"
   ]
  },
  {
   "cell_type": "markdown",
   "metadata": {},
   "source": [
    "The phase diagram is plotted below:"
   ]
  },
  {
   "cell_type": "code",
   "execution_count": null,
   "metadata": {},
   "outputs": [],
   "source": [
    "#phase = {'omega':[], 'delta':[], 'time': range(max(seq._last(ch).tf for ch in seq.declared_channels))}\n",
    "delta = []\n",
    "omega = []\n",
    "for x in seq._schedule['ising']:\n",
    "    if isinstance(x.type,Pulse):\n",
    "        omega += list(x.type.amplitude.samples/U)\n",
    "        delta += list(x.type.detuning.samples/U)\n",
    "        \n",
    "fig, ax = plt.subplots()\n",
    "ax.grid(True, which='both')\n",
    "\n",
    "ax.set_ylabel(r\"$\\frac{\\delta(t)}{\\hbar\\,U}$\")\n",
    "ax.set_xlabel(r\"$\\frac{\\Omega(t)}{\\hbar\\,U}$\")\n",
    "ax.set_xlim(0,2)\n",
    "ax.set_ylim(-3,3)\n",
    "ax.axhline(y=0, color='k')\n",
    "ax.axvline(x=0, color='k')\n",
    "\n",
    "y = np.arange(0.0, 6, 0.01)\n",
    "x = 0.5*(1-(y-1)**2)\n",
    "ax.fill_between(x, y, color='green',alpha=0.4)\n",
    "\n",
    "ax.plot(np.array(omega)/(2*np.pi),np.array(delta)/(2*np.pi),'red',lw=2)"
   ]
  },
  {
   "cell_type": "code",
   "execution_count": null,
   "metadata": {},
   "outputs": [],
   "source": [
    "simul = Simulation(seq)\n",
    "\n",
    "up = qutip.basis(2,0)\n",
    "def occupation(j):\n",
    "    prod = [qutip.qeye(2) for _ in range(simul._size)]\n",
    "    prod[j] = up*up.dag()\n",
    "    return qutip.tensor(prod)\n",
    "    \n",
    "occup_list = [occupation(j) for j in range(simul._size)]\n",
    "\n",
    "simul.run(obs_list=occup_list, progress_bar=True)"
   ]
  },
  {
   "cell_type": "markdown",
   "metadata": {},
   "source": [
    "The results are as follows:"
   ]
  },
  {
   "cell_type": "code",
   "execution_count": null,
   "metadata": {},
   "outputs": [],
   "source": [
    "for expv in simul.output.expect:\n",
    "    plt.plot(expv)\n",
    "plt.show()\n",
    "L = len(simul._reg.qubits)\n",
    "res =np.zeros((1,L))\n",
    "for i,ev in enumerate(simul.output.expect):\n",
    "    res[0,i] = ev[-1]\n",
    "plt.matshow(res, cmap = 'hot')\n",
    "print(res)"
   ]
  }
 ],
 "metadata": {
  "kernelspec": {
   "display_name": "Python 3",
   "language": "python",
   "name": "python3"
  },
  "language_info": {
   "codemirror_mode": {
    "name": "ipython",
    "version": 3
   },
   "file_extension": ".py",
   "mimetype": "text/x-python",
   "name": "python",
   "nbconvert_exporter": "python",
   "pygments_lexer": "ipython3",
   "version": "3.9.0"
  }
 },
 "nbformat": 4,
 "nbformat_minor": 4
}
