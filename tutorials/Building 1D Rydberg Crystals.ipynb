{
 "cells": [
  {
   "cell_type": "markdown",
   "metadata": {},
   "source": [
    "# Probing Many-Body Dynamics on Pulser"
   ]
  },
  {
   "cell_type": "markdown",
   "metadata": {},
   "source": [
    "The following notebook shows a study of many-body dynamics on a 1D system. It is based on [1707.04344](https://arxiv.org/abs/1707.04344). Since this is a particular experiment not based on Pasqal's certified devices, we will use the `MockDevice` class to allow for a wide range of configuration settings."
   ]
  },
  {
   "cell_type": "code",
   "execution_count": null,
   "metadata": {},
   "outputs": [],
   "source": [
    "import numpy as np\n",
    "import matplotlib.pyplot as plt\n",
    "import qutip\n",
    "\n",
    "from pulser import Pulse, Sequence, Register\n",
    "from pulser.waveforms import CompositeWaveform, RampWaveform, ConstantWaveform\n",
    "from pulser.devices import MockDevice\n",
    "from pulser.simulation import Simulation"
   ]
  },
  {
   "cell_type": "markdown",
   "metadata": {},
   "source": [
    "## Rydberg Blockade at Resonant Driving"
   ]
  },
  {
   "cell_type": "markdown",
   "metadata": {},
   "source": [
    "We first consider clusters of $1, 2$ and $3$ atoms under resonant ($\\delta = 0$) driving. If all the atoms are placed withing each other's blockade volume, only one excitation per group will be possible at a time. The Rabi frequency will be enhanced by $\\sqrt{N}$"
   ]
  },
  {
   "cell_type": "code",
   "execution_count": null,
   "metadata": {},
   "outputs": [],
   "source": [
    "Omega_max = 2 * 2*np.pi\n",
    "R_blockade = (5.008e6/Omega_max)**(1/6)\n",
    "print(f'Blockade Radius is: {R_blockade}µm.')\n",
    "groups = 3\n",
    "\n",
    "def blockade_cluster(N):\n",
    "    \n",
    "    atom_coords = [((R_blockade/N)*x+40*group,0) for group in range(groups) for x in range(1,N+1)]\n",
    "    print(atom_coords)\n",
    "    reg = Register.from_coordinates(atom_coords, prefix='q')\n",
    "    \n",
    "    reg.draw()\n",
    "    \n",
    "    resonant_pulse = Pulse.ConstantPulse(1500, Omega_max, 0., 0.)\n",
    "    \n",
    "    seq = Sequence(reg, MockDevice)\n",
    "    seq.declare_channel('ising', 'rydberg_global')\n",
    "    seq.add(resonant_pulse, 'ising')\n",
    "    \n",
    "    simul = Simulation(seq)\n",
    "    \n",
    "    up = qutip.basis(2,0)\n",
    "    \n",
    "    def occupation(j):\n",
    "        prod = [qutip.qeye(2) for _ in range(simul._size)]\n",
    "        prod[j] = up*up.dag()\n",
    "        return qutip.tensor(prod)\n",
    "\n",
    "    obs = [sum(occupation(j) for j in range(i,i+N)) for i in range(0,groups*N,N)]    \n",
    "    \n",
    "    simul.run(obs_list=obs, progress_bar=True)\n",
    "    return simul.output.expect\n",
    "    "
   ]
  },
  {
   "cell_type": "code",
   "execution_count": null,
   "metadata": {},
   "outputs": [],
   "source": [
    "data = [blockade_cluster(N) for N in [1,2,3]]  \n"
   ]
  },
  {
   "cell_type": "code",
   "execution_count": null,
   "metadata": {},
   "outputs": [],
   "source": [
    "for N,expectation in enumerate(data):\n",
    "    plt.xlabel('Time (µs)')\n",
    "    plt.ylabel('Probability')\n",
    "    plt.title(f'N={N+1}')\n",
    "    plt.plot(sum(expectation)/groups)\n",
    "    plt.show()\n",
    "\n",
    "\n",
    "plt.show()"
   ]
  },
  {
   "cell_type": "markdown",
   "metadata": {},
   "source": [
    "Only one excitation will be shared between the atoms on each cluster. Notice how the Rabi frequency increases by a factor of $\\sqrt{N}$ "
   ]
  },
  {
   "cell_type": "markdown",
   "metadata": {},
   "source": [
    "# Ordered Crystalline phases"
   ]
  },
  {
   "cell_type": "markdown",
   "metadata": {},
   "source": [
    "The pulse sequence that we will prepare is based on the following parameters:"
   ]
  },
  {
   "cell_type": "code",
   "execution_count": null,
   "metadata": {},
   "outputs": [],
   "source": [
    "# Parameters in MHz and ns\n",
    "delta_0 = -4 * 2*np.pi\n",
    "delta_f = 20 * 2*np.pi\n",
    "Omega_max = 2 * 2*np.pi  \n",
    "t_rise = 600\n",
    "t_stop = 2500\n",
    "t_end = 3000"
   ]
  },
  {
   "cell_type": "markdown",
   "metadata": {},
   "source": [
    "We calculate the blockade radius from the maximal applied Rabi frequency:"
   ]
  },
  {
   "cell_type": "code",
   "execution_count": null,
   "metadata": {},
   "outputs": [],
   "source": [
    "R_blockade = (5.008e6/Omega_max)**(1/6)\n",
    "reg = Register.rectangle(1,11, spacing=6, prefix='q')\n",
    "print(f'Blockade Radius is: {R_blockade}µm.')\n",
    "reg.draw()"
   ]
  },
  {
   "cell_type": "markdown",
   "metadata": {},
   "source": [
    "Create the pulses using Pulser objects:"
   ]
  },
  {
   "cell_type": "code",
   "execution_count": null,
   "metadata": {},
   "outputs": [],
   "source": [
    "hold = ConstantWaveform(t_rise, delta_0)\n",
    "excite = RampWaveform(t_stop - t_rise, delta_0, delta_f)\n",
    "sweep = Pulse.ConstantAmplitude(Omega_max, CompositeWaveform(hold, excite), 0.)\n",
    "stay = Pulse.ConstantPulse(t_end - t_stop, 0., delta_f, 0.)"
   ]
  },
  {
   "cell_type": "code",
   "execution_count": null,
   "metadata": {},
   "outputs": [],
   "source": [
    "seq = Sequence(reg, MockDevice)\n",
    "seq.declare_channel('ising', 'rydberg_global')\n",
    "\n",
    "seq.add(sweep, 'ising')\n",
    "seq.add(stay, 'ising')\n",
    "\n",
    "#print(seq)\n",
    "seq.draw()"
   ]
  },
  {
   "cell_type": "markdown",
   "metadata": {},
   "source": [
    "## Simulation\n",
    "\n",
    "(Running with `nsteps = 2000`, `max_step=5`)"
   ]
  },
  {
   "cell_type": "code",
   "execution_count": null,
   "metadata": {},
   "outputs": [],
   "source": [
    "simul = Simulation(seq)\n",
    "print(simul._U, Omega_max, simul._U/Omega_max)"
   ]
  },
  {
   "cell_type": "code",
   "execution_count": null,
   "metadata": {},
   "outputs": [],
   "source": [
    "up = qutip.basis(2,0)\n",
    "def occupation(j):\n",
    "    prod = [qutip.qeye(2) for _ in range(simul._size)]\n",
    "    prod[j] = up*up.dag()\n",
    "    return qutip.tensor(prod)\n",
    "    \n",
    "occup_list = [occupation(j) for j in range(simul._size)]"
   ]
  },
  {
   "cell_type": "code",
   "execution_count": null,
   "metadata": {},
   "outputs": [],
   "source": [
    "simul.run(obs_list=occup_list, progress_bar=True)\n",
    "res = simul.output.expect"
   ]
  },
  {
   "cell_type": "code",
   "execution_count": null,
   "metadata": {},
   "outputs": [],
   "source": [
    "plt.xlabel('Time (ns)')\n",
    "plt.ylabel('Rydberg Occupation Probabilty')\n",
    "for x in res:\n",
    "    plt.plot(x)"
   ]
  },
  {
   "cell_type": "code",
   "execution_count": null,
   "metadata": {},
   "outputs": [],
   "source": [
    "def heat_detuning(data,start,end):\n",
    "    time_window = []\n",
    "    x =[]\n",
    "    detunings = simul.samples['Global']['ground-rydberg']['det']\n",
    "\n",
    "    for t,d in enumerate(detunings):\n",
    "        if start <= d <= end:\n",
    "            time_window.append(t)\n",
    "            x.append(d/(2*np.pi))\n",
    "\n",
    "    y = np.arange(len(reg.qubits))\n",
    "\n",
    "    X, Y = np.meshgrid(x, y)\n",
    "    Z = np.array(data)[:,time_window]\n",
    "\n",
    "    plt.figure(figsize=(20,3))\n",
    "    plt.pcolormesh(X,Y,Z, cmap='hot', shading='auto')\n",
    "    plt.xlabel('Detuning/2π (MHz)')\n",
    "    plt.ylabel('Position in cluster')\n",
    "\n",
    "\n",
    "    plt.show()"
   ]
  },
  {
   "cell_type": "code",
   "execution_count": null,
   "metadata": {},
   "outputs": [],
   "source": [
    "heat_detuning(res,delta_0,delta_f)"
   ]
  },
  {
   "cell_type": "markdown",
   "metadata": {},
   "source": [
    "# Rydberg Crystals: $Z_3$ Order"
   ]
  },
  {
   "cell_type": "markdown",
   "metadata": {},
   "source": [
    "We now reduce the interatomic distance, thus increasing the interaction range between the atoms. This will lead to a $Z_3$ ordered phase: "
   ]
  },
  {
   "cell_type": "code",
   "execution_count": null,
   "metadata": {},
   "outputs": [],
   "source": [
    "reg = Register.rectangle(1,10, spacing=3.5, prefix='q')\n",
    "reg.draw()\n",
    "\n",
    "delta_0 = -4 * 2*np.pi\n",
    "delta_f = 12 * 2*np.pi\n",
    "Omega_max = 2.0 * 2*np.pi  # btw 1.8-2 Mhz*2pi\n",
    "t_rise = 600\n",
    "t_stop = 2500\n",
    "t_end = 3000\n",
    "\n",
    "#\n",
    "hold = ConstantWaveform(t_rise, delta_0)\n",
    "excite = RampWaveform(t_stop - t_rise, delta_0, delta_f)\n",
    "sweep = Pulse.ConstantAmplitude(Omega_max, CompositeWaveform(hold, excite), 0.)\n",
    "stay = Pulse.ConstantPulse(t_end - t_stop, 0., delta_f, 0.)\n",
    "\n",
    "#\n",
    "seq = Sequence(reg, MockDevice)\n",
    "seq.declare_channel('ising', 'rydberg_global')\n",
    "\n",
    "seq.add(sweep, 'ising')\n",
    "seq.add(stay, 'ising')\n",
    "\n",
    "#print(seq)\n",
    "#seq.draw()\n",
    "\n",
    "simul = Simulation(seq)\n",
    "\n",
    "#\n",
    "up = qutip.basis(2,0)\n",
    "def occupation(j):\n",
    "    prod = [qutip.qeye(2) for _ in range(simul._size)]\n",
    "    prod[j] = up*up.dag()\n",
    "    return qutip.tensor(prod)\n",
    "    \n",
    "occup_list = [occupation(j) for j in range(simul._size)]\n",
    "\n",
    "#\n",
    "simul.run(obs_list=occup_list, progress_bar=True)\n",
    "res = simul.output.expect\n",
    "\n",
    "plt.figure(figsize=(10,5))\n",
    "plt.xlabel('Time (ns)')\n",
    "plt.ylabel('Rydberg Occupation Probabilty')\n",
    "for expv in simul.output.expect:\n",
    "    plt.plot(expv)\n",
    "    \n",
    "heat_detuning(res,delta_0,delta_f)\n",
    "    \n",
    "plt.show()"
   ]
  },
  {
   "cell_type": "markdown",
   "metadata": {},
   "source": [
    "# Rydberg Crystals: Z4 Order"
   ]
  },
  {
   "cell_type": "markdown",
   "metadata": {},
   "source": [
    "Decreasing even more the interatomic distance leads to a $Z_4$ order. The magnitude of the Rydberg interaction with respect to that of the applied pulses means our solver has to control terms with a wider range, thus leading to longer simulation times:"
   ]
  },
  {
   "cell_type": "code",
   "execution_count": null,
   "metadata": {},
   "outputs": [],
   "source": [
    "reg = Register.rectangle(1,9, spacing=3, prefix='q')\n",
    "reg.draw()\n",
    "\n",
    "# Parameters in MHz and ns\n",
    "#U = 1 * 2*np.pi  # btw 1-3 Mhz*2pi. Should we include this VdW magnitude in an AFM-type Simulation?\n",
    "\n",
    "delta_0 = -4 * 2*np.pi\n",
    "delta_f = 10 * 2*np.pi\n",
    "Omega_max = 2.0 * 2*np.pi  # btw 1.8-2 Mhz*2pi\n",
    "t_rise = 600\n",
    "t_stop = 2500\n",
    "t_end = 3000\n",
    "\n",
    "#\n",
    "hold = ConstantWaveform(t_rise, delta_0)\n",
    "excite = RampWaveform(t_stop - t_rise, delta_0, delta_f)\n",
    "sweep = Pulse.ConstantAmplitude(Omega_max, CompositeWaveform(hold, excite), 0.)\n",
    "stay = Pulse.ConstantPulse(t_end - t_stop, 0., delta_f, 0.)\n",
    "\n",
    "#\n",
    "seq = Sequence(reg, MockDevice)\n",
    "seq.declare_channel('ising', 'rydberg_global')\n",
    "\n",
    "seq.add(sweep, 'ising')\n",
    "seq.add(stay, 'ising')\n",
    "\n",
    "#print(seq)\n",
    "#seq.draw()\n",
    "\n",
    "simul = Simulation(seq)\n",
    "\n",
    "#\n",
    "up = qutip.basis(2,0)\n",
    "def occupation(j):\n",
    "    prod = [qutip.qeye(2) for _ in range(simul._size)]\n",
    "    prod[j] = up*up.dag()\n",
    "    return qutip.tensor(prod)\n",
    "    \n",
    "occup_list = [occupation(j) for j in range(simul._size)]\n",
    "\n",
    "#\n",
    "simul.run(obs_list=occup_list, progress_bar=True)\n",
    "res = simul.output.expect\n",
    "        \n",
    "heat_detuning(res,delta_0,delta_f)\n",
    "    \n",
    "#\n",
    "plt.figure(figsize=(10,5))\n",
    "plt.xlabel('Time (ns)')\n",
    "plt.ylabel('Rydberg Occupation Probabilty')\n",
    "for expv in simul.output.expect:\n",
    "    plt.plot(expv)\n",
    "    \n",
    "plt.show()"
   ]
  }
 ],
 "metadata": {
  "kernelspec": {
   "display_name": "Python 3",
   "language": "python",
   "name": "python3"
  },
  "language_info": {
   "codemirror_mode": {
    "name": "ipython",
    "version": 3
   },
   "file_extension": ".py",
   "mimetype": "text/x-python",
   "name": "python",
   "nbconvert_exporter": "python",
   "pygments_lexer": "ipython3",
   "version": "3.9.0"
  }
 },
 "nbformat": 4,
 "nbformat_minor": 4
}
