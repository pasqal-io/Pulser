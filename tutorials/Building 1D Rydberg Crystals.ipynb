{
 "cells": [
  {
   "cell_type": "markdown",
   "metadata": {},
   "source": [
    "# Probing Many-Body Dynamics on Pulser"
   ]
  },
  {
   "cell_type": "code",
   "execution_count": null,
   "metadata": {},
   "outputs": [],
   "source": [
    "import numpy as np\n",
    "import matplotlib.pyplot as plt\n",
    "import qutip\n",
    "\n",
    "from pulser import Pulse, Sequence, Register\n",
    "from pulser.waveforms import CompositeWaveform, RampWaveform, ConstantWaveform\n",
    "from pulser.devices import Chadoq2\n",
    "from pulser.simulation import Simulation"
   ]
  },
  {
   "cell_type": "code",
   "execution_count": null,
   "metadata": {},
   "outputs": [],
   "source": [
    "reg = Register.rectangle(1,9, spacing=6, prefix='q')\n",
    "reg.draw()\n",
    "device = Chadoq2(reg) "
   ]
  },
  {
   "cell_type": "code",
   "execution_count": null,
   "metadata": {},
   "outputs": [],
   "source": [
    "# Parameters in MHz and ns\n",
    "#U = 1 * 2*np.pi  # btw 1-3 Mhz*2pi. Should we include this VdW magnitude in an AFM-type Simulation?\n",
    "\n",
    "delta_0 = -20 * 2*np.pi\n",
    "delta_f = 20 * 2*np.pi\n",
    "Omega_max = 2.0 * 2*np.pi  # btw 1.8-2 Mhz*2pi\n",
    "t_rise = 60.\n",
    "t_stop = 220.\n",
    "t_end = 300."
   ]
  },
  {
   "cell_type": "markdown",
   "metadata": {},
   "source": [
    "## Z2 order: Creating the Pulse Sequence"
   ]
  },
  {
   "cell_type": "code",
   "execution_count": null,
   "metadata": {},
   "outputs": [],
   "source": [
    "hold = ConstantWaveform(t_rise, delta_0)\n",
    "excite = RampWaveform(t_stop - t_rise, delta_0, delta_f)\n",
    "sweep = Pulse.ConstantAmplitude(Omega_max, CompositeWaveform(hold, excite), 0.)\n",
    "stay = Pulse.ConstantPulse(t_end - t_stop, 0., delta_f, 0.)"
   ]
  },
  {
   "cell_type": "code",
   "execution_count": null,
   "metadata": {},
   "outputs": [],
   "source": [
    "seq = Sequence(device)\n",
    "seq.declare_channel('ising', 'rydberg_global')\n",
    "\n",
    "seq.add(sweep, 'ising')\n",
    "seq.add(stay, 'ising')\n",
    "\n",
    "print(seq)\n",
    "seq.draw()"
   ]
  },
  {
   "cell_type": "markdown",
   "metadata": {},
   "source": [
    "## Simulation\n",
    "\n",
    "(Running with `nsteps = 10000`, `max_step=10`)"
   ]
  },
  {
   "cell_type": "code",
   "execution_count": null,
   "metadata": {},
   "outputs": [],
   "source": [
    "simul = Simulation(seq)"
   ]
  },
  {
   "cell_type": "code",
   "execution_count": null,
   "metadata": {},
   "outputs": [],
   "source": [
    "up = qutip.basis(2,0)\n",
    "def occupation(j):\n",
    "    prod = [qutip.qeye(2) for _ in range(simul._size)]\n",
    "    prod[j] = up*up.dag()\n",
    "    return qutip.tensor(prod)\n",
    "    \n",
    "occup_list = [occupation(j) for j in range(simul._size)]"
   ]
  },
  {
   "cell_type": "code",
   "execution_count": null,
   "metadata": {},
   "outputs": [],
   "source": [
    "simul.run(obs_list=occup_list, progress_bar=True)"
   ]
  },
  {
   "cell_type": "code",
   "execution_count": null,
   "metadata": {},
   "outputs": [],
   "source": [
    "res = np.zeros((len(reg.qubits),int(t_end)))\n",
    "for i,expv in enumerate(simul.output.expect):\n",
    "    for t in range(int(t_end)):\n",
    "        res[i,t] = expv[t] "
   ]
  },
  {
   "cell_type": "code",
   "execution_count": null,
   "metadata": {},
   "outputs": [],
   "source": [
    "plt.figure(figsize=(80,50))\n",
    "plt.matshow(res, cmap='hot', fignum=1)\n",
    "plt.show()"
   ]
  },
  {
   "cell_type": "code",
   "execution_count": null,
   "metadata": {},
   "outputs": [],
   "source": [
    "plt.figure(figsize=(10,5))\n",
    "for expv in simul.output.expect:\n",
    "    plt.plot(expv)"
   ]
  },
  {
   "cell_type": "markdown",
   "metadata": {},
   "source": [
    "# Rydberg Crystals: Z3 Order"
   ]
  },
  {
   "cell_type": "code",
   "execution_count": null,
   "metadata": {},
   "outputs": [],
   "source": [
    "reg = Register.rectangle(1,7, spacing=3., prefix='q')\n",
    "reg.draw()\n",
    "device = Chadoq2(reg) \n",
    "\n",
    "# Parameters in MHz and ns\n",
    "#U = 1 * 2*np.pi  # btw 1-3 Mhz*2pi. Should we include this VdW magnitude in an AFM-type Simulation?\n",
    "\n",
    "delta_0 = -20 * 2*np.pi\n",
    "delta_f = 20 * 2*np.pi\n",
    "Omega_max = 2.0 * 2*np.pi  # btw 1.8-2 Mhz*2pi\n",
    "t_rise = 40.\n",
    "t_stop = 150.\n",
    "t_end = 160.\n",
    "\n",
    "#\n",
    "hold = ConstantWaveform(t_rise, delta_0)\n",
    "excite = RampWaveform(t_stop - t_rise, delta_0, delta_f)\n",
    "sweep = Pulse.ConstantAmplitude(Omega_max, CompositeWaveform(hold, excite), 0.)\n",
    "stay = Pulse.ConstantPulse(t_end - t_stop, 0., delta_f, 0.)\n",
    "\n",
    "#\n",
    "seq = Sequence(device)\n",
    "seq.declare_channel('ising', 'rydberg_global')\n",
    "\n",
    "seq.add(sweep, 'ising')\n",
    "seq.add(stay, 'ising')\n",
    "\n",
    "#print(seq)\n",
    "seq.draw()\n",
    "\n",
    "simul = Simulation(seq)\n",
    "\n",
    "#\n",
    "up = qutip.basis(2,0)\n",
    "def occupation(j):\n",
    "    prod = [qutip.qeye(2) for _ in range(simul._size)]\n",
    "    prod[j] = up*up.dag()\n",
    "    return qutip.tensor(prod)\n",
    "    \n",
    "occup_list = [occupation(j) for j in range(simul._size)]\n",
    "\n",
    "#\n",
    "simul.run(obs_list=occup_list, progress_bar=True)\n",
    "\n",
    "#\n",
    "res = np.zeros((len(reg.qubits),int(t_end)))\n",
    "for i,expv in enumerate(simul.output.expect):\n",
    "    for t in range(int(t_end)):\n",
    "        res[i,t] = expv[t] \n",
    "        \n",
    "        \n",
    "#\n",
    "plt.figure(figsize=(80,50))\n",
    "plt.matshow(res, cmap='hot', fignum=1)\n",
    "\n",
    "#\n",
    "plt.figure(figsize=(10,5))\n",
    "for expv in simul.output.expect:\n",
    "    plt.plot(expv)\n",
    "    \n",
    "plt.show()"
   ]
  },
  {
   "cell_type": "markdown",
   "metadata": {},
   "source": [
    "# Rydberg Crystals: Z4 Order"
   ]
  },
  {
   "cell_type": "code",
   "execution_count": null,
   "metadata": {},
   "outputs": [],
   "source": [
    "reg = Register.rectangle(1,5, spacing=2., prefix='q')\n",
    "reg.draw()\n",
    "device = Chadoq2(reg) \n",
    "\n",
    "# Parameters in MHz and ns\n",
    "#U = 1 * 2*np.pi  # btw 1-3 Mhz*2pi. Should we include this VdW magnitude in an AFM-type Simulation?\n",
    "\n",
    "delta_0 = -20 * 2*np.pi\n",
    "delta_f = 20 * 2*np.pi\n",
    "Omega_max = 2.0 * 2*np.pi  # btw 1.8-2 Mhz*2pi\n",
    "t_rise = 40.\n",
    "t_stop = 150.\n",
    "t_end = 160.\n",
    "\n",
    "#\n",
    "hold = ConstantWaveform(t_rise, delta_0)\n",
    "excite = RampWaveform(t_stop - t_rise, delta_0, delta_f)\n",
    "sweep = Pulse.ConstantAmplitude(Omega_max, CompositeWaveform(hold, excite), 0.)\n",
    "stay = Pulse.ConstantPulse(t_end - t_stop, 0., delta_f, 0.)\n",
    "\n",
    "#\n",
    "seq = Sequence(device)\n",
    "seq.declare_channel('ising', 'rydberg_global')\n",
    "\n",
    "seq.add(sweep, 'ising')\n",
    "seq.add(stay, 'ising')\n",
    "\n",
    "#print(seq)\n",
    "seq.draw()\n",
    "\n",
    "simul = Simulation(seq)\n",
    "\n",
    "#\n",
    "up = qutip.basis(2,0)\n",
    "def occupation(j):\n",
    "    prod = [qutip.qeye(2) for _ in range(simul._size)]\n",
    "    prod[j] = up*up.dag()\n",
    "    return qutip.tensor(prod)\n",
    "    \n",
    "occup_list = [occupation(j) for j in range(simul._size)]\n",
    "\n",
    "#\n",
    "simul.run(obs_list=occup_list, progress_bar=True)\n",
    "\n",
    "#\n",
    "res = np.zeros((len(reg.qubits),int(t_end)))\n",
    "for i,expv in enumerate(simul.output.expect):\n",
    "    for t in range(int(t_end)):\n",
    "        res[i,t] = expv[t] \n",
    "        \n",
    "        \n",
    "#\n",
    "plt.figure(figsize=(80,50))\n",
    "plt.matshow(res, cmap='hot', fignum=1)\n",
    "\n",
    "#\n",
    "plt.figure(figsize=(10,5))\n",
    "for expv in simul.output.expect:\n",
    "    plt.plot(expv)\n",
    "    \n",
    "plt.show()"
   ]
  },
  {
   "cell_type": "code",
   "execution_count": null,
   "metadata": {},
   "outputs": [],
   "source": []
  }
 ],
 "metadata": {
  "kernelspec": {
   "display_name": "Python 3",
   "language": "python",
   "name": "python3"
  },
  "language_info": {
   "codemirror_mode": {
    "name": "ipython",
    "version": 3
   },
   "file_extension": ".py",
   "mimetype": "text/x-python",
   "name": "python",
   "nbconvert_exporter": "python",
   "pygments_lexer": "ipython3",
   "version": "3.9.0"
  }
 },
 "nbformat": 4,
 "nbformat_minor": 4
}
