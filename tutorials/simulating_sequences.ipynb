{
 "cells": [
  {
   "cell_type": "markdown",
   "metadata": {},
   "source": [
    "# Simulation of Sequences"
   ]
  },
  {
   "cell_type": "code",
   "execution_count": null,
   "metadata": {},
   "outputs": [],
   "source": [
    "from pulser import Pulse, Sequence, Register\n",
    "from pulser.simulation import Simulation\n",
    "from pulser.waveforms import BlackmanWaveform, RampWaveform\n",
    "from pulser.devices import MockDevice\n",
    "\n",
    "import numpy as np\n",
    "import qutip\n",
    "import matplotlib.pyplot as plt"
   ]
  },
  {
   "cell_type": "markdown",
   "metadata": {},
   "source": [
    "To illustrate the simulation of sequences, let us study a simple one-dimensional system with periodic boundary conditions (a ring of atoms):"
   ]
  },
  {
   "cell_type": "code",
   "execution_count": null,
   "metadata": {},
   "outputs": [],
   "source": [
    "# Setup\n",
    "L = 14\n",
    "\n",
    "Omega_max = 2.3 * 2 * np.pi\n",
    "U = Omega_max / 2.3\n",
    "\n",
    "delta_0 = -3 * U\n",
    "delta_f = 1 * U\n",
    "\n",
    "t_rise = 2000\n",
    "t_fall = 2000\n",
    "t_sweep = (delta_f - delta_0) / (2 * np.pi * 10) * 5000\n",
    "\n",
    "# Define a ring of atoms distanced by a blockade radius distance:\n",
    "R_interatomic = MockDevice.rydberg_blockade_radius(U)\n",
    "coords = (\n",
    "    R_interatomic\n",
    "    / (2 * np.tan(np.pi / L))\n",
    "    * np.array(\n",
    "        [\n",
    "            (np.cos(theta * 2 * np.pi / L), np.sin(theta * 2 * np.pi / L))\n",
    "            for theta in range(L)\n",
    "        ]\n",
    "    )\n",
    ")\n",
    "\n",
    "reg = Register.from_coordinates(coords, prefix=\"atom\")\n",
    "\n",
    "reg.draw(blockade_radius=R_interatomic, draw_half_radius=True, draw_graph=True)"
   ]
  },
  {
   "cell_type": "markdown",
   "metadata": {},
   "source": [
    "We use the drawing capabilites of the `Register` class to highlight the area **half** the blockade radius away from each atom, which makes it so that overlapping circles correspond to interacting atoms. This is further fleshed out by the graph edges drawn using the `draw_graph` option."
   ]
  },
  {
   "cell_type": "markdown",
   "metadata": {},
   "source": [
    "In this register, we shall act with the following pulser sequence, which is designed to reach a state with *antiferromagnetic order*:"
   ]
  },
  {
   "cell_type": "code",
   "execution_count": null,
   "metadata": {},
   "outputs": [],
   "source": [
    "rise = Pulse.ConstantDetuning(\n",
    "    RampWaveform(t_rise, 0.0, Omega_max), delta_0, 0.0\n",
    ")\n",
    "sweep = Pulse.ConstantAmplitude(\n",
    "    Omega_max, RampWaveform(t_sweep, delta_0, delta_f), 0.0\n",
    ")\n",
    "fall = Pulse.ConstantDetuning(\n",
    "    RampWaveform(t_fall, Omega_max, 0.0), delta_f, 0.0\n",
    ")\n",
    "\n",
    "seq = Sequence(reg, MockDevice)\n",
    "seq.declare_channel(\"ising\", \"rydberg_global\")\n",
    "\n",
    "seq.add(rise, \"ising\")\n",
    "seq.add(sweep, \"ising\")\n",
    "seq.add(fall, \"ising\")\n",
    "\n",
    "seq.draw()"
   ]
  },
  {
   "cell_type": "markdown",
   "metadata": {},
   "source": [
    "## 1. Running a Simulation"
   ]
  },
  {
   "cell_type": "markdown",
   "metadata": {},
   "source": [
    "First we define our `Simulation` object, which creates an internal respresentation of the quantum system, including the Hamiltonian which will drive the evolution:"
   ]
  },
  {
   "cell_type": "code",
   "execution_count": null,
   "metadata": {},
   "outputs": [],
   "source": [
    "sim = Simulation(seq, sampling_rate=0.1)"
   ]
  },
  {
   "cell_type": "markdown",
   "metadata": {},
   "source": [
    "Notice we have included the parameter `sampling_rate` which allows us to determine how many samples from the pulse sequence we wish to simulate. In the case of the simple shapes in our sequence, only a very small fraction is needed. This largely accelerates the simulation time in the solver."
   ]
  },
  {
   "cell_type": "markdown",
   "metadata": {},
   "source": [
    "To run the simulation we simply apply the method `run()`. At the time of writing of this notebook, the method uses a series of routines from **QuTiP** for solving the Schröedinger equation of the system. It returns a `SimulationResults` object, which will allow the study or post-processing of the states for each time step in our simulation. Additionally, we can include a progress bar to have an estimate of how the simulation is advancing:"
   ]
  },
  {
   "cell_type": "code",
   "execution_count": null,
   "metadata": {},
   "outputs": [],
   "source": [
    "results = sim.run(progress_bar=True)"
   ]
  },
  {
   "cell_type": "markdown",
   "metadata": {},
   "source": [
    "## 2. Using the `SimulationResults` object"
   ]
  },
  {
   "cell_type": "markdown",
   "metadata": {},
   "source": [
    "The `SimulationResults` object that we created contains the quantum state at each time step. We can call them using the `states` attribute:"
   ]
  },
  {
   "cell_type": "code",
   "execution_count": null,
   "metadata": {},
   "outputs": [],
   "source": [
    "results.states[23]  # Given as a `qutip.Qobj` object"
   ]
  },
  {
   "cell_type": "markdown",
   "metadata": {},
   "source": [
    "We can sample the final state directly, using the `sample_final_state()` method from the `SimulationResults` object. We try it with $1000$ samples and discard the less frequent bitstrings:"
   ]
  },
  {
   "cell_type": "code",
   "execution_count": null,
   "metadata": {},
   "outputs": [],
   "source": [
    "counts = results.sample_final_state(N_samples=1000)\n",
    "\n",
    "large_counts = {k: v for k, v in counts.items() if v > 5}\n",
    "\n",
    "plt.figure(figsize=(15, 4))\n",
    "plt.xticks(rotation=90, fontsize=14)\n",
    "plt.title(\"Most frequent observations\")\n",
    "plt.bar(large_counts.keys(), large_counts.values())"
   ]
  },
  {
   "cell_type": "markdown",
   "metadata": {},
   "source": [
    "Notice how the most frequent bitstrings correspond to the antiferromagnetic order states."
   ]
  },
  {
   "cell_type": "markdown",
   "metadata": {},
   "source": [
    "We can also compute the expectation values of operators for the states in the evolution, using the `expect()` method, which takes a list of operators (in this case, the local magnetization acting on the $j$-th spin):"
   ]
  },
  {
   "cell_type": "code",
   "execution_count": null,
   "metadata": {},
   "outputs": [],
   "source": [
    "def magnetization(j, total_sites):\n",
    "    prod = [qutip.qeye(2) for _ in range(total_sites)]\n",
    "    prod[j] = qutip.sigmaz()\n",
    "    return qutip.tensor(prod)\n",
    "\n",
    "\n",
    "magn_list = [magnetization(j, L) for j in range(L)]"
   ]
  },
  {
   "cell_type": "code",
   "execution_count": null,
   "metadata": {},
   "outputs": [],
   "source": [
    "expect_magnetization = results.expect(magn_list)\n",
    "for data in expect_magnetization:\n",
    "    plt.plot(sim.evaluation_times, data)"
   ]
  },
  {
   "cell_type": "markdown",
   "metadata": {},
   "source": [
    "Notice how the local magnetization on *each* atom goes in the same way from $-1$ (which corresponds to the ground state) to $0$. This is expected since as we saw above, the state after the evolution has antiferromagnetic-order, so at each site, there is a compensation of magnetization. The parity (even) and the boundary conditions (periodic) allow for two lowest-energy states, whose superposition is similar to that of the perfectly antiferromagnetic state:  $\\Big(|grgr\\cdots \\rangle + |rgrg\\cdots \\rangle\\Big)/\\sqrt{2}$"
   ]
  }
 ],
 "metadata": {
  "kernelspec": {
   "display_name": "Python 3",
   "language": "python",
   "name": "python3"
  },
  "language_info": {
   "codemirror_mode": {
    "name": "ipython",
    "version": 3
   },
   "file_extension": ".py",
   "mimetype": "text/x-python",
   "name": "python",
   "nbconvert_exporter": "python",
   "pygments_lexer": "ipython3",
   "version": "3.8.5"
  }
 },
 "nbformat": 4,
 "nbformat_minor": 4
}
