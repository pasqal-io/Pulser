{
 "cells": [
  {
   "cell_type": "markdown",
   "metadata": {},
   "source": [
    "# XY Spin Chain"
   ]
  },
  {
   "cell_type": "markdown",
   "metadata": {},
   "source": [
    "We introduce here a new mode of interaction between the atoms driven by the dipole-dipole interaction. This mode is called the XY mode. The interaction hamiltonian of a system of $N$ qubits is now given by \n",
    "\n",
    "$$\n",
    "H_{XY} = \\sum_{i=1}^N\\sum_{j<i} \\frac{C_3}{R_{ij}^3}(\\sigma^+_i \\sigma^-_j + \\sigma^-_i \\sigma^+_j) \n",
    "$$\n",
    "\n",
    "where $\\sigma^{±} = (\\sigma^x ± i\\sigma^y)/2$, $R_{ij}$ is the distance between atom $i$ and atom $j$, and $C_3$ is a coefficient dependent on the device and taken as  $\\frac{C_3}{\\hbar} = 3700 \\mu m^3/\\mu s$ for the `MockDevice`.\n",
    "\n",
    "The final hamiltonian of the system is \n",
    "\n",
    "$$\n",
    "H= \\sum_{i=1}^N \\frac{\\hbar\\Omega}{2} \\sigma_i^x - \\sum_{i=1}^N \\frac{\\hbar \\delta}{2}  \\sigma_i^z+H_{XY}.\n",
    "$$\n",
    "\n",
    "The Rydberg states involved are different from the ones of the Ising interaction, they are $|0\\rangle = |62D_{3/2}, m_j=3/2 \\rangle$ and $|1\\rangle = |63P_{1/2}, m_j=1/2 \\rangle$. \n",
    "\n",
    "\n",
    "More details on the XY mode can be found in the following reference: [Barredo et al. 2014](https://arxiv.org/pdf/1408.1055.pdf)"
   ]
  },
  {
   "cell_type": "code",
   "execution_count": null,
   "metadata": {},
   "outputs": [],
   "source": [
    "import numpy as np\n",
    "import matplotlib.pyplot as plt\n",
    "import qutip\n",
    "\n",
    "import pulser\n",
    "from pulser import Pulse, Sequence, Register\n",
    "from pulser_simulation import QutipEmulator\n",
    "from pulser.devices import MockDevice\n",
    "from pulser.waveforms import BlackmanWaveform"
   ]
  },
  {
   "cell_type": "markdown",
   "metadata": {},
   "source": [
    "## Rabi oscillations of 1 atom"
   ]
  },
  {
   "cell_type": "markdown",
   "metadata": {},
   "source": [
    "We start by showing Rabi oscillation in the XY mode in the case of a unique atom as shown in the figure 1 (c) of the [reference](https://arxiv.org/pdf/1408.1055.pdf). In a similar way as the Ising mode, the atom will oscillate between the two energy levels. The XY mode is only available in the `mw_global` channel. We initialize the register and instantiate the channel. "
   ]
  },
  {
   "cell_type": "code",
   "execution_count": null,
   "metadata": {},
   "outputs": [],
   "source": [
    "coords = np.array([[0, 0]])\n",
    "qubits = {f\"q{i}\": coord for (i, coord) in enumerate(coords)}\n",
    "\n",
    "reg = Register(qubits)\n",
    "seq = Sequence(reg, MockDevice)\n",
    "seq.declare_channel(\"MW\", \"mw_global\")"
   ]
  },
  {
   "cell_type": "markdown",
   "metadata": {},
   "source": [
    "We then add a simple constant rabi pulse of amplitude $2\\pi \\times 4.6$ MHz and run the simulation. The measurement is necessarily done in the `XY` basis."
   ]
  },
  {
   "cell_type": "code",
   "execution_count": null,
   "metadata": {},
   "outputs": [],
   "source": [
    "simple_pulse = Pulse.ConstantPulse(4000, 2 * np.pi * 4.6, 0, 0)\n",
    "seq.add(simple_pulse, \"MW\")\n",
    "seq.measure(basis=\"XY\")\n",
    "\n",
    "sim = QutipEmulator.from_sequence(seq)\n",
    "\n",
    "results = sim.run(progress_bar=True, nsteps=5000)"
   ]
  },
  {
   "cell_type": "markdown",
   "metadata": {},
   "source": [
    "We plot the expectation of the excitation of the atom over the time."
   ]
  },
  {
   "cell_type": "code",
   "execution_count": null,
   "metadata": {},
   "outputs": [],
   "source": [
    "def excitation(j, total_sites):\n",
    "    \"\"\"The |1><1| projector operator on site j.\"\"\"\n",
    "    prod = [qutip.qeye(2) for _ in range(total_sites)]\n",
    "    prod[j] = (qutip.qeye(2) - qutip.sigmaz()) / 2\n",
    "    return qutip.tensor(prod)\n",
    "\n",
    "\n",
    "excited = excitation(0, 1)\n",
    "plt.figure(figsize=[16, 6])\n",
    "results.plot(excited)\n",
    "plt.xlabel(\"Pulse duration (ns)\", fontsize=\"x-large\")\n",
    "plt.ylabel(\"Excitation of the atom\", fontsize=\"x-large\")\n",
    "plt.show()"
   ]
  },
  {
   "cell_type": "markdown",
   "metadata": {},
   "source": [
    "## Spin chain of 3 atoms"
   ]
  },
  {
   "cell_type": "markdown",
   "metadata": {},
   "source": [
    "We now simulate the free evolution of a spin chain of 3 atoms, starting with 1 excitation in the initial state $|100\\rangle$ as shown in the figure 3 (c) of the [reference](https://arxiv.org/pdf/1408.1055.pdf). "
   ]
  },
  {
   "cell_type": "code",
   "execution_count": null,
   "metadata": {},
   "outputs": [],
   "source": [
    "coords = np.array([[-8.0, 0], [0, 0], [8.0, 0]])\n",
    "qubits = {f\"q{i}\": coord for (i, coord) in enumerate(coords)}\n",
    "\n",
    "reg = Register(qubits)\n",
    "seq = Sequence(reg, MockDevice)\n",
    "seq.declare_channel(\"ch0\", \"mw_global\")\n",
    "reg.draw()\n",
    "\n",
    "# State preparation using SLM mask\n",
    "masked_qubits = [\"q1\", \"q2\"]\n",
    "seq.config_slm_mask(masked_qubits)\n",
    "masked_pulse = Pulse.ConstantDetuning(BlackmanWaveform(200, np.pi), 0, 0)\n",
    "seq.add(masked_pulse, \"ch0\")\n",
    "\n",
    "# Simulation pulse\n",
    "simple_pulse = Pulse.ConstantPulse(7000, 0, 0, 0)\n",
    "seq.add(simple_pulse, \"ch0\")\n",
    "seq.measure(basis=\"XY\")\n",
    "\n",
    "sim = QutipEmulator.from_sequence(seq, sampling_rate=1)\n",
    "results = sim.run(nsteps=5000)"
   ]
  },
  {
   "cell_type": "code",
   "execution_count": null,
   "metadata": {},
   "outputs": [],
   "source": [
    "excited_list = [excitation(j, 3) for j in range(3)]\n",
    "\n",
    "expectations = results.expect(excited_list)\n",
    "\n",
    "plt.figure(figsize=[16, 18])\n",
    "plt.subplot(311)\n",
    "plt.plot(expectations[0])\n",
    "plt.ylabel(\"Excitation of atom 0\", fontsize=\"x-large\")\n",
    "plt.xlabel(\"Time (ns)\", fontsize=\"x-large\")\n",
    "plt.subplot(312)\n",
    "plt.plot(expectations[1])\n",
    "plt.ylabel(\"Excitation of atom 1\", fontsize=\"x-large\")\n",
    "plt.xlabel(\"Time (ns)\", fontsize=\"x-large\")\n",
    "plt.ylim([0, 1])\n",
    "plt.subplot(313)\n",
    "plt.plot(expectations[2])\n",
    "plt.ylabel(\"Excitation of atom 2\", fontsize=\"x-large\")\n",
    "plt.xlabel(\"Time (ns)\", fontsize=\"x-large\")\n",
    "plt.show()"
   ]
  },
  {
   "cell_type": "markdown",
   "metadata": {},
   "source": [
    "## External field and angular dependency"
   ]
  },
  {
   "cell_type": "markdown",
   "metadata": {},
   "source": [
    "An external magnetic field can be added to the experiment, and will modify the hamiltonian. The XY Hamiltonian is then\n",
    "\n",
    "$$\n",
    "H_{XY} = \\sum_{i=1}^N\\sum_{j<i} \\frac{C_3[1 - 3\\text{cos}^2(\\theta_{ij})]}{R_{ij}^3}(\\sigma^+_i \\sigma^-_j + \\sigma^-_i \\sigma^+_j)\n",
    "$$\n",
    "\n",
    "where $\\theta_{ij}$ is the angle between the vector of the two atoms and the external field as shown on the figure below.\n",
    "\n",
    "<center>\n",
    "<img src=\"attachment:angular_dependency.png\" alt=\"Angular dependency\" width=\"300\">\n",
    "</center>\n",
    "\n",
    "We add an external field along the Y axis, and we put the qubit 2 at the angle such that $\\text{cos}^2(\\theta_{12}) = 1/3$, and the interaction between the qubits 1 and 2 cancels out. This is done by the method `set_magnetic_field`from the `Sequence`.\n",
    "\n",
    "This is the principle that enables to create [topological phases](https://science.sciencemag.org/content/365/6455/775) on long chain of atoms."
   ]
  },
  {
   "cell_type": "code",
   "execution_count": null,
   "metadata": {},
   "outputs": [],
   "source": [
    "coords = np.array([[-1.0, 0], [0, 0], [np.sqrt(2 / 3), np.sqrt(1 / 3)]]) * 8.0\n",
    "qubits = {f\"q{i}\": coord for (i, coord) in enumerate(coords)}\n",
    "\n",
    "reg = Register(qubits)\n",
    "seq = Sequence(reg, MockDevice)\n",
    "seq.declare_channel(\"ch0\", \"mw_global\")\n",
    "seq.set_magnetic_field(0.0, 1.0, 0)\n",
    "reg.draw()"
   ]
  },
  {
   "cell_type": "markdown",
   "metadata": {},
   "source": [
    "We then simulate again the free evolution from the initial state $|100\\rangle$. "
   ]
  },
  {
   "cell_type": "code",
   "execution_count": null,
   "metadata": {},
   "outputs": [],
   "source": [
    "# State preparation using SLM mask\n",
    "masked_qubits = [\"q1\", \"q2\"]\n",
    "seq.config_slm_mask(masked_qubits)\n",
    "masked_pulse = Pulse.ConstantDetuning(BlackmanWaveform(200, np.pi), 0, 0)\n",
    "seq.add(masked_pulse, \"ch0\")\n",
    "\n",
    "# Simulation pulse\n",
    "simple_pulse = Pulse.ConstantPulse(7000, 0, 0, 0)\n",
    "seq.add(simple_pulse, \"ch0\")\n",
    "seq.measure(basis=\"XY\")\n",
    "\n",
    "sim = QutipEmulator.from_sequence(seq, sampling_rate=1)\n",
    "results = sim.run(progress_bar=True, nsteps=5000)"
   ]
  },
  {
   "cell_type": "code",
   "execution_count": null,
   "metadata": {},
   "outputs": [],
   "source": [
    "excited_list = [excitation(j, 3) for j in range(3)]\n",
    "\n",
    "expectations = results.expect(excited_list)\n",
    "\n",
    "plt.figure(figsize=[16, 18])\n",
    "plt.subplot(311)\n",
    "plt.plot(expectations[0])\n",
    "plt.ylabel(\"Excitation of atom q0\", fontsize=\"x-large\")\n",
    "plt.xlabel(\"Time ($\\mu$s)\", fontsize=\"x-large\")\n",
    "plt.ylim([0, 1])\n",
    "plt.subplot(312)\n",
    "plt.plot(expectations[1])\n",
    "plt.ylabel(\"Excitation of atom q1\", fontsize=\"x-large\")\n",
    "plt.xlabel(\"Time ($\\mu$s)\", fontsize=\"x-large\")\n",
    "plt.ylim([0, 1])\n",
    "plt.subplot(313)\n",
    "plt.plot(expectations[2])\n",
    "plt.ylabel(\"Excitation of atom q2\", fontsize=\"x-large\")\n",
    "plt.xlabel(\"Time ($\\mu$s)\", fontsize=\"x-large\")\n",
    "plt.ylim([0, 1])\n",
    "plt.show()"
   ]
  },
  {
   "cell_type": "markdown",
   "metadata": {},
   "source": [
    "We can see there that there is almost no excitation in the qubit 2. It still remains some because the interaction between the qubits 0 and 2 is not completely negligible."
   ]
  }
 ],
 "metadata": {
  "kernelspec": {
   "display_name": "Python 3",
   "language": "python",
   "name": "python3"
  },
  "language_info": {
   "codemirror_mode": {
    "name": "ipython",
    "version": 3
   },
   "file_extension": ".py",
   "mimetype": "text/x-python",
   "name": "python",
   "nbconvert_exporter": "python",
   "pygments_lexer": "ipython3",
   "version": "3.8.5"
  }
 },
 "nbformat": 4,
 "nbformat_minor": 2
}
