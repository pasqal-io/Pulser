{
 "cells": [
  {
   "cell_type": "markdown",
   "metadata": {},
   "source": [
    "# Tutorial: Programming with Pulser"
   ]
  },
  {
   "cell_type": "markdown",
   "metadata": {},
   "source": [
    "This tutorial demonstrates how to use Pulser to program the evolution of a quantum system. In a first part, we excite one atom from its ground state to its excited state using a constant pulse. In a second part, we show how to prepare a quantum system of 9 atoms in an anti-ferromagnetic state using time-dependent pulses.\n",
    "\n",
    "This tutorial follows the step-py-step guide on how to create a quantum program using Pulser that is provided in the [programming page](docs/programming.md). For more information regarding the steps followed and the mathematical objects at stake, please refer to this page."
   ]
  },
  {
   "cell_type": "code",
   "execution_count": 1,
   "metadata": {},
   "outputs": [],
   "source": [
    "import numpy as np\n",
    "import pulser"
   ]
  },
  {
   "cell_type": "markdown",
   "metadata": {},
   "source": [
    "## Programming a constant Hamiltonian without interaction: Exciting one atom in the Rydberg state"
   ]
  },
  {
   "cell_type": "markdown",
   "metadata": {},
   "source": [
    "As presented in [\"Programming a neutral-atom QPU\"](../docs/source/programming.md), Pulser enables you to program [an Hamiltonian $H$](../docs/source/programming.md#2-hamiltonian-evolves-the-state) composed of an [interaction Hamiltonian](../docs/source/programming.md#22-interaction-hamiltonian) and a [drive Hamiltonian](../docs/source/programming.md#21-driving-hamiltonian).\n",
    "\n",
    "Let's program this Hamiltonian such that an atom initially in the ground state $\\left|g\\right>$ is measured in the rydberg state $\\left|r\\right>$ after a time $\\Delta t$.\n",
    "\n",
    "Since we are working with a single atom, there is no [interaction Hamiltonian](../docs/source/programming.md#22-interaction-hamiltonian). In this specific example, $H=H^D$. For a simple pulse having a duration $\\Delta t$, an amplitude constant along time $\\Omega$, detuning $\\delta=0$ and phase $\\phi=0$ [the Hamiltonian between $0$ and $\\Delta t$ is](../docs/source/programming.md#21-driving-hamiltonian):\n",
    "\n",
    "$$ H(t) = \\frac{\\Omega}{2} (|g\\rangle\\langle r| + |r\\rangle\\langle g|)$$\n",
    "\n",
    "<details>\n",
    "<summary>To find the atom in the Rydberg state at the end of the program, we choose Δt=1000ns and Ω=π rad/μs</summary>\n",
    "\n",
    "The initial state being the ground state and the Hamiltonian $H$ being constant along time, [the final state is](../docs/source/programming.md#2-hamiltonian-evolves-the-state):\n",
    "\n",
    "$$\n",
    "\\begin{align}\n",
    "\\left|\\Psi_f\\right> &= e^{-i H \\Delta t} \\left|g\\right> \\\\\n",
    "&= \\left(\\cos\\left(\\frac{\\Omega}{2} \\Delta t\\right)(|g\\rangle\\langle g| + |r\\rangle\\langle r|) - i \\sin\\left(\\frac{\\Omega}{2} \\Delta t\\right)(|g\\rangle\\langle r| + |r\\rangle\\langle g|)\\right)\\left|g\\right>\\\\\n",
    "&= \\cos\\left(\\frac{\\Omega}{2} \\Delta t\\right)\\left|g\\right> - i \\sin\\left(\\frac{\\Omega}{2} \\Delta t\\right)\\left|r\\right>\n",
    "\\end{align}\n",
    "$$\n",
    "\n",
    "The final state will be the Rydberg state $\\left|r\\right>$ if $\\frac{\\Omega}{2} \\Delta t = \\frac{\\pi}{2}$. From this condition, we choose $\\Delta t = 1000\\ ns$ and $\\Omega=\\pi\\ rad/\\mu s$.\n",
    "</details>"
   ]
  },
  {
   "cell_type": "markdown",
   "metadata": {},
   "source": [
    "### 1. Picking a `Device`"
   ]
  },
  {
   "cell_type": "markdown",
   "metadata": {},
   "source": [
    "We need a `Device` that will enable us to target the transition between the ground and the rydberg state. The `Device` `pulser.AnalogDevice` contains the `Rydberg.Global` channel, that targets the transition between these two states. Let's select this `Device` !\n",
    "\n",
    "We can check in the device specifications (accessed via `Device.specs`) that the `AnalogDevice` supports the ground-rydberg transition."
   ]
  },
  {
   "cell_type": "code",
   "execution_count": 2,
   "metadata": {},
   "outputs": [
    {
     "name": "stdout",
     "output_type": "stream",
     "text": [
      "\n",
      "Register parameters:\n",
      " - Dimensions: 2D\n",
      " - Rydberg level: 60\n",
      " - Maximum number of atoms: 25\n",
      " - Maximum distance from origin: 35 µm\n",
      " - Minimum distance between neighbouring atoms: 5 μm\n",
      " - SLM Mask: No\n",
      "\n",
      "Layout parameters:\n",
      " - Requires layout: Yes\n",
      " - Accepts new layout: No\n",
      " - Minimal number of traps: 1\n",
      " - Maximum layout filling fraction: 0.5\n",
      "\n",
      "Device parameters:\n",
      " - Maximum number of runs: 2000\n",
      " - Maximum sequence duration: 4000 ns\n",
      " - Channels can be reused: No\n",
      " - Supported bases: ground-rydberg\n",
      " - Supported states: r, g\n",
      " - Ising interaction coefficient: 865723.02\n",
      "\n",
      "Channels:\n",
      " - 'rydberg_global': Rydberg(addressing='Global', max_abs_detuning=125.66370614359172, max_amp=12.566370614359172, min_retarget_interval=None, fixed_retarget_t=None, max_targets=None, clock_period=4, min_duration=16, max_duration=100000000, min_avg_amp=0, mod_bandwidth=8, custom_phase_jump_time=None, eom_config=RydbergEOM(limiting_beam=<RydbergBeam.RED: 2>, max_limiting_amp=188.49555921538757, intermediate_detuning=2827.4333882308138, controlled_beams=(<RydbergBeam.BLUE: 1>,), mod_bandwidth=40, custom_buffer_time=240, multiple_beam_control=True, blue_shift_coeff=1.0, red_shift_coeff=1.0), propagation_dir=None)\n"
     ]
    }
   ],
   "source": [
    "device = pulser.AnalogDevice\n",
    "print(device.specs)"
   ]
  },
  {
   "cell_type": "markdown",
   "metadata": {},
   "source": [
    "### 2. Creating the `Register`"
   ]
  },
  {
   "cell_type": "markdown",
   "metadata": {},
   "source": [
    "We want to excite one atom. There will therefore be only one atom in the `Register`, whose position does not matter because it will not interact with another atom.\n",
    "\n",
    "Let's then create a `Register` containing one atom at the coordinate (0, 0)."
   ]
  },
  {
   "cell_type": "code",
   "execution_count": 3,
   "metadata": {},
   "outputs": [
    {
     "data": {
      "image/png": "[encoded data removed]",
      "text/plain": [
       "<Figure size 400x400 with 1 Axes>"
      ]
     },
     "metadata": {},
     "output_type": "display_data"
    }
   ],
   "source": [
    "register = pulser.Register.from_coordinates([(0, 0)], prefix=\"q\")\n",
    "register.draw()"
   ]
  },
  {
   "cell_type": "markdown",
   "metadata": {},
   "source": [
    "At this stage, we can initialize the `Sequence`, our quantum program. This will check that the created `Register` matches the parameters set by the `Device` we picked. "
   ]
  },
  {
   "cell_type": "code",
   "execution_count": 4,
   "metadata": {},
   "outputs": [],
   "source": [
    "sequence = pulser.Sequence(register, device)"
   ]
  },
  {
   "cell_type": "markdown",
   "metadata": {},
   "source": [
    "### 3. Picking the Channels"
   ]
  },
  {
   "cell_type": "markdown",
   "metadata": {},
   "source": [
    "The only channel we need to pick is a `Rydberg` channel to target the transition between $\\left|g\\right>$ and $\\left|r\\right>$. Since we only have one atom, the addressing does not matter, the `Rydberg.Global` channel will address the atom in the register. "
   ]
  },
  {
   "cell_type": "code",
   "execution_count": 5,
   "metadata": {},
   "outputs": [
    {
     "name": "stdout",
     "output_type": "stream",
     "text": [
      "The available channels were {'rydberg_global': Rydberg(addressing='Global', max_abs_detuning=125.66370614359172, max_amp=12.566370614359172, min_retarget_interval=None, fixed_retarget_t=None, max_targets=None, clock_period=4, min_duration=16, max_duration=100000000, min_avg_amp=0, mod_bandwidth=8, custom_phase_jump_time=None, eom_config=RydbergEOM(limiting_beam=<RydbergBeam.RED: 2>, max_limiting_amp=188.49555921538757, intermediate_detuning=2827.4333882308138, controlled_beams=(<RydbergBeam.BLUE: 1>,), mod_bandwidth=40, custom_buffer_time=240, multiple_beam_control=True, blue_shift_coeff=1.0, red_shift_coeff=1.0), propagation_dir=None)}\n",
      "The states used in the computation are ['r', 'g']\n"
     ]
    }
   ],
   "source": [
    "print(\"The available channels were\", sequence.available_channels)\n",
    "sequence.declare_channel(\"ch_0\", \"rydberg_global\")\n",
    "print(\n",
    "    \"The states used in the computation are\", sequence.get_addressed_states()\n",
    ")"
   ]
  },
  {
   "cell_type": "markdown",
   "metadata": {},
   "source": [
    "At this stage, the atom is initialized in the ground state $\\left|g\\right>$ and only two energy levels are used in the computation: the state of the system is described by a qubit."
   ]
  },
  {
   "cell_type": "markdown",
   "metadata": {},
   "source": [
    "### 4. Adding the pulses"
   ]
  },
  {
   "cell_type": "markdown",
   "metadata": {},
   "source": [
    "Let's now add the pulse of duration $\\Delta t = 1000\\ ns$, amplitude $\\Omega=\\pi\\ rad/\\mu s$, detuning $\\delta=0$ and phase $\\phi=0$ to the `Rydberg.Global` channel to modify the state of the atom and make it reach the state $\\left|r\\right>$."
   ]
  },
  {
   "cell_type": "code",
   "execution_count": 6,
   "metadata": {},
   "outputs": [
    {
     "data": {
      "image/png": "[encoded data removed]",
      "text/plain": [
       "<Figure size 2000x300 with 2 Axes>"
      ]
     },
     "metadata": {},
     "output_type": "display_data"
    }
   ],
   "source": [
    "pi_pulse = pulser.Pulse.ConstantPulse(1000, np.pi, 0, 0)\n",
    "sequence.add(pi_pulse, \"ch_0\")\n",
    "sequence.draw(mode=\"input\")"
   ]
  },
  {
   "cell_type": "markdown",
   "metadata": {},
   "source": [
    "### Executing the Pulse Sequence"
   ]
  },
  {
   "cell_type": "markdown",
   "metadata": {},
   "source": [
    "We are now done with our first Pulser program! We can now submit it to a backend for execution. Pulser provides multiple backends, notably the QPUs, but also a backend to simulate small quantum systems on your laptop based on **QuTip**. Let's use this `QutipBackend` to simulate the final state of the system: "
   ]
  },
  {
   "cell_type": "code",
   "execution_count": 7,
   "metadata": {},
   "outputs": [],
   "source": [
    "backend = pulser.backends.QutipBackend(sequence)\n",
    "result = backend.run()"
   ]
  },
  {
   "cell_type": "markdown",
   "metadata": {},
   "source": [
    "When running an experiment on a neutral-atom QPU, the output of the quantum program is the sampling of the final state. It is a dictionnary associating to each measured state the number of times it was measured."
   ]
  },
  {
   "cell_type": "code",
   "execution_count": 8,
   "metadata": {},
   "outputs": [
    {
     "data": {
      "text/plain": [
       "Counter({'1': 1000})"
      ]
     },
     "execution_count": 8,
     "metadata": {},
     "output_type": "execute_result"
    }
   ],
   "source": [
    "result.sample_final_state(1000)"
   ]
  },
  {
   "cell_type": "markdown",
   "metadata": {},
   "source": [
    "When measuring in the ground-rydberg basis, [the ground state is labelled \"0\" and the rydberg state \"1\"](../docs/source/conventions.md#state-preparation-and-measurement). For each of the 1000 measurements we did, the atom was measured in the Rydberg state, which means we designed our quantum program correctly !"
   ]
  }
 ],
 "metadata": {
  "kernelspec": {
   "display_name": "pulserenv",
   "language": "python",
   "name": "python3"
  },
  "language_info": {
   "codemirror_mode": {
    "name": "ipython",
    "version": 3
   },
   "file_extension": ".py",
   "mimetype": "text/x-python",
   "name": "python",
   "nbconvert_exporter": "python",
   "pygments_lexer": "ipython3",
   "version": "3.12.3"
  }
 },
 "nbformat": 4,
 "nbformat_minor": 4
}
