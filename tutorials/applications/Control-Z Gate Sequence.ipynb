{
 "cells": [
  {
   "cell_type": "markdown",
   "metadata": {},
   "source": [
    "# Control-Z Gate Sequence"
   ]
  },
  {
   "cell_type": "markdown",
   "metadata": {},
   "source": [
    "## Introduction\n",
    "\n",
    "In this tutorial we show how to prepare the pulse sequence that generates a *Controlled - Z* gate. We will prepare our state with atoms in any of the \"digital\" states that we shall call $|g\\rangle$ and $|h \\rangle$ ( for \"ground\" and \"hyperfine\", respectively). Then we will use the *Rydberg blockade* effect to create the logic gate. The levels that each atom can take are the following: \n",
    "\n",
    "<center>\n",
    "<img src=\"../../docs/source/files/three_states.png\" alt=\"Three-state Configuration\" width=\"120\">\n",
    "</center>"
   ]
  },
  {
   "cell_type": "markdown",
   "metadata": {},
   "source": [
    "We will be using *NumPy* and *Matplotlib* for calculations and plots. Many additional details about the CZ gate construction can be found in [1111.6083v2](https://arxiv.org/abs/1111.6083)"
   ]
  },
  {
   "cell_type": "code",
   "execution_count": null,
   "metadata": {},
   "outputs": [],
   "source": [
    "import numpy as np\n",
    "import matplotlib.pyplot as plt\n",
    "import qutip\n",
    "from itertools import product"
   ]
  },
  {
   "cell_type": "markdown",
   "metadata": {},
   "source": [
    "We import the following Classes from Pulser:"
   ]
  },
  {
   "cell_type": "code",
   "execution_count": null,
   "metadata": {},
   "outputs": [],
   "source": [
    "from pulser import Pulse, Sequence, Register\n",
    "from pulser.devices import Chadoq2\n",
    "from pulser.simulation import Simulation\n",
    "from pulser.waveforms import BlackmanWaveform,ConstantWaveform"
   ]
  },
  {
   "cell_type": "markdown",
   "metadata": {},
   "source": [
    "## 1. Loading the Register on a Device"
   ]
  },
  {
   "cell_type": "markdown",
   "metadata": {},
   "source": [
    "Defining an atom register can simply be done by choosing one of the predetermined shapes included in the `Register`class. We can also construct a dictionary with specific labels for each atom. The atoms must lie inside the *Rydberg blockade radius* $R_b$, which we will characterize by \n",
    "\n",
    "$$\\hbar \\Omega^{\\text{Max}}_{\\text{Rabi}} \\sim U_{ij} = \\frac{C_6}{R_{b}^6},$$\n",
    "\n",
    "where the coefficient $C_6$ determines the strength of the interaction ($C_6/\\hbar \\approx 5008$ GHz.$\\mu m^6$). We can obtain the corresponding Rydberg blockade radius from a given $\\Omega_{\\text{Rabi}}^{\\text{max}}$ using the `rydberg_blockade_radius()` method from `Chadoq2`. For the pulses in this tutorial, $\\Omega^{\\text{Max}}_{\\text{Rabi}}$ is below $2\\pi \\times 10$ Mhz so:"
   ]
  },
  {
   "cell_type": "code",
   "execution_count": null,
   "metadata": {},
   "outputs": [],
   "source": [
    "Rabi = np.linspace(1, 10, 10)\n",
    "R_blockade = [Chadoq2.rydberg_blockade_radius(2.*np.pi*rabi) for rabi in Rabi]\n",
    "\n",
    "plt.figure()\n",
    "plt.plot(Rabi, R_blockade,'--o')\n",
    "plt.xlabel(r\"$\\Omega/(2\\pi)$ [MHz]\", fontsize=14)\n",
    "plt.ylabel(r\"$R_b$ [$\\mu\\.m$]\", fontsize=14)\n",
    "plt.show()"
   ]
  },
  {
   "cell_type": "markdown",
   "metadata": {},
   "source": [
    "Thus, we place our atoms at relative distances below $5$ µm, therefore ensuring we are inside the Rydberg blockade volume."
   ]
  },
  {
   "cell_type": "code",
   "execution_count": null,
   "metadata": {},
   "outputs": [],
   "source": [
    "# Atom Register and Device\n",
    "q_dict = {\"control\":np.array([-2,0.]),\n",
    "          \"target\": np.array([2,0.]),\n",
    "          }\n",
    "reg = Register(q_dict)\n",
    "reg.draw()"
   ]
  },
  {
   "cell_type": "markdown",
   "metadata": {},
   "source": [
    "## 2. State Preparation"
   ]
  },
  {
   "cell_type": "markdown",
   "metadata": {},
   "source": [
    "The first part of our sequence will correspond to preparing the different states on which the CZ gate will act. For this, we define the following `Pulse` instances that correspond to $\\pi$ and $2\\pi$ pulses (notice that the area can be easily fixed using the predefined `BlackmanWaveform`):"
   ]
  },
  {
   "cell_type": "markdown",
   "metadata": {},
   "source": [
    "Let us construct a function that takes the label string (or \"id\") of a state and turns it into a ket state. This ket can be in any of the \"digital\" (ground-hyperfine levels), \"ground-rydberg\" or \"all\" levels. We also include a three-atom system case, which will be useful in the CCZ gate in the last section."
   ]
  },
  {
   "cell_type": "code",
   "execution_count": null,
   "metadata": {},
   "outputs": [],
   "source": [
    "def build_state_from_id(s_id, basis_name):\n",
    "    if len(s_id) not in {2,3}:\n",
    "        raise ValueError(\"Not a valid state ID string\")\n",
    "        \n",
    "    ids = {'digital': 'gh', 'ground-rydberg': 'rg', 'all': 'rgh'}\n",
    "    if basis_name not in ids:\n",
    "        raise ValueError('Not a valid basis')\n",
    "        \n",
    "    pool = {''.join(x) for x in product(ids[basis_name], repeat=len(s_id))}\n",
    "    if s_id not in pool:\n",
    "        raise ValueError('Not a valid state id for the given basis.')\n",
    "\n",
    "    ket = {op: qutip.basis(len(ids[basis_name]), i) \n",
    "           for i, op in enumerate(ids[basis_name])}\n",
    "    if len(s_id) == 3:\n",
    "        #Recall that s_id = 'C1'+'C2'+'T' while in the register reg_id = 'C1'+'T'+'C2'.\n",
    "        reg_id = s_id[0]+s_id[2]+s_id[1] \n",
    "        return qutip.tensor([ket[x] for x in reg_id])\n",
    "    else:\n",
    "        return qutip.tensor([ket[x] for x in s_id])"
   ]
  },
  {
   "cell_type": "markdown",
   "metadata": {},
   "source": [
    "We try this out:"
   ]
  },
  {
   "cell_type": "code",
   "execution_count": null,
   "metadata": {},
   "outputs": [],
   "source": [
    "build_state_from_id('hg','digital')"
   ]
  },
  {
   "cell_type": "markdown",
   "metadata": {},
   "source": [
    "Let's now write the state preparation sequence. We will also create the prepared state to be able to calculate its overlap during the simulation. First, let us define a π-pulse along the Y axis that will excite the atoms to the hyperfine state if requested:"
   ]
  },
  {
   "cell_type": "code",
   "execution_count": null,
   "metadata": {},
   "outputs": [],
   "source": [
    "duration = 300 \n",
    "pi_Y = Pulse.ConstantDetuning(BlackmanWaveform(duration, np.pi), 0., -np.pi/2)\n",
    "pi_Y.draw()"
   ]
  },
  {
   "cell_type": "markdown",
   "metadata": {},
   "source": [
    "The sequence preparation itself acts with the Raman channel if the desired initial state has atoms in the hyperfine level. We have also expanded it for the case of a CCZ in order to use it below:"
   ]
  },
  {
   "cell_type": "code",
   "execution_count": null,
   "metadata": {},
   "outputs": [],
   "source": [
    "def preparation_sequence(state_id, reg):\n",
    "    global seq\n",
    "    \n",
    "    if not set(state_id) <= {'g','h'} or len(state_id) != len(reg.qubits):\n",
    "        raise ValueError('Not a valid state ID')\n",
    "\n",
    "    if len(reg.qubits) == 2:\n",
    "        seq_dict = {'1':'target', '0':'control'}\n",
    "    elif len(reg.qubits) == 3:\n",
    "        seq_dict = {'2':'target', '1':'control2', '0':'control1'}\n",
    "\n",
    "    seq = Sequence(reg, Chadoq2)\n",
    "    if set(state_id) == {'g'}:\n",
    "        basis = 'ground-rydberg'\n",
    "        print(f'Warning: {state_id} state does not require a preparation sequence.')\n",
    "    else:\n",
    "        basis = 'all'\n",
    "        for k in range(len(reg.qubits)):\n",
    "            if state_id[k] == 'h':\n",
    "                if 'raman' not in seq.declared_channels:\n",
    "                    seq.declare_channel('raman','raman_local', seq_dict[str(k)])\n",
    "                else:\n",
    "                    seq.target(seq_dict[str(k)],'raman')\n",
    "                seq.add(pi_Y,'raman')\n",
    "\n",
    "    prep_state = build_state_from_id(state_id, basis)  # Raises error if not a valid `state_id` for the register\n",
    "    \n",
    "    return prep_state"
   ]
  },
  {
   "cell_type": "markdown",
   "metadata": {},
   "source": [
    "Let's test this sequence. Notice that the state \"gg\" (both atoms in the ground state) is automatically fed to the Register so a pulse sequence is not needed to prepare it."
   ]
  },
  {
   "cell_type": "code",
   "execution_count": null,
   "metadata": {},
   "outputs": [],
   "source": [
    "# Define sequence and Set channels\n",
    "prep_state = preparation_sequence('hh', reg)\n",
    "seq.draw(draw_phase_area=True)"
   ]
  },
  {
   "cell_type": "markdown",
   "metadata": {},
   "source": [
    "## 3. Constructing the Gate Sequence"
   ]
  },
  {
   "cell_type": "markdown",
   "metadata": {},
   "source": [
    "We apply the common $\\pi-2\\pi-\\pi$ sequence for the CZ gate "
   ]
  },
  {
   "cell_type": "code",
   "execution_count": null,
   "metadata": {},
   "outputs": [],
   "source": [
    "pi_pulse = Pulse.ConstantDetuning(BlackmanWaveform(duration, np.pi), 0., 0)\n",
    "twopi_pulse = Pulse.ConstantDetuning(BlackmanWaveform(duration, 2*np.pi), 0., 0)"
   ]
  },
  {
   "cell_type": "code",
   "execution_count": null,
   "metadata": {},
   "outputs": [],
   "source": [
    "def CZ_sequence(initial_id):\n",
    "    \n",
    "    # Prepare State\n",
    "    prep_state = preparation_sequence(initial_id, reg) \n",
    "    prep_time = max((seq._last(ch).tf for ch in seq.declared_channels), default=0)\n",
    "    \n",
    "    # Declare Rydberg channel\n",
    "    seq.declare_channel('ryd', 'rydberg_local', 'control')\n",
    "    \n",
    "    # Write CZ sequence:\n",
    "    seq.add(pi_pulse, 'ryd', 'wait-for-all')  # Wait for state preparation to finish.\n",
    "    seq.target('target', 'ryd')    # Changes to target qubit\n",
    "    seq.add(twopi_pulse, 'ryd')\n",
    "    seq.target('control', 'ryd')     # Changes back to control qubit\n",
    "    seq.add(pi_pulse, 'ryd') \n",
    "    \n",
    "    return prep_state, prep_time"
   ]
  },
  {
   "cell_type": "code",
   "execution_count": null,
   "metadata": {},
   "outputs": [],
   "source": [
    "prep_state, prep_time = CZ_sequence('gh') # constructs seq, prep_state and prep_time\n",
    "seq.draw(draw_phase_area=True)\n",
    "print(f'Prepared state: {prep_state}')\n",
    "print(f'Preparation time: {prep_time}ns')"
   ]
  },
  {
   "cell_type": "markdown",
   "metadata": {},
   "source": [
    "## 4. Simulating the CZ sequence"
   ]
  },
  {
   "cell_type": "code",
   "execution_count": null,
   "metadata": {},
   "outputs": [],
   "source": [
    "CZ = {}\n",
    "for state_id in {'gg','hg','gh','hh'}:\n",
    "    # Get CZ sequence\n",
    "    prep_state, prep_time = CZ_sequence(state_id) # constructs seq, prep_state and prep_time\n",
    "    \n",
    "    # Construct Simulation instance\n",
    "    simul = Simulation(seq)\n",
    "    res = simul.run()\n",
    "    \n",
    "    data=[st.overlap(prep_state) for st in res.states]\n",
    "    \n",
    "    final_st = res.states[-1]\n",
    "    CZ[state_id] = final_st.overlap(prep_state)\n",
    "    \n",
    "    plt.figure()\n",
    "    plt.plot(np.real(data))\n",
    "    plt.xlabel(r\"Time [ns]\")\n",
    "    plt.ylabel(fr'$ \\langle\\,{state_id} |\\, \\psi(t)\\rangle$')\n",
    "    plt.axvspan(0, prep_time, alpha=0.06, color='royalblue')\n",
    "    plt.title(fr\"Action of gate on state $|${state_id}$\\rangle$\")"
   ]
  },
  {
   "cell_type": "code",
   "execution_count": null,
   "metadata": {},
   "outputs": [],
   "source": [
    "CZ"
   ]
  },
  {
   "cell_type": "markdown",
   "metadata": {},
   "source": [
    "##  5. CCZ Gate"
   ]
  },
  {
   "cell_type": "markdown",
   "metadata": {},
   "source": [
    "The same principle can be applied for composite gates. As an application, let us construct the *CCZ* gate, which determines the phase depending on the level of *two* control atoms. We begin by reconstructing the Register:"
   ]
  },
  {
   "cell_type": "code",
   "execution_count": null,
   "metadata": {},
   "outputs": [],
   "source": [
    "# Atom Register and Device\n",
    "q_dict = {\"control1\":np.array([-2.0, 0.]),\n",
    "              \"target\": np.array([0., 2*np.sqrt(3.001)]),\n",
    "              \"control2\": np.array([2.0, 0.])}\n",
    "reg = Register(q_dict)\n",
    "reg.draw()"
   ]
  },
  {
   "cell_type": "code",
   "execution_count": null,
   "metadata": {},
   "outputs": [],
   "source": [
    "preparation_sequence('hhh', reg)\n",
    "seq.draw(draw_phase_area=True)"
   ]
  },
  {
   "cell_type": "code",
   "execution_count": null,
   "metadata": {},
   "outputs": [],
   "source": [
    "def CCZ_sequence(initial_id):\n",
    "    # Prepare State\n",
    "    prep_state = preparation_sequence(initial_id, reg)\n",
    "    prep_time = max((seq._last(ch).tf for ch in seq.declared_channels), default=0)\n",
    "    \n",
    "    # Declare Rydberg channel\n",
    "    seq.declare_channel('ryd', 'rydberg_local', 'control1')\n",
    "    \n",
    "    # Write CCZ sequence:\n",
    "    seq.add(pi_pulse, 'ryd', protocol='wait-for-all')  # Wait for state preparation to finish.\n",
    "    seq.target('control2', 'ryd')\n",
    "    seq.add(pi_pulse, 'ryd')\n",
    "    seq.target('target','ryd')\n",
    "    seq.add(twopi_pulse, 'ryd')\n",
    "    seq.target('control2','ryd')\n",
    "    seq.add(pi_pulse, 'ryd')\n",
    "    seq.target('control1','ryd')\n",
    "    seq.add(pi_pulse,'ryd')\n",
    "    \n",
    "    return prep_state, prep_time"
   ]
  },
  {
   "cell_type": "code",
   "execution_count": null,
   "metadata": {},
   "outputs": [],
   "source": [
    "CCZ_sequence('hhh')\n",
    "seq.draw(draw_phase_area=True)"
   ]
  },
  {
   "cell_type": "code",
   "execution_count": null,
   "metadata": {
    "scrolled": true
   },
   "outputs": [],
   "source": [
    "CCZ = {}\n",
    "for state_id in {''.join(x) for x in product('gh', repeat=3)}:\n",
    "    # Get CCZ sequence\n",
    "    prep_state, prep_time = CCZ_sequence(state_id)\n",
    "    \n",
    "    # Construct Simulation instance\n",
    "    simul = Simulation(seq)\n",
    "    \n",
    "    res = simul.run()\n",
    "    \n",
    "    data=[st.overlap(prep_state) for st in res.states]\n",
    "    final_st = res.states[-1]\n",
    "    CCZ[state_id] = final_st.overlap(prep_state)\n",
    "    \n",
    "    plt.figure()\n",
    "    plt.plot(np.real(data))\n",
    "    plt.xlabel(r\"Time [ns]\")\n",
    "    plt.ylabel(fr'$ \\langle\\,{state_id} | \\psi(t)\\rangle$')\n",
    "    plt.axvspan(0, prep_time, alpha=0.06, color='royalblue')\n",
    "    plt.title(fr\"Action of gate on state $|${state_id}$\\rangle$\")"
   ]
  },
  {
   "cell_type": "code",
   "execution_count": null,
   "metadata": {},
   "outputs": [],
   "source": [
    "CCZ"
   ]
  },
  {
   "cell_type": "markdown",
   "metadata": {},
   "source": [
    "Our results are as expected: only the $|hhh\\rangle$ state (which corresponds to a $111$ digital state) gets its phase flipped in sign"
   ]
  }
 ],
 "metadata": {
  "kernelspec": {
   "display_name": "Python 3",
   "language": "python",
   "name": "python3"
  },
  "language_info": {
   "codemirror_mode": {
    "name": "ipython",
    "version": 3
   },
   "file_extension": ".py",
   "mimetype": "text/x-python",
   "name": "python",
   "nbconvert_exporter": "python",
   "pygments_lexer": "ipython3",
   "version": "3.7.3"
  }
 },
 "nbformat": 4,
 "nbformat_minor": 4
}
