{
 "cells": [
  {
   "cell_type": "markdown",
   "metadata": {},
   "source": [
    "# QAOA for the UD-MIS problem: Using a Parametrized Sequence"
   ]
  },
  {
   "cell_type": "code",
   "execution_count": 1,
   "metadata": {},
   "outputs": [],
   "source": [
    "import numpy as np\n",
    "import igraph\n",
    "\n",
    "import matplotlib.pyplot as plt\n",
    "from itertools import combinations\n",
    "from collections import Counter\n",
    "\n",
    "from pulser import Pulse, Sequence, Register\n",
    "from pulser.simulation import Simulation\n",
    "from pulser.devices import Chadoq2\n",
    "from pulser.waveforms import CustomWaveform\n",
    "\n",
    "from scipy.optimize import minimize"
   ]
  },
  {
   "cell_type": "markdown",
   "metadata": {},
   "source": [
    "## 1. Introduction\n",
    "\n",
    "**Parametrized** Sequences are useful when we want to construct several `Sequence` instances while changing some of their defining parameters (for example the amplitude, the detuning or the duration of the pulses). \n",
    "\n",
    "This tutorial is based on the \"Using QAOA to solve a MIS problem\" tutorial. The construction process is not too different from the usual `Sequence` design, but it applies the parametrization of the sequences with a set of time variables, and then proceeds to build the actual sequences with each desired value."
   ]
  },
  {
   "cell_type": "markdown",
   "metadata": {},
   "source": [
    "## 2. Register and Graph"
   ]
  },
  {
   "cell_type": "markdown",
   "metadata": {},
   "source": [
    "We use a parametrized Sequence for the QAOA solution of the MIS problem of the tutorials. We restrict the number of atoms to 5, just to show a proof-of-concept.\n",
    "\n",
    "A link in the graph corresponds to two atoms that are within the Rydberg Blockade Radius of each other. The radius is obtained using `Chadoq2.rydberg_blockade_radius()`. In this notebook, $\\Omega$ is fixed to a frequency of 1 rad/µs."
   ]
  },
  {
   "cell_type": "code",
   "execution_count": 2,
   "metadata": {},
   "outputs": [],
   "source": [
    "Rb = Chadoq2.rydberg_blockade_radius(1.*2*np.pi)"
   ]
  },
  {
   "cell_type": "code",
   "execution_count": 3,
   "metadata": {},
   "outputs": [],
   "source": [
    "def make_graph(coords):\n",
    "    N = len(coords)\n",
    "    g = igraph.Graph()\n",
    "    edges = [[m,n] for m,n in combinations(range(N), r=2) \n",
    "              if np.linalg.norm(coords[m] - coords[n]) < Rb]    \n",
    "    g.add_vertices(N)\n",
    "    g.add_edges(edges)\n",
    "    return g"
   ]
  },
  {
   "cell_type": "markdown",
   "metadata": {},
   "source": [
    "Here, we create an atomic register with 5 atoms and the corresponding graph."
   ]
  },
  {
   "cell_type": "code",
   "execution_count": 4,
   "metadata": {},
   "outputs": [
    {
     "data": {
      "image/png": "[encoded data removed]",
      "text/plain": [
       "<Figure size 252x234 with 1 Axes>"
      ]
     },
     "metadata": {
      "needs_background": "light"
     },
     "output_type": "display_data"
    }
   ],
   "source": [
    "coords = np.array([(0., 0.), (-4, -8), (4, -8), (7, 5), (-7, 5)])\n",
    "G = make_graph(coords)\n",
    "reg = Register.from_coordinates(coords)\n",
    "reg.draw(blockade_radius=Rb, draw_graph=True, draw_half_radius=True)"
   ]
  },
  {
   "cell_type": "markdown",
   "metadata": {},
   "source": [
    "This graph has two maximal independent sets: $(1,3,4)$ and $(2,3,4)$, respectively `010111` and `00111` in binary. "
   ]
  },
  {
   "cell_type": "markdown",
   "metadata": {},
   "source": [
    "## 2. Build parametrized sequences"
   ]
  },
  {
   "cell_type": "code",
   "execution_count": 5,
   "metadata": {},
   "outputs": [],
   "source": [
    "layers = 2\n",
    "guess = {'t': np.random.uniform(8, 10, layers),\n",
    "         's': np.random.uniform(1, 3, layers)}"
   ]
  },
  {
   "cell_type": "code",
   "execution_count": 6,
   "metadata": {
    "scrolled": true
   },
   "outputs": [
    {
     "data": {
      "text/plain": [
       "{'t': array([8.69005125, 9.81977019]), 's': array([1.37372178, 1.55053409])}"
      ]
     },
     "execution_count": 6,
     "metadata": {},
     "output_type": "execute_result"
    }
   ],
   "source": [
    "guess"
   ]
  },
  {
   "cell_type": "markdown",
   "metadata": {},
   "source": [
    "Notice next how we construct the sequences with parametrized variables. This is done using the. `.declare_variable()` method. We will need two time values for each layer of the QAOA sequence (the \"Mixer\" and \"Cost\" parts), so we store these variables in two lists. Next, we construct the sequence as usual, where the methods are stored until the actual building takes place."
   ]
  },
  {
   "cell_type": "code",
   "execution_count": 7,
   "metadata": {},
   "outputs": [],
   "source": [
    "# Parametrized sequence\n",
    "seq = Sequence(reg, Chadoq2)\n",
    "seq.declare_channel('ch0','rydberg_global')\n",
    "\n",
    "t_list = seq.declare_variable('t_list', size=layers)\n",
    "s_list = seq.declare_variable('s_list', size=layers)\n",
    "\n",
    "if layers == 1:\n",
    "    t_list = [t_list]\n",
    "    s_list = [s_list]\n",
    "    \n",
    "for t, s in zip(t_list, s_list): \n",
    "    pulse_1 = Pulse.ConstantPulse(1000*t, 1., 0., 0) \n",
    "    pulse_2 = Pulse.ConstantPulse(1000*s, 1., 1., 0)\n",
    "\n",
    "    seq.add(pulse_1, 'ch0')\n",
    "    seq.add(pulse_2, 'ch0')"
   ]
  },
  {
   "cell_type": "markdown",
   "metadata": {},
   "source": [
    "Once we have the parameters that we want to apply, we use the `.build()` method to assign these values into a `assigned_sequence` sequence. It is this sequence which is simulated every time the quantum loop is called:"
   ]
  },
  {
   "cell_type": "code",
   "execution_count": 8,
   "metadata": {},
   "outputs": [],
   "source": [
    "def quantum_loop(parameters):\n",
    "    t_params, s_params = np.reshape(parameters, (2, layers))\n",
    "    assigned_sequence = seq.build(t_list=t_params, s_list=s_params)\n",
    "    assigned_sequence.measure('ground-rydberg')\n",
    "    \n",
    "    simul = Simulation(assigned_sequence, sampling_rate=.01)\n",
    "    results = simul.run()\n",
    "    return results.sample_final_state()"
   ]
  },
  {
   "cell_type": "code",
   "execution_count": 9,
   "metadata": {},
   "outputs": [
    {
     "name": "stderr",
     "output_type": "stream",
     "text": [
      "/Users/hsilver/Documents/Pasqal_Code/Pulser/pulser/utils.py:68: UserWarning: The given duration is below the machine's precision of 4 ns time steps. It was rounded down to the nearest multiple of 4 ns.\n",
      "  warnings.warn(\"The given duration is below the machine's precision\"\n"
     ]
    }
   ],
   "source": [
    "example_dict = quantum_loop(np.r_[guess['t'], guess['s']])"
   ]
  },
  {
   "cell_type": "markdown",
   "metadata": {},
   "source": [
    "We can then plot the distribution of the samples, to see the most frequent bitstrings sampled."
   ]
  },
  {
   "cell_type": "code",
   "execution_count": 10,
   "metadata": {},
   "outputs": [],
   "source": [
    "def plot_distribution(results):\n",
    "    C = dict(Counter(results).most_common())\n",
    "    indexes = ['01011', '00111']  # MIS indexes\n",
    "    color_dict = {key:'coral' if key in indexes else 'royalblue' for key in C}\n",
    "    \n",
    "    plt.figure(figsize=(12,6))\n",
    "    plt.xlabel(\"bitstrings\")\n",
    "    plt.ylabel(\"counts\")\n",
    "    plt.bar(C.keys(), C.values(), width=0.5, color = color_dict.values())\n",
    "    plt.xticks(rotation='vertical')"
   ]
  },
  {
   "cell_type": "code",
   "execution_count": 11,
   "metadata": {},
   "outputs": [
    {
     "data": {
      "image/png": "[encoded data removed]",
      "text/plain": [
       "<Figure size 864x432 with 1 Axes>"
      ]
     },
     "metadata": {
      "needs_background": "light"
     },
     "output_type": "display_data"
    }
   ],
   "source": [
    "plot_distribution(example_dict);"
   ]
  },
  {
   "cell_type": "markdown",
   "metadata": {},
   "source": [
    "## 3. Optimization "
   ]
  },
  {
   "cell_type": "markdown",
   "metadata": {},
   "source": [
    "The rest of the optimization takes place just like in the related tutorial:"
   ]
  },
  {
   "cell_type": "code",
   "execution_count": 12,
   "metadata": {},
   "outputs": [],
   "source": [
    "def get_cost_colouring(bitstring, G, penalty=10):\n",
    "    z = np.array(list(bitstring), dtype=int)\n",
    "    A = np.array(G.get_adjacency().data)\n",
    "    # Add penalty and bias:\n",
    "    cost = penalty*(z.T @ np.triu(A) @ z) - np.sum(z)\n",
    "    return cost \n",
    "\n",
    "def get_cost(res,G):\n",
    "    counter = dict(res)\n",
    "    cost = sum(counter[key] * get_cost_colouring(key,G) for key in counter) \n",
    "    return cost / sum(counter.values()) # Divide by total samples"
   ]
  },
  {
   "cell_type": "code",
   "execution_count": 13,
   "metadata": {},
   "outputs": [],
   "source": [
    "def func(param,*args):\n",
    "    G = args[0]\n",
    "    C = quantum_loop(param)\n",
    "    cost = get_cost(C,G)\n",
    "    return cost"
   ]
  },
  {
   "cell_type": "code",
   "execution_count": 14,
   "metadata": {},
   "outputs": [],
   "source": [
    "res = minimize(func, \n",
    "               args=G,\n",
    "               x0=np.r_[guess['t'], guess['s']],\n",
    "               method='Nelder-Mead',\n",
    "               tol=1e-5,\n",
    "               options = {'maxiter': 60}\n",
    "              )"
   ]
  },
  {
   "cell_type": "markdown",
   "metadata": {},
   "source": [
    "We can now plot the sample that we woud obtain using the variational parameters `res.x`. Each time the Quantum Loop is called, a new instance of a Sequence is built and simulated:"
   ]
  },
  {
   "cell_type": "code",
   "execution_count": 15,
   "metadata": {},
   "outputs": [
    {
     "data": {
      "image/png": "[encoded data removed]",
      "text/plain": [
       "<Figure size 864x432 with 1 Axes>"
      ]
     },
     "metadata": {
      "needs_background": "light"
     },
     "output_type": "display_data"
    }
   ],
   "source": [
    "count_dict = quantum_loop(res.x)\n",
    "plot_distribution(count_dict)"
   ]
  }
 ],
 "metadata": {
  "kernelspec": {
   "display_name": "pulser-dev",
   "language": "python",
   "name": "pulser-dev"
  },
  "language_info": {
   "codemirror_mode": {
    "name": "ipython",
    "version": 3
   },
   "file_extension": ".py",
   "mimetype": "text/x-python",
   "name": "python",
   "nbconvert_exporter": "python",
   "pygments_lexer": "ipython3",
   "version": "3.8.5"
  }
 },
 "nbformat": 4,
 "nbformat_minor": 2
}
