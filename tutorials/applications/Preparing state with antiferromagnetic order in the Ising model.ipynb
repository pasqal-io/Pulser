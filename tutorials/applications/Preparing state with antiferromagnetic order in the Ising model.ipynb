{
 "cells": [
  {
   "cell_type": "markdown",
   "metadata": {},
   "source": [
    "# Preparing a state with antiferromagnetic order in the Ising model\n",
    "\n",
    "This notebook illustrates how to use Pulser to build a sequence for studying an antiferromagnetic state in an Ising-like model. It is based on [10.1103/PhysRevX.8.021070](https://journals.aps.org/prx/abstract/10.1103/PhysRevX.8.021070), where arrays of Rydberg atoms were programmed and whose correlations were studied.\n",
    "\n",
    "We begin by importing some basic modules:"
   ]
  },
  {
   "cell_type": "code",
   "execution_count": null,
   "metadata": {},
   "outputs": [],
   "source": [
    "import numpy as np\n",
    "import matplotlib.pyplot as plt\n",
    "import qutip\n",
    "\n",
    "from pulser import Pulse, Sequence, Register\n",
    "from pulser.simulation import Simulation\n",
    "from pulser.waveforms import RampWaveform\n",
    "from pulser.devices import Chadoq2"
   ]
  },
  {
   "cell_type": "markdown",
   "metadata": {},
   "source": [
    "## Waveforms \n",
    "\n",
    "We are realizing the following program\n",
    "\n",
    "<center>\n",
    "<img src=\"../../docs/source/files/AF_Ising_program.png\" alt=\"AF Pulse Sequence\" width=\"300\">\n",
    "</center>"
   ]
  },
  {
   "cell_type": "markdown",
   "metadata": {},
   "source": [
    "The pulse and the register are defined by the following parameters:"
   ]
  },
  {
   "cell_type": "code",
   "execution_count": null,
   "metadata": {},
   "outputs": [],
   "source": [
    "# Parameters in rad/µs and ns\n",
    "Omega_max = 2.3 * 2*np.pi \n",
    "U = Omega_max / 2.3\n",
    "\n",
    "delta_0 = -6 * U\n",
    "delta_f = 2 * U\n",
    "\n",
    "t_rise = 252\n",
    "t_fall = 500\n",
    "t_sweep = (delta_f - delta_0)/(2 * np.pi * 10) * 1000\n",
    "\n",
    "R_interatomic = Chadoq2.rydberg_blockade_radius(U)\n",
    "\n",
    "N_side = 3\n",
    "reg = Register.square(N_side, R_interatomic, prefix='q')\n",
    "print(f'Interatomic Radius is: {R_interatomic}µm.')\n",
    "reg.draw()"
   ]
  },
  {
   "cell_type": "markdown",
   "metadata": {},
   "source": [
    "## Creating my sequence"
   ]
  },
  {
   "cell_type": "markdown",
   "metadata": {},
   "source": [
    "We compose our pulse with the following objects from Pulser:"
   ]
  },
  {
   "cell_type": "code",
   "execution_count": null,
   "metadata": {},
   "outputs": [],
   "source": [
    "rise = Pulse.ConstantDetuning(RampWaveform(t_rise, 0., Omega_max), delta_0, 0.)\n",
    "sweep = Pulse.ConstantAmplitude(Omega_max, RampWaveform(t_sweep, delta_0, delta_f), 0.)\n",
    "fall = Pulse.ConstantDetuning(RampWaveform(t_fall, Omega_max, 0.), delta_f, 0.)"
   ]
  },
  {
   "cell_type": "code",
   "execution_count": null,
   "metadata": {},
   "outputs": [],
   "source": [
    "seq = Sequence(reg, Chadoq2)\n",
    "seq.declare_channel('ising', 'rydberg_global')\n",
    "\n",
    "seq.add(rise, 'ising')\n",
    "seq.add(sweep, 'ising')\n",
    "seq.add(fall, 'ising')\n",
    "\n",
    "seq.draw()"
   ]
  },
  {
   "cell_type": "markdown",
   "metadata": {},
   "source": [
    "## Phase Diagram"
   ]
  },
  {
   "cell_type": "markdown",
   "metadata": {},
   "source": [
    "The pulse sequence travels though the following path in the phase diagram of the system (the shaded area represents the antiferromagnetic phase):"
   ]
  },
  {
   "cell_type": "code",
   "execution_count": null,
   "metadata": {},
   "outputs": [],
   "source": [
    "delta = []\n",
    "omega = []\n",
    "for x in seq._schedule['ising']:\n",
    "    if isinstance(x.type,Pulse):\n",
    "        omega += list(x.type.amplitude.samples / U)\n",
    "        delta += list(x.type.detuning.samples / U)\n",
    "        \n",
    "fig, ax = plt.subplots()\n",
    "ax.grid(True, which='both')\n",
    "\n",
    "ax.set_ylabel(r\"$\\hbar\\delta(t)/U$\", fontsize=16)\n",
    "ax.set_xlabel(r\"$\\hbar\\Omega(t)/U$\", fontsize=16)\n",
    "ax.set_xlim(0, 3)\n",
    "ax.axhline(y=0, color='k')\n",
    "ax.axvline(x=0, color='k')\n",
    "\n",
    "y = np.arange(0.0, 6, 0.01)\n",
    "x = 1.522 * (1 - 0.25 * (y - 2)**2)\n",
    "ax.fill_between(x, y, alpha=0.4)\n",
    "\n",
    "ax.plot(omega,delta, 'red', lw=2)\n",
    "plt.show()"
   ]
  },
  {
   "cell_type": "markdown",
   "metadata": {},
   "source": [
    "## Simulation: Spin-Spin Correlation Function"
   ]
  },
  {
   "cell_type": "markdown",
   "metadata": {},
   "source": [
    "We shall now evaluate the quality of the obtained state by calculating the *spin-spin correlation function*, defined as:\n",
    "\n",
    "\n",
    "$$g^c(k,l)= \\frac{1}{N_{k,l}}\\sum_{(i,j) = (kR,lR)} \\left[ \\langle n_i n_j \\rangle - \\langle n_i \\rangle \\langle n_j \\rangle \\right]$$\n",
    "\n",
    "where the $c$ indicates that we are calculating the *connected* part, and where the sum is over all pairs $(i,j)$ whose distance is ${\\bf r}_i - {\\bf r}_j = (k R,l R)$ in the atomic array coordinate (both $k$ and $l$ are positive or negative integers within the size of the array).\n",
    "\n",
    "We run a simulation of the sequence:"
   ]
  },
  {
   "cell_type": "code",
   "execution_count": null,
   "metadata": {},
   "outputs": [],
   "source": [
    "simul = Simulation(seq, sampling_rate=0.02)\n",
    "results = simul.run(progress_bar=True)"
   ]
  },
  {
   "cell_type": "markdown",
   "metadata": {},
   "source": [
    "Sample from final state using `sample_final_state()` method:"
   ]
  },
  {
   "cell_type": "code",
   "execution_count": null,
   "metadata": {},
   "outputs": [],
   "source": [
    "count = results.sample_final_state()\n",
    "\n",
    "most_freq = {k:v for k,v in count.items() if v>10}\n",
    "plt.bar(list(most_freq.keys()), list(most_freq.values()))\n",
    "plt.xticks(rotation='vertical')\n",
    "plt.show()"
   ]
  },
  {
   "cell_type": "markdown",
   "metadata": {},
   "source": [
    "The observable to measure will be the occupation operator $|r\\rangle \\langle r|_i$ on each site $i$ of the register, where the Rydberg state $|r\\rangle$ represents the excited state."
   ]
  },
  {
   "cell_type": "code",
   "execution_count": null,
   "metadata": {},
   "outputs": [],
   "source": [
    "def occupation(j,N):\n",
    "    up = qutip.basis(2,0)\n",
    "    prod = [qutip.qeye(2) for _ in range(N)]\n",
    "    prod[j] = up * up.dag()\n",
    "    return qutip.tensor(prod)"
   ]
  },
  {
   "cell_type": "code",
   "execution_count": null,
   "metadata": {},
   "outputs": [],
   "source": [
    "occup_list = [occupation(j, N_side*N_side) for j in range(N_side*N_side)]"
   ]
  },
  {
   "cell_type": "markdown",
   "metadata": {},
   "source": [
    "We define a function that returns all couples $(i,j)$ for a given $(k,l)$:"
   ]
  },
  {
   "cell_type": "code",
   "execution_count": null,
   "metadata": {},
   "outputs": [],
   "source": [
    "def get_corr_pairs(k, l, register, R_interatomic):\n",
    "    corr_pairs = []\n",
    "    for i, qi in enumerate(register.qubits):\n",
    "        for j, qj in enumerate(register.qubits):\n",
    "            r_ij = register.qubits[qi]-register.qubits[qj]\n",
    "            distance = np.linalg.norm(r_ij - R_interatomic*np.array([k, l]))\n",
    "            if distance < 1:\n",
    "                corr_pairs.append([i, j])\n",
    "    return corr_pairs"
   ]
  },
  {
   "cell_type": "markdown",
   "metadata": {},
   "source": [
    "The correlation function is calculated with the following routines:"
   ]
  },
  {
   "cell_type": "code",
   "execution_count": null,
   "metadata": {},
   "outputs": [],
   "source": [
    "def get_corr_function(k, l, reg, R_interatomic, state):\n",
    "    N_qubits = len(reg.qubits)\n",
    "    corr_pairs = get_corr_pairs(k, l, reg, R_interatomic)\n",
    "    \n",
    "    operators = [occupation(j, N_qubits) for j in range(N_qubits)]\n",
    "    covariance = 0\n",
    "    for qi, qj in corr_pairs:\n",
    "        covariance += qutip.expect(operators[qi]*operators[qj], state)\n",
    "        covariance -= qutip.expect(operators[qi], state)*qutip.expect(operators[qj], state)\n",
    "    return covariance/len(corr_pairs)\n",
    "        \n",
    "def get_full_corr_function(reg, state):\n",
    "    N_qubits = len(reg.qubits)\n",
    "    \n",
    "    correlation_function = {}\n",
    "    N_side = int(np.sqrt(N_qubits))\n",
    "    for k in range(-N_side+1, N_side):\n",
    "        for l in range(-N_side+1, N_side):\n",
    "            correlation_function[(k, l)] = get_corr_function(k, l, reg, R_interatomic, state)\n",
    "    return correlation_function"
   ]
  },
  {
   "cell_type": "markdown",
   "metadata": {},
   "source": [
    "With these functions, we operate on the final state of evolution obtained by our simulation."
   ]
  },
  {
   "cell_type": "code",
   "execution_count": null,
   "metadata": {},
   "outputs": [],
   "source": [
    "final = results.states[-1]\n",
    "correlation_function = get_full_corr_function(reg, final)"
   ]
  },
  {
   "cell_type": "code",
   "execution_count": null,
   "metadata": {},
   "outputs": [],
   "source": [
    "expected_corr_function = {}\n",
    "xi = 1 # Estimated Correlation Length\n",
    "for k in range(-N_side+1,N_side):\n",
    "    for l in range(-N_side+1,N_side):\n",
    "        kk = np.abs(k)\n",
    "        ll = np.abs(l)\n",
    "        expected_corr_function[(k, l)] = (-1)**(kk + ll) * np.exp(-np.sqrt(k**2 + l**2)/xi)"
   ]
  },
  {
   "cell_type": "code",
   "execution_count": null,
   "metadata": {
    "scrolled": false
   },
   "outputs": [],
   "source": [
    "A = 4*np.reshape(list(correlation_function.values()), (2*N_side-1, 2*N_side-1))\n",
    "A = A/np.max(A)\n",
    "B = np.reshape(list(expected_corr_function.values()), (2*N_side-1, 2*N_side-1))\n",
    "B = B*np.max(A)\n",
    "\n",
    "for i, M in enumerate([A.copy(),B.copy()]):\n",
    "    M[N_side-1, N_side-1] = None\n",
    "    plt.figure(figsize=(3.5,3.5))\n",
    "    plt.imshow(M, cmap='coolwarm', vmin=-.6, vmax=.6)\n",
    "    plt.xticks(range(len(M)), [f'{x}' for x in range(-N_side + 1, N_side)])\n",
    "    plt.xlabel(r'$\\mathscr{k}$', fontsize=22)\n",
    "    plt.yticks(range(len(M)), [f'{-y}' for y in range(-N_side + 1, N_side)])\n",
    "    plt.ylabel(r'$\\mathscr{l}$', rotation=0, fontsize=22, labelpad=10)\n",
    "    plt.colorbar(fraction=0.047, pad=0.02)\n",
    "    if i == 0 :plt.title(r'$4\\times\\.g^{(2)}(\\mathscr{k},\\mathscr{l})$ after simulation', fontsize=14)\n",
    "    if i == 1 :plt.title(r'Exponential $g^{(2)}(\\mathscr{k},\\mathscr{l})$ expected', fontsize=14)\n",
    "    plt.show()"
   ]
  },
  {
   "cell_type": "markdown",
   "metadata": {},
   "source": [
    "Note that the correlation function would follow an exponential decay (modulo finite-size effects), which is best observed at larger system sizes (see for example https://arxiv.org/pdf/2012.12268.pdf)"
   ]
  },
  {
   "cell_type": "code",
   "execution_count": null,
   "metadata": {},
   "outputs": [],
   "source": [
    "np.around(A, 4)"
   ]
  },
  {
   "cell_type": "code",
   "execution_count": null,
   "metadata": {},
   "outputs": [],
   "source": [
    "np.around(B, 4)"
   ]
  },
  {
   "cell_type": "markdown",
   "metadata": {},
   "source": [
    "### Néel Structure Factor"
   ]
  },
  {
   "cell_type": "markdown",
   "metadata": {},
   "source": [
    "One way to explore the $\\Omega = 0$ line on the phase diagram is to calculate the *Néel Structure Factor*, $S_{\\text{Néel}}=4 \\times \\sum_{(k,l) \\neq (0,0)} (-1)^{|k|+|l|} g^c(k,l)$, which should be highest when the state is more antiferromagnetic. We will sweep over different values of $\\delta_{\\text{final}}$ to show that the region $0<\\hbar \\delta_{\\text{final}}/U<4$ is indeed where the antiferromagnetic phase takes place."
   ]
  },
  {
   "cell_type": "code",
   "execution_count": null,
   "metadata": {},
   "outputs": [],
   "source": [
    "def get_neel_structure_factor(reg, R_interatomic, state):\n",
    "    N_qubits = len(reg.qubits)\n",
    "    N_side = int(np.sqrt(N_qubits))\n",
    "\n",
    "    st_fac = 0\n",
    "    for k in range(-N_side+1, N_side):\n",
    "        for l in range(-N_side+1, N_side):\n",
    "            kk = np.abs(k)\n",
    "            ll = np.abs(l)\n",
    "            if not (k == 0 and l == 0):\n",
    "                st_fac += 4 * (-1)**(kk + ll) * get_corr_function(k, l, reg, R_interatomic, state)\n",
    "    return st_fac "
   ]
  },
  {
   "cell_type": "code",
   "execution_count": null,
   "metadata": {},
   "outputs": [],
   "source": [
    "def calculate_neel(det, N, Omega_max = 2.3 * 2 * np.pi):\n",
    "    #Setup:\n",
    "    U = Omega_max / 2.3\n",
    "    delta_0 = -6 * U\n",
    "    delta_f = det * U              \n",
    "    \n",
    "    t_rise = 252\n",
    "    t_fall = 500\n",
    "    t_sweep = int((delta_f - delta_0)/(2 * np.pi * 10) * 1000)\n",
    "    t_sweep += 4 - t_sweep % 4 # To be a multiple of the clock period of Chadoq2 (4ns)\n",
    "    \n",
    "    R_interatomic = Chadoq2.rydberg_blockade_radius(U) \n",
    "    reg = Register.rectangle(N, N, R_interatomic)\n",
    "\n",
    "    #Pulse Sequence\n",
    "    rise = Pulse.ConstantDetuning(RampWaveform(t_rise, 0., Omega_max), delta_0, 0.)\n",
    "    sweep = Pulse.ConstantAmplitude(Omega_max, RampWaveform(t_sweep, delta_0, delta_f), 0.)\n",
    "    fall = Pulse.ConstantDetuning(RampWaveform(t_fall, Omega_max, 0.), delta_f, 0.)\n",
    "\n",
    "    seq = Sequence(reg, Chadoq2)\n",
    "    seq.declare_channel('ising', 'rydberg_global')\n",
    "    seq.add(rise, 'ising')\n",
    "    seq.add(sweep, 'ising')\n",
    "    seq.add(fall, 'ising')\n",
    "\n",
    "    simul = Simulation(seq, sampling_rate=0.02)\n",
    "    results = simul.run()\n",
    "    \n",
    "    final = results.states[-1]\n",
    "    return get_neel_structure_factor(reg, R_interatomic, final)                                                                                                                                                                      "
   ]
  },
  {
   "cell_type": "code",
   "execution_count": null,
   "metadata": {
    "scrolled": false
   },
   "outputs": [],
   "source": [
    "N_side = 3\n",
    "occup_list = [occupation(j, N_side*N_side) for j in range(N_side*N_side)]\n",
    "\n",
    "detunings = np.linspace(-1, 5, 20)\n",
    "results=[]\n",
    "for det in detunings:\n",
    "    print(f'Detuning = {np.round(det,3)} x 2π Mhz.')\n",
    "    results.append(calculate_neel(det, N_side))\n",
    "plt.xlabel(r'$\\hbar\\delta_{final}/U$')\n",
    "plt.ylabel(r'Néel Structure Factor $S_{Neel}$')\n",
    "plt.plot(detunings, results, 'o', ls='solid')\n",
    "plt.show()\n",
    "max_index = results.index(max(results))\n",
    "print(f'Max S_Neel {np.round(max(results),2)} at detuning = {np.round(detunings[max_index],2)} x 2π Mhz.')"
   ]
  }
 ],
 "metadata": {
  "kernelspec": {
   "display_name": "Python 3",
   "language": "python",
   "name": "python3"
  },
  "language_info": {
   "codemirror_mode": {
    "name": "ipython",
    "version": 3
   },
   "file_extension": ".py",
   "mimetype": "text/x-python",
   "name": "python",
   "nbconvert_exporter": "python",
   "pygments_lexer": "ipython3",
   "version": "3.8.5"
  }
 },
 "nbformat": 4,
 "nbformat_minor": 4
}