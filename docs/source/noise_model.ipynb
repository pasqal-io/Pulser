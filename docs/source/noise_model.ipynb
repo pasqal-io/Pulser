{
 "cells": [
  {
   "cell_type": "markdown",
   "id": "2304a80e",
   "metadata": {},
   "source": [
    "# Noise Model and Noisy Simulations"
   ]
  },
  {
   "cell_type": "markdown",
   "id": "aa04be35",
   "metadata": {},
   "source": [
    "*What you will learn:*\n",
    "\n",
    "- what are the noises in neutral atom QPUs;\n",
    "- how are they described in a `NoiseModel`;\n",
    "- how to make noisy simulations of a `Sequence` on an emulator `Backend`."
   ]
  },
  {
   "cell_type": "markdown",
   "id": "c8f9d707",
   "metadata": {},
   "source": [
    "## `NoiseModel`: Describing the noises in cold-atom QPUS"
   ]
  },
  {
   "cell_type": "markdown",
   "id": "d09d1de9",
   "metadata": {},
   "source": [
    "Cold atom QPUs are subject to various noises, that are going to make the outcome of the execution of your pulser `Sequence` on QPUs different from their theoretical result. The `NoiseModel` class describes the noises to take into account in a neutral atom QPU. It takes as input parameters that characterize each of these noises."
   ]
  },
  {
   "cell_type": "raw",
   "id": "ab606b0e",
   "metadata": {
    "vscode": {
     "languageId": "raw"
    }
   },
   "source": [
    ".. autoclass:: pulser.noise_model.NoiseModel\n",
    "  :noindex:"
   ]
  },
  {
   "cell_type": "markdown",
   "id": "725df1eb",
   "metadata": {},
   "source": [
    "If you have a `NoiseModel`, you can know the noises that it implements checking its property `noise_types`."
   ]
  },
  {
   "cell_type": "markdown",
   "id": "48a43538",
   "metadata": {},
   "source": [
    "## How to include noises in your simulations"
   ]
  },
  {
   "cell_type": "markdown",
   "id": "7eae260a",
   "metadata": {},
   "source": [
    "Taking into account noises in your simulations is important when designing your pulser `Sequence`, for the outcome of the experiment on the QPU to be close to what you expected. Here is a step-by-step guide on how to run noisy simulations using pulser. It assumes you have already read the [step-by-step guide](./tutorials/backends.nblink) on executing a pulser `Sequence` on a pulser `Backend`."
   ]
  },
  {
   "cell_type": "markdown",
   "id": "0e52debd",
   "metadata": {},
   "source": [
    "### 1. Choosing the type of backend"
   ]
  },
  {
   "cell_type": "markdown",
   "id": "0686bbb7",
   "metadata": {},
   "source": [
    "Simulations are performed by using an **Emulator**, that can be **local or remote**.\n",
    "\n",
    "**Preparation for noisy simulations:**\n",
    "\n",
    "Noises are associated with QPUs. You need a **remote connection** to connect with a QPU. The list of QPUs associated with a remote connection can be obtained through `connection.fetch_available_devices()`. Using this method, you can get the `Device` associated with the QPU. The [Device](./hardware.ipynb) stores a `NoiseModel` in its `noise_model` attribute. You can take into account the noises during the design of your sequence by checking the values of the noise parameters of this `NoiseModel`"
   ]
  },
  {
   "cell_type": "markdown",
   "id": "4428b694",
   "metadata": {},
   "source": [
    "### 2. Creating the pulse Sequence"
   ]
  },
  {
   "cell_type": "markdown",
   "id": "5ff6bdf0",
   "metadata": {},
   "source": [
    "The next step is to create the sequence that we want to execute. If you want to take into account all the limitations of the QPU, it is best to use the `Device` associated with the QPU when writing your `Sequence`."
   ]
  },
  {
   "cell_type": "markdown",
   "id": "2dbd38cc",
   "metadata": {},
   "source": [
    "### 3. Starting the Backend"
   ]
  },
  {
   "cell_type": "markdown",
   "id": "ddea348f",
   "metadata": {},
   "source": [
    "An Emulator backend takes as input:\n",
    "- the `Sequence` to simulate, as all the backends.\n",
    "- a `RemoteConnection` if the emulation backend is a remote backend.\n",
    "- an `EmulatorConfig`, that sets the parameters of the emulation. This field is optional, emulator backends have a default config.\n",
    "\n",
    "The `EmulatorConfig` contains two parameters that configure the noise in the simulation:\n",
    "- prefer_device_noise_model: Whether or not to use the noise model of the device of the Sequence. By default, it is False. If you defined your Sequence using the Device of a QPU, set this parameter to True to use automatically the noise model of this QPU.\n",
    "- noise_model: A specific `NoiseModel` defining the noise to include in the simulation, if prefer_device_noise_model is False. By default, this `NoiseModel` does not include any noise. If you want to use a different NoiseModel for your simulation than the `NoiseModel` of your Sequence's Device, you can provide it here. Possible usecases: \n",
    "    - You have used a [VirtualDevice](./tutorials/virtual_devices.nblink) for your Sequence, and now want to include noise.\n",
    "    - You would like to see how the noise of another QPU would impact your Sequence.\n",
    "    - You would like to see the influence of a certain noise on the execution of your Sequence. NoiseModels are python `dataclasses`, you can modify them with `dataclasses.replace`. For instance, to delete a certain noise parameter \"attr\", you can do `dataclasses.replace(noise_model, attr=None)`."
   ]
  },
  {
   "cell_type": "markdown",
   "id": "42e8b183",
   "metadata": {},
   "source": [
    "### 4. Execution\n",
    "\n",
    "The execution is always done via the `run` method, using `job_params` to define the number of `runs` performed. Some noises are stochastic: for each run defined by `job_params`, multiple simulations are performed, and the stored result is the average outcome of these simulations. The number of simulations performed per Job's run is determined by `NoiseModel.runs`. If you want to sample multiple times each of these sub-simulations, you can set `NoiseModel.samples_per_run` to more than 1. \n",
    "\n"
   ]
  },
  {
   "cell_type": "markdown",
   "id": "06c55074",
   "metadata": {},
   "source": [
    "### 5. Retrieving the Results"
   ]
  },
  {
   "cell_type": "markdown",
   "id": "dce721f0",
   "metadata": {},
   "source": [
    "The returned results are sequence of `Results` objects, containing one `Results` object per `job_params`. Each of these `Results` objects contain `job_params.runs` outcomes."
   ]
  }
 ],
 "metadata": {
  "language_info": {
   "name": "python"
  }
 },
 "nbformat": 4,
 "nbformat_minor": 5
}
