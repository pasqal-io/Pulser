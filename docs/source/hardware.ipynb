{
 "cells": [
  {
   "cell_type": "markdown",
   "metadata": {},
   "source": [
    "# Hardware constraints in Pulser Sequence"
   ]
  },
  {
   "cell_type": "markdown",
   "metadata": {},
   "source": [
    "*What you will learn:*\n",
    "- what are the constraints introduced by a `Device` ? by a `Channel` ?\n",
    "- how to pick the `Device` to program your pulser `Sequence` ? "
   ]
  },
  {
   "cell_type": "markdown",
   "metadata": {},
   "source": [
    "## The `Device`"
   ]
  },
  {
   "cell_type": "markdown",
   "metadata": {},
   "source": [
    "As presented in the [introduction to programming a neutral-atom QPU](programming.md#writing-a-pulser-program), the first step to writing a Pulser program is [the selection of a Device](programming.md#pick-a-device). \n",
    "\n",
    "The `Device` object stores **all the physical constraints a quantum program written with `Pulser` should verify**, for it to be run on a neutral-atom QPU. The quantum programs, the `pulser.Sequence`, verify that each operation added to them are valid with respect to the constraints of the `Device`.  "
   ]
  },
  {
   "cell_type": "markdown",
   "metadata": {},
   "source": [
    "### Where to look for a `Device`"
   ]
  },
  {
   "cell_type": "markdown",
   "metadata": {},
   "source": [
    "<div class=\"alert alert-info\">\n",
    "\n",
    "**Important notes**:\n",
    "\n",
    "\n",
    "The `Device` represents the physics of a neutral-atom QPU but is not the QPU itself. A QPU must be accessed via a `Backend`, which is presented [in this notebook](./apidoc/backend.rst).\n",
    "\n",
    "</div>"
   ]
  },
  {
   "cell_type": "markdown",
   "metadata": {},
   "source": [
    "If you want to run a quantum program on a QPU, start by selecting the `Backend` associated with this QPU. From this `Backend` the `Device` associated with the QPU can be accessed via the `get_available_devices` method.\n",
    "\n",
    "If you don't have access to a QPU or don't have particular QPU in mind, `Pulser` provides examples of typical physical devices in `pulser.devices`. Notably, `pulser.AnalogDevice` is an example of a QPU implementing an [Ising Hamiltonian](./programming.md#ising-hamiltonian). \n",
    "\n",
    "If you want don't want to be bothered by any or part of the physical constraints during the writing of your quantum program, you can use a `VirtualDevice`. An example of such a `VirtualDevice` is the `MockDevice` provided in the `pulser.devices`, which gives full liberty to write a quantum program. `VirtualDevice` is detailed in [an advanced tutorial](./tutorials/virtual_devices.nblink)."
   ]
  },
  {
   "cell_type": "markdown",
   "metadata": {},
   "source": [
    "<div class=\"alert alert-info\">\n",
    "\n",
    "**Note**:\n",
    "\n",
    "It is possible to change the set of constraints with which a `Sequence` was built, by using `Sequence.switch_device`. This is especially useful if you built your `Sequence` with an example of a `Device` like `AnalogDevice`, and now want to run it on a QPU, or if you want to run it on a different QPU than initially planned.\n",
    "\n",
    "</div>"
   ]
  },
  {
   "cell_type": "markdown",
   "metadata": {},
   "source": [
    "<center>\n",
    "<img src=\"files/decision_diagram_device.png\" alt=\"Decision Diagram to select a Device for the computation\" width=\"600\">\n",
    "</center>\n"
   ]
  },
  {
   "cell_type": "markdown",
   "metadata": {},
   "source": [
    "### Selecting your `Device`"
   ]
  },
  {
   "cell_type": "markdown",
   "metadata": {},
   "source": [
    "Now that you know where to look for `Devices`, you might want know how to choose the one matching your usecase. The device specifications are here to guide your choice:"
   ]
  },
  {
   "cell_type": "code",
   "execution_count": null,
   "metadata": {},
   "outputs": [],
   "source": [
    "import pulser\n",
    "\n",
    "print(pulser.AnalogDevice.specs)"
   ]
  },
  {
   "cell_type": "markdown",
   "metadata": {},
   "source": [
    "The `Device` is going to constrain the next steps of your [quantum program](./programming.md#writing-a-pulser-program):\n",
    "\n",
    "- \"Register\" and \"Layout\" parameters are going to constrain the creation of your `Register`, that is, the number of atoms you can use and how you can place them in place. [As a reminder](programming.md#create-the-register), this impacts the [interaction strength in the interaction Hamiltonian](programming.md#interaction-hamiltonian). The creation of a `Register` is presented here. If the `Device` requires a `Layout` (as in the example here), then you have to associate a `RegisterLayout` to the `Register`, which adds more constraints. Check [this tutorial](./tutorials/reg_layouts.nblink) to see how to do it.\n",
    "\n",
    "- Among the \"Device\" parameters, the \"Rydberg level\" is going to complete the determination of the [interaction strength in the interaction Hamiltonian](programming.md#interaction-hamiltonian). This level determines the \"Ising interaction coefficient\", which is the $C_6$ coefficient of the [Ising Hamiltonian](./programming.md#ising-hamiltonian). The quantity $\\frac{C_6}{\\hbar}$ is accessible via `pulser.AnalogDevice.interaction_coeff`.\n",
    "\n",
    "- The \"Channels\" are going to determine what [`Channels` are available for the computation](programming.md#pick-the-channels). The type of the available channels are going to define the \"supported bases\" and \"supported states\" among the Device parameters. Knowing what states you want to use in your computation, you can first check that they are among the \"supported states\", then find the bases and their associated channel that enable to use these states using [the conventions page](conventions.md#bases).\n",
    "\n",
    "- The \"Maximum sequence duration\" constrains the duration of the [`Pulses` you can add](programming.md#4-add-the-pulses), and therefore the Hamiltonian describing the system can at most be defined between 0 and this value.\n",
    "\n",
    "- The \"Maximum number of runs\" limits the number of runs a quantum program can be executed on the QPU. See the section on `Backends` to read more about this."
   ]
  },
  {
   "cell_type": "markdown",
   "metadata": {},
   "source": [
    "<div class=\"alert alert-info\">\n",
    "\n",
    "**Note**:\n",
    "\n",
    "Other parameters are being defined in the `Device`. You can see the effect of each them in the [API documentation](./apidoc/core.rst#Devices).\n",
    "\n",
    "</div>"
   ]
  },
  {
   "cell_type": "markdown",
   "metadata": {},
   "source": [
    "### The `AnalogDevice`"
   ]
  },
  {
   "cell_type": "markdown",
   "metadata": {},
   "source": [
    "The `pulser.AnalogDevice` only supports the $\\left|r\\right>$ and $\\left|g\\right>$ states, because it only supports one channel of type \"Rydberg\". It implements the [Ising Hamiltonian](programming.md#ising-hamiltonian), that can be defined between 0 and 4000ns max. \n",
    "\n",
    "$$\\frac{H}{\\hbar}(t) = \\sum_i \\left (\\frac{\\Omega(t)}{2} e^{-j\\phi} |g\\rangle\\langle r|_i + \\frac{\\Omega(t)}{2} e^{j\\phi} |r\\rangle\\langle g|_i - \\delta(t) |r\\rangle\\langle r|_i(t) + \\sum_{j<i}\\frac{C_6}{\\hbar R_{ij}^6} \\hat{n}_i \\hat{n}_j \\right)\n",
    "$$\n",
    "\n",
    "The `Channel` can be declared using its name \"rydberg_global\", but this object contains a lot more constraints. Let's dive into them. "
   ]
  },
  {
   "cell_type": "markdown",
   "metadata": {},
   "source": [
    "## The `Channels`"
   ]
  },
  {
   "cell_type": "markdown",
   "metadata": {},
   "source": [
    "The third step to writing a Pulser program is [the selection of `Channels` among the `Device`](programming.md#pick-a-device).\n",
    "\n",
    "As a reminder, the selection of a `Channel` defines the [interaction Hamiltonian](programming.md#interaction-hamiltonian) and [the driving Hamiltonian](programming.md#driving-hamiltonian) $H_D$.\n",
    "\n",
    "$$\n",
    "H^D(t) / \\hbar = \\frac{\\Omega(t)}{2} e^{-j\\phi} |a\\rangle\\langle b| + \\frac{\\Omega(t)}{2} e^{j\\phi} |b\\rangle\\langle a| - \\delta(t) |b\\rangle\\langle b|\n",
    "$$\n",
    "\n",
    "The `Channel`s available for selection are stored in the `channels` property of the `Device`, a dictionnary associating a name to a `Channel`. Let's have a look at the only channel available in `AnalogDevice`, the \"rydberg_global\" channel:"
   ]
  },
  {
   "cell_type": "code",
   "execution_count": null,
   "metadata": {},
   "outputs": [],
   "source": [
    "import pulser\n",
    "\n",
    "print(pulser.AnalogDevice.channels[\"rydberg_global\"])"
   ]
  },
  {
   "cell_type": "markdown",
   "metadata": {},
   "source": [
    "The channel is characterized by:\n",
    "\n",
    "- Its type, `Rydberg`, that defines the [states](conventions.md#bases) that can be addressed by the [driving Hamiltonian](programming.md#driving-hamiltonian) if this channel is picked. The `Rydberg` channel defines $\\left|b\\right>=\\left|r\\right>$ and $\\left|a\\right>=\\left|g\\right>$. All the type of channels can be found [here](conventions.md#bases).\n",
    "- Its addressing, `Global`, which means that any Pulse added to this channel will implement the same driving Hamiltonian on all the atoms.\n",
    "- Other parameters, that are going to set constraints on the quantities of the `Pulses` that can be added to the channel:\n",
    "    - the **duration** of the pulse is constrained by the minimum and maximum pulse duration, as well as the clock period (it has to be a multiple of the clock period).\n",
    "    - the **amplitude** is limited by the maximum amplitude.\n",
    "    - the **detuning** is limited by the maximum absolute detuning."
   ]
  },
  {
   "cell_type": "markdown",
   "metadata": {},
   "source": [
    "<div class=\"alert alert-info\">\n",
    "\n",
    "**Note**:\n",
    "\n",
    "The modulation bandwidth and the EOM support are associated with more advanced features explained [in this tutorial](./tutorials/output_mod_eom.nblink). For a full list of the parameters of a `Channel` and the constraints they set, please check the [API documentation](./apidoc/core.rst#channels).\n",
    "\n",
    "</div>"
   ]
  }
 ],
 "metadata": {
  "kernelspec": {
   "display_name": "pulserenv",
   "language": "python",
   "name": "python3"
  },
  "language_info": {
   "codemirror_mode": {
    "name": "ipython",
    "version": 3
   },
   "file_extension": ".py",
   "mimetype": "text/x-python",
   "name": "python",
   "nbconvert_exporter": "python",
   "pygments_lexer": "ipython3",
   "version": "3.12.3"
  }
 },
 "nbformat": 4,
 "nbformat_minor": 2
}
