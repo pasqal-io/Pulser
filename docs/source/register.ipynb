{
 "cells": [
  {
   "cell_type": "markdown",
   "id": "2a6852ac-a3b9-4114-85ac-2be21c6633b0",
   "metadata": {},
   "source": [
    "# Register and Rydberg-Atom Interactions"
   ]
  },
  {
   "cell_type": "markdown",
   "id": "e6b26e9c",
   "metadata": {},
   "source": [
    "*What you will learn:*\n",
    "- what is a `Register` and how to create it;\n",
    "- why the relative position of the atoms in a `Register` is important;\n",
    "- what is the Rydberg blockade effect;\n",
    "- how to tune the position of the atoms, depending on the application."
   ]
  },
  {
   "cell_type": "markdown",
   "id": "979ebffc-2017-4b9c-8aa3-27bceda01d38",
   "metadata": {},
   "source": [
    "## The `Register`\n",
    "\n",
    "The `Register` is a group of trapped atoms in a defined (but reconfigurable) configuration. Each atom holds a specific quantum state encoded in specific electronic levels. Usually these are two-level systems and we refer to them as **qubits**.\n",
    "\n",
    "There are multiple ways to define a `Register`, the most customizable one being to create a dictionary that associates a name (the key) to a cooordinate (the value)."
   ]
  },
  {
   "cell_type": "code",
   "execution_count": null,
   "id": "6b039af2-22d5-47ad-bc8a-97ef57737b08",
   "metadata": {},
   "outputs": [],
   "source": [
    "import numpy as np\n",
    "import pulser\n",
    "\n",
    "# Manually generate the coordinates of a 4x4 square with 5μm spacing\n",
    "L = 4\n",
    "square = np.array([[i, j] for i in range(L) for j in range(L)], dtype=float)\n",
    "square -= np.mean(square, axis=0)\n",
    "square *= 5\n",
    "\n",
    "qubits = {f\"q{i}\": coord for i, coord in enumerate(square)}\n",
    "reg = pulser.Register(qubits)\n",
    "reg.draw()"
   ]
  },
  {
   "cell_type": "markdown",
   "id": "66df3519-7d33-4557-8d6d-ac9fb179b380",
   "metadata": {},
   "source": [
    "If one doesn't particularly care about the name given to the qubits, one can also create a `Register` just from a list of coordinates (using the `Register.from_coordinates` class method). In this case, the qubit ID's are just numbered, starting from 0, in the order they are provided in, with the option of adding a common prefix before each number. Also, it automatically centers the entire array around the origin, an option that can be disabled if desired."
   ]
  },
  {
   "cell_type": "code",
   "execution_count": null,
   "id": "0a265ebd-d379-4ba3-b735-bae87216c176",
   "metadata": {},
   "outputs": [],
   "source": [
    "import pulser\n",
    "\n",
    "reg2 = pulser.Register.from_coordinates(\n",
    "    square,\n",
    "    prefix=\"q\",\n",
    ")  # All qubit IDs will start with 'q'\n",
    "print(\"Qubit IDs:\", reg2.qubit_ids)"
   ]
  },
  {
   "cell_type": "markdown",
   "id": "5fac062c-b653-4c32-84c9-f72b3b8e8334",
   "metadata": {},
   "source": [
    "Furthermore, there are also built-in class methods for creation of common array patterns:"
   ]
  },
  {
   "cell_type": "code",
   "execution_count": null,
   "id": "d19ac858-9421-48fb-8f91-ced60373a91f",
   "metadata": {},
   "outputs": [],
   "source": [
    "from pulser import Register\n",
    "\n",
    "# 3x3 register with 6μm spacing\n",
    "square_reg = Register.square(side=3, spacing=6.0, prefix=\"q\")\n",
    "# 4x2 register with 5μm spacing\n",
    "rect_reg = Register.rectangle(rows=4, columns=2, spacing=5.0, prefix=\"q\")\n",
    "# 3x2 register with 5μm spacing between rows and 7μm spacing between columns\n",
    "rect_lattice_reg = Register.rectangular_lattice(\n",
    "    rows=3, columns=2, row_spacing=5.0, col_spacing=7.0, prefix=\"q\"\n",
    ")\n",
    "# 4x3 triangular lattice with 6μm spacing\n",
    "tri_reg = Register.triangular_lattice(\n",
    "    rows=4, atoms_per_row=3, spacing=6.0, prefix=\"q\"\n",
    ")\n",
    "# An hexagonal cutout of a triangular lattice with 3 layers and 8μm spacing\n",
    "hex_reg = Register.hexagon(layers=3, spacing=8.0, prefix=\"q\")"
   ]
  },
  {
   "cell_type": "markdown",
   "id": "a05f8e2d",
   "metadata": {},
   "source": [
    "For more information on all the `Register` methods, please refer to the [Register API reference](apidoc/core.rst#pulser.register.register.Register)."
   ]
  },
  {
   "cell_type": "markdown",
   "id": "cd280505",
   "metadata": {},
   "source": [
    "## Rydberg-Atom Interactions\n",
    "\n",
    "When excited to a Rydberg state, nearby atoms interact according to the [interaction Hamiltonian](programming.md#interaction-hamiltonian). The interaction strength is always dependent on the distance between atoms and is stronger the closer they are. Therefore, appropriately selecting the atoms' relative positions is a crucial step in the programming of neutral-atom QPUs. \n",
    "\n",
    "In the most common case of the [Ising Hamiltonian](programming.md#ising-hamiltonian), the interaction operator is given by\n",
    "\n",
    "$$\n",
    "\\hat{U}_{ij} = \\frac{C_6}{R_{ij}^6} \\hat{n}_i \\hat{n}_j,\n",
    "$$\n",
    "\n",
    "where \n",
    "\n",
    "- the interaction strength is $\\frac{C_6}{R_{ij}^6}$, with $C_6$ a coefficient that depends on the principal quantum number of the Rydberg state the atoms are excited to;\n",
    "- the entangling operator between atom $i$ and $j$ is $\\hat{n}_i\\hat{n}_j = |r\\rangle\\langle r|_i |r\\rangle\\langle r|_j$. \n",
    "\n",
    "Note that:\n",
    "\n",
    "1. The interaction strength scales with $R_{ij}^{-6}$, underlying a strong decay with distance.\n",
    "2. There is only an interaction when both atoms are in their respective Rydberg states, $|r\\rangle_i$ and $|r\\rangle_j$."
   ]
  },
  {
   "cell_type": "markdown",
   "id": "7023920c",
   "metadata": {},
   "source": [
    "## The Rydberg Blockade \n",
    "\n",
    "The *Rydberg blockade effect* is an expression of the interaction between two Rydberg atoms that provides a useful approximation for determining when two atoms are within the interaction range of one another. \n",
    "\n",
    "Consider a system of two atoms in the $|gg\\rangle$ state that we want to excite to the $|rr\\rangle$ state. The interaction Hamiltonian dictates that there is an energy penalty of $\\frac{C_6}{R_{ij}^6}$ for being in the $|rr\\rangle$ state - that is to say, the energy of the $|rr\\rangle$ state is shifted by this amount.\n",
    "\n",
    "If we try to excite this system to the $|rr\\rangle$ state with a resonant pulse ($\\delta=0$) of Rabi frequency $\\Omega$, the excitation is suppressed when $\\hbar\\Omega << C_6/R_{ij}$, i.e the energy of the driving term is not sufficient to overcome the extra cost of having the system in in the $|rr\\rangle$ state.\n",
    "\n",
    "Equivalently, this condition is verified when $R_{ij} << R_b$, where\n",
    "\n",
    "$$R_b = \\left(\\frac{C_6}{\\hbar\\Omega}\\right)^{(1/6)}$$\n",
    "\n",
    "is the **Rydberg blockade radius**. When $R_{ij}$ is well within the Rydberg blockade radius, the system is instead excited to $(|gr\\rangle + |rg\\rangle)/\\sqrt{2}$ - notably, an entangle state - with effective Rabi frequency $\\sqrt{2}\\Omega$. Conversely, the transition to $|rr\\rangle$ occurs when the atoms are well *outside* the Rydberg blockade radius.\n",
    "\n",
    "<center>\n",
    "    <img src=\"files/rydberg_blockade.png\" alt=\"Rydberg blockade effect\" width=\"400\">\n",
    "    <figcaption>There is no simultaneous transition to the doubly excited state inside the blockade radius.</figcaption>\n",
    "</center>\n",
    "\n",
    "**Important notes**:\n",
    "\n",
    "- The Rydberg blockade radius is only a useful approximation to reason about whether two atoms interact significantly; it *should not* be interpreted as a discrete threshold beyond which there are no interactions.\n",
    "- In fact, the approximation is least adequate for values of $R_{ij} \\approx R_b$, so placing atoms at distances close to $R_b$ should be done extra carefully.\n",
    "- Furthermore, $R_b$ depends on the Rabi frequency $\\Omega$; as such, **fixing** $R_b$ **also determines** $\\Omega$ and vice-versa. "
   ]
  },
  {
   "cell_type": "markdown",
   "id": "935fb6c0",
   "metadata": {},
   "source": [
    "### Estimating the Rydberg blockade radius\n",
    "\n",
    "The `Device` class includes methods to calculate the Rydberg blockade radius for a given value of Rabi frequency and vice-versa."
   ]
  },
  {
   "cell_type": "code",
   "execution_count": null,
   "id": "164cde0c",
   "metadata": {},
   "outputs": [],
   "source": [
    "import pulser\n",
    "\n",
    "# Blockade radius from Rabi frequency\n",
    "omega = 1  # rad/μs\n",
    "rb = pulser.AnalogDevice.rydberg_blockade_radius(omega)  # μm\n",
    "print(f\"Rydberg blockade radius for Ω={omega} rad/μs: {rb} μm\")\n",
    "\n",
    "# Rabi frequency from Blockade radius\n",
    "rb = 8\n",
    "omega = pulser.AnalogDevice.rabi_from_blockade(rb)  # rad/μs\n",
    "print(f\"Rydberg blockade radius for Ω={omega} rad/μs: {rb} μm\")"
   ]
  },
  {
   "cell_type": "markdown",
   "id": "4c39956e",
   "metadata": {},
   "source": [
    "### Visualising interactions\n",
    "\n",
    "The `Register.draw()` method includes options to plot the Rydberg blockade radius and identifiy interacting atoms. By specifying a value for `blockade_radius`,\n",
    "- `draw_half_radius=True` draws circles with **half** the Rydberg blockade radius, so that when two circles overlap, the atoms are within a blockade radius of each other;\n",
    "- `draw_graph=True` draws edges between the atoms within a blockade radius of each other, creating an approximate connectivity graph for the atoms in the system."
   ]
  },
  {
   "cell_type": "code",
   "execution_count": null,
   "id": "6d1aa660",
   "metadata": {},
   "outputs": [],
   "source": [
    "from pulser import Register\n",
    "\n",
    "# 4x3 triangular lattice with 6μm spacing\n",
    "tri_reg = Register.triangular_lattice(\n",
    "    rows=4, atoms_per_row=3, spacing=6.0, prefix=\"q\"\n",
    ")\n",
    "# Draw the interactions for Rb=7 μm\n",
    "tri_reg.draw(\n",
    "    blockade_radius=7,  # μm\n",
    "    draw_half_radius=True,  # Draws circles with radius Rb/2\n",
    "    draw_graph=True,  # Draws edges between interacting atoms\n",
    ")"
   ]
  },
  {
   "cell_type": "markdown",
   "id": "ce1defb6",
   "metadata": {},
   "source": [
    "## Tips for `Register` design"
   ]
  },
  {
   "cell_type": "markdown",
   "id": "12f85b91",
   "metadata": {},
   "source": [
    "Choosing the best position for the atoms in a `Register` is generally a hard problem and depends heavily on the application. In this section, we provide some strategies that, while far from comprehensive, may help in the `Register` creation process in specfic cases."
   ]
  },
  {
   "cell_type": "markdown",
   "id": "40247508",
   "metadata": {},
   "source": [
    "### Think of the full Hamiltonian\n",
    "\n",
    "When using a neutral-atom QPU to simulate a quantum many-body system, it is important to remember that the interaction Hamiltonian is but one part of the full Hamiltonian. In particular, the strength of the interaction terms must always be considered in relation to the driving Hamiltonian terms (i.e. $\\Omega$ and $\\delta$). \n",
    "\n",
    "Take the example of [AFM state preparation](tutorials/creating.nblink#Adiabatic-preparation-of-an-Anti-Ferromagnetic-State), where the interaction strength must be balanced with the appropriate value of $\\delta>0$; without taking the full Hamiltonian into account, we could end up with:\n",
    "- $\\delta$ too low, which would not promote atoms to the $|r\\rangle$ state, or\n",
    "- $\\delta$ too high, which would make all atoms go to the $|r\\rangle$, regardless of their nearest neighbours being also in $|r\\rangle$.\n",
    "\n",
    "In these cases, it is only by first considering the full Hamiltonian that we are able to correctly design the register."
   ]
  },
  {
   "cell_type": "markdown",
   "id": "c05632f6",
   "metadata": {},
   "source": [
    "### Encode a cost function\n",
    "\n",
    "Akin to a penalty term in a cost function, the interaction Hamiltonian makes some quantum states energetically less favourable. By appropriately adjusting the distances between atoms, the penalty of specific configurations can sometimes be replicated in the interaction Hamiltonian.\n",
    "\n",
    "Examples where this approach is useful include:\n",
    "- some instances of [QUBO](https://en.wikipedia.org/wiki/Quadratic_unconstrained_binary_optimization) problems,\n",
    "- other optimization problems where the ground-state of the Hamiltonian encodes a minimizer of the cost function.\n"
   ]
  },
  {
   "cell_type": "markdown",
   "id": "bc0b100b",
   "metadata": {},
   "source": [
    "### Start from a connectivity graph\n",
    "\n",
    "In some problems, we only care if some atoms interact while others don't, not the strength of the interactions. In these cases, the Rybderg blockade radius provides a useful approximation by allowing us to place interacting atoms well within a blockade radius of each other and non-interacting atoms well outside it. This approach is particularly straigthfoward when the connectivity graph can be represented as a [Unit-Disk graph](https://en.wikipedia.org/wiki/Unit_disk_graph). \n",
    "\n",
    "Examples where this approach is useful include:\n",
    "- finding the Maximum Independent Set of a Unit-Disk graph,\n",
    "- placing atoms for execution of multi-qubit gates."
   ]
  }
 ],
 "metadata": {
  "kernelspec": {
   "display_name": "__venv__",
   "language": "python",
   "name": "python3"
  },
  "language_info": {
   "codemirror_mode": {
    "name": "ipython",
    "version": 3
   },
   "file_extension": ".py",
   "mimetype": "text/x-python",
   "name": "python",
   "nbconvert_exporter": "python",
   "pygments_lexer": "ipython3",
   "version": "3.10.12"
  }
 },
 "nbformat": 4,
 "nbformat_minor": 5
}
